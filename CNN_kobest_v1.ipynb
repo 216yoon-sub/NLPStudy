{
  "nbformat": 4,
  "nbformat_minor": 0,
  "metadata": {
    "colab": {
      "provenance": []
    },
    "kernelspec": {
      "name": "python3",
      "display_name": "Python 3"
    },
    "language_info": {
      "name": "python"
    },
    "widgets": {
      "application/vnd.jupyter.widget-state+json": {
        "e58a178d520346adba24b4ca7caa218e": {
          "model_module": "@jupyter-widgets/controls",
          "model_name": "HBoxModel",
          "model_module_version": "1.5.0",
          "state": {
            "_dom_classes": [],
            "_model_module": "@jupyter-widgets/controls",
            "_model_module_version": "1.5.0",
            "_model_name": "HBoxModel",
            "_view_count": null,
            "_view_module": "@jupyter-widgets/controls",
            "_view_module_version": "1.5.0",
            "_view_name": "HBoxView",
            "box_style": "",
            "children": [
              "IPY_MODEL_4b5419259ef7482a8b3fcf0535187277",
              "IPY_MODEL_2832febbfc36423ca1fbd031c66c740f",
              "IPY_MODEL_f4d8aef818dc4f02aa931a5cb8f48126"
            ],
            "layout": "IPY_MODEL_018a3258e08f4f7899f8d950bbb3d6c6"
          }
        },
        "4b5419259ef7482a8b3fcf0535187277": {
          "model_module": "@jupyter-widgets/controls",
          "model_name": "HTMLModel",
          "model_module_version": "1.5.0",
          "state": {
            "_dom_classes": [],
            "_model_module": "@jupyter-widgets/controls",
            "_model_module_version": "1.5.0",
            "_model_name": "HTMLModel",
            "_view_count": null,
            "_view_module": "@jupyter-widgets/controls",
            "_view_module_version": "1.5.0",
            "_view_name": "HTMLView",
            "description": "",
            "description_tooltip": null,
            "layout": "IPY_MODEL_11ab6f5eefc3462b95234848ab26ff22",
            "placeholder": "​",
            "style": "IPY_MODEL_aadce5b190f14c6c8a50583cb22a93d7",
            "value": "Downloading builder script: 100%"
          }
        },
        "2832febbfc36423ca1fbd031c66c740f": {
          "model_module": "@jupyter-widgets/controls",
          "model_name": "FloatProgressModel",
          "model_module_version": "1.5.0",
          "state": {
            "_dom_classes": [],
            "_model_module": "@jupyter-widgets/controls",
            "_model_module_version": "1.5.0",
            "_model_name": "FloatProgressModel",
            "_view_count": null,
            "_view_module": "@jupyter-widgets/controls",
            "_view_module_version": "1.5.0",
            "_view_name": "ProgressView",
            "bar_style": "success",
            "description": "",
            "description_tooltip": null,
            "layout": "IPY_MODEL_7c0cf444f5d442668f74c1685ecdec28",
            "max": 8946,
            "min": 0,
            "orientation": "horizontal",
            "style": "IPY_MODEL_a57905ce459e41d3bc06ba778768ff2e",
            "value": 8946
          }
        },
        "f4d8aef818dc4f02aa931a5cb8f48126": {
          "model_module": "@jupyter-widgets/controls",
          "model_name": "HTMLModel",
          "model_module_version": "1.5.0",
          "state": {
            "_dom_classes": [],
            "_model_module": "@jupyter-widgets/controls",
            "_model_module_version": "1.5.0",
            "_model_name": "HTMLModel",
            "_view_count": null,
            "_view_module": "@jupyter-widgets/controls",
            "_view_module_version": "1.5.0",
            "_view_name": "HTMLView",
            "description": "",
            "description_tooltip": null,
            "layout": "IPY_MODEL_f7a65300995b4d2ca52786dc20b25234",
            "placeholder": "​",
            "style": "IPY_MODEL_15eb20004c7f4bf2ac5da6dff06b4e71",
            "value": " 8.95k/8.95k [00:00&lt;00:00, 487kB/s]"
          }
        },
        "018a3258e08f4f7899f8d950bbb3d6c6": {
          "model_module": "@jupyter-widgets/base",
          "model_name": "LayoutModel",
          "model_module_version": "1.2.0",
          "state": {
            "_model_module": "@jupyter-widgets/base",
            "_model_module_version": "1.2.0",
            "_model_name": "LayoutModel",
            "_view_count": null,
            "_view_module": "@jupyter-widgets/base",
            "_view_module_version": "1.2.0",
            "_view_name": "LayoutView",
            "align_content": null,
            "align_items": null,
            "align_self": null,
            "border": null,
            "bottom": null,
            "display": null,
            "flex": null,
            "flex_flow": null,
            "grid_area": null,
            "grid_auto_columns": null,
            "grid_auto_flow": null,
            "grid_auto_rows": null,
            "grid_column": null,
            "grid_gap": null,
            "grid_row": null,
            "grid_template_areas": null,
            "grid_template_columns": null,
            "grid_template_rows": null,
            "height": null,
            "justify_content": null,
            "justify_items": null,
            "left": null,
            "margin": null,
            "max_height": null,
            "max_width": null,
            "min_height": null,
            "min_width": null,
            "object_fit": null,
            "object_position": null,
            "order": null,
            "overflow": null,
            "overflow_x": null,
            "overflow_y": null,
            "padding": null,
            "right": null,
            "top": null,
            "visibility": null,
            "width": null
          }
        },
        "11ab6f5eefc3462b95234848ab26ff22": {
          "model_module": "@jupyter-widgets/base",
          "model_name": "LayoutModel",
          "model_module_version": "1.2.0",
          "state": {
            "_model_module": "@jupyter-widgets/base",
            "_model_module_version": "1.2.0",
            "_model_name": "LayoutModel",
            "_view_count": null,
            "_view_module": "@jupyter-widgets/base",
            "_view_module_version": "1.2.0",
            "_view_name": "LayoutView",
            "align_content": null,
            "align_items": null,
            "align_self": null,
            "border": null,
            "bottom": null,
            "display": null,
            "flex": null,
            "flex_flow": null,
            "grid_area": null,
            "grid_auto_columns": null,
            "grid_auto_flow": null,
            "grid_auto_rows": null,
            "grid_column": null,
            "grid_gap": null,
            "grid_row": null,
            "grid_template_areas": null,
            "grid_template_columns": null,
            "grid_template_rows": null,
            "height": null,
            "justify_content": null,
            "justify_items": null,
            "left": null,
            "margin": null,
            "max_height": null,
            "max_width": null,
            "min_height": null,
            "min_width": null,
            "object_fit": null,
            "object_position": null,
            "order": null,
            "overflow": null,
            "overflow_x": null,
            "overflow_y": null,
            "padding": null,
            "right": null,
            "top": null,
            "visibility": null,
            "width": null
          }
        },
        "aadce5b190f14c6c8a50583cb22a93d7": {
          "model_module": "@jupyter-widgets/controls",
          "model_name": "DescriptionStyleModel",
          "model_module_version": "1.5.0",
          "state": {
            "_model_module": "@jupyter-widgets/controls",
            "_model_module_version": "1.5.0",
            "_model_name": "DescriptionStyleModel",
            "_view_count": null,
            "_view_module": "@jupyter-widgets/base",
            "_view_module_version": "1.2.0",
            "_view_name": "StyleView",
            "description_width": ""
          }
        },
        "7c0cf444f5d442668f74c1685ecdec28": {
          "model_module": "@jupyter-widgets/base",
          "model_name": "LayoutModel",
          "model_module_version": "1.2.0",
          "state": {
            "_model_module": "@jupyter-widgets/base",
            "_model_module_version": "1.2.0",
            "_model_name": "LayoutModel",
            "_view_count": null,
            "_view_module": "@jupyter-widgets/base",
            "_view_module_version": "1.2.0",
            "_view_name": "LayoutView",
            "align_content": null,
            "align_items": null,
            "align_self": null,
            "border": null,
            "bottom": null,
            "display": null,
            "flex": null,
            "flex_flow": null,
            "grid_area": null,
            "grid_auto_columns": null,
            "grid_auto_flow": null,
            "grid_auto_rows": null,
            "grid_column": null,
            "grid_gap": null,
            "grid_row": null,
            "grid_template_areas": null,
            "grid_template_columns": null,
            "grid_template_rows": null,
            "height": null,
            "justify_content": null,
            "justify_items": null,
            "left": null,
            "margin": null,
            "max_height": null,
            "max_width": null,
            "min_height": null,
            "min_width": null,
            "object_fit": null,
            "object_position": null,
            "order": null,
            "overflow": null,
            "overflow_x": null,
            "overflow_y": null,
            "padding": null,
            "right": null,
            "top": null,
            "visibility": null,
            "width": null
          }
        },
        "a57905ce459e41d3bc06ba778768ff2e": {
          "model_module": "@jupyter-widgets/controls",
          "model_name": "ProgressStyleModel",
          "model_module_version": "1.5.0",
          "state": {
            "_model_module": "@jupyter-widgets/controls",
            "_model_module_version": "1.5.0",
            "_model_name": "ProgressStyleModel",
            "_view_count": null,
            "_view_module": "@jupyter-widgets/base",
            "_view_module_version": "1.2.0",
            "_view_name": "StyleView",
            "bar_color": null,
            "description_width": ""
          }
        },
        "f7a65300995b4d2ca52786dc20b25234": {
          "model_module": "@jupyter-widgets/base",
          "model_name": "LayoutModel",
          "model_module_version": "1.2.0",
          "state": {
            "_model_module": "@jupyter-widgets/base",
            "_model_module_version": "1.2.0",
            "_model_name": "LayoutModel",
            "_view_count": null,
            "_view_module": "@jupyter-widgets/base",
            "_view_module_version": "1.2.0",
            "_view_name": "LayoutView",
            "align_content": null,
            "align_items": null,
            "align_self": null,
            "border": null,
            "bottom": null,
            "display": null,
            "flex": null,
            "flex_flow": null,
            "grid_area": null,
            "grid_auto_columns": null,
            "grid_auto_flow": null,
            "grid_auto_rows": null,
            "grid_column": null,
            "grid_gap": null,
            "grid_row": null,
            "grid_template_areas": null,
            "grid_template_columns": null,
            "grid_template_rows": null,
            "height": null,
            "justify_content": null,
            "justify_items": null,
            "left": null,
            "margin": null,
            "max_height": null,
            "max_width": null,
            "min_height": null,
            "min_width": null,
            "object_fit": null,
            "object_position": null,
            "order": null,
            "overflow": null,
            "overflow_x": null,
            "overflow_y": null,
            "padding": null,
            "right": null,
            "top": null,
            "visibility": null,
            "width": null
          }
        },
        "15eb20004c7f4bf2ac5da6dff06b4e71": {
          "model_module": "@jupyter-widgets/controls",
          "model_name": "DescriptionStyleModel",
          "model_module_version": "1.5.0",
          "state": {
            "_model_module": "@jupyter-widgets/controls",
            "_model_module_version": "1.5.0",
            "_model_name": "DescriptionStyleModel",
            "_view_count": null,
            "_view_module": "@jupyter-widgets/base",
            "_view_module_version": "1.2.0",
            "_view_name": "StyleView",
            "description_width": ""
          }
        },
        "0e4d1be631624deab88dfa7dc1d1214e": {
          "model_module": "@jupyter-widgets/controls",
          "model_name": "HBoxModel",
          "model_module_version": "1.5.0",
          "state": {
            "_dom_classes": [],
            "_model_module": "@jupyter-widgets/controls",
            "_model_module_version": "1.5.0",
            "_model_name": "HBoxModel",
            "_view_count": null,
            "_view_module": "@jupyter-widgets/controls",
            "_view_module_version": "1.5.0",
            "_view_name": "HBoxView",
            "box_style": "",
            "children": [
              "IPY_MODEL_e6f2554c95364832b64d35c6f0426148",
              "IPY_MODEL_203cdc6e1b044b4881c09d3107976ad6",
              "IPY_MODEL_0a5364d87a24474190f1a03595e03156"
            ],
            "layout": "IPY_MODEL_b547106a88d2499b999d457b4a34376c"
          }
        },
        "e6f2554c95364832b64d35c6f0426148": {
          "model_module": "@jupyter-widgets/controls",
          "model_name": "HTMLModel",
          "model_module_version": "1.5.0",
          "state": {
            "_dom_classes": [],
            "_model_module": "@jupyter-widgets/controls",
            "_model_module_version": "1.5.0",
            "_model_name": "HTMLModel",
            "_view_count": null,
            "_view_module": "@jupyter-widgets/controls",
            "_view_module_version": "1.5.0",
            "_view_name": "HTMLView",
            "description": "",
            "description_tooltip": null,
            "layout": "IPY_MODEL_96dbdeb8111f4620b0b38f1dbd5cb3ab",
            "placeholder": "​",
            "style": "IPY_MODEL_adbad8b928b64cedba5bea913fa0bc7f",
            "value": "Downloading metadata: 100%"
          }
        },
        "203cdc6e1b044b4881c09d3107976ad6": {
          "model_module": "@jupyter-widgets/controls",
          "model_name": "FloatProgressModel",
          "model_module_version": "1.5.0",
          "state": {
            "_dom_classes": [],
            "_model_module": "@jupyter-widgets/controls",
            "_model_module_version": "1.5.0",
            "_model_name": "FloatProgressModel",
            "_view_count": null,
            "_view_module": "@jupyter-widgets/controls",
            "_view_module_version": "1.5.0",
            "_view_name": "ProgressView",
            "bar_style": "success",
            "description": "",
            "description_tooltip": null,
            "layout": "IPY_MODEL_7f26850be5e44affb7cd6894df0600ed",
            "max": 5016,
            "min": 0,
            "orientation": "horizontal",
            "style": "IPY_MODEL_9cf40ebe81fb4ca19096e5c3830cc5a0",
            "value": 5016
          }
        },
        "0a5364d87a24474190f1a03595e03156": {
          "model_module": "@jupyter-widgets/controls",
          "model_name": "HTMLModel",
          "model_module_version": "1.5.0",
          "state": {
            "_dom_classes": [],
            "_model_module": "@jupyter-widgets/controls",
            "_model_module_version": "1.5.0",
            "_model_name": "HTMLModel",
            "_view_count": null,
            "_view_module": "@jupyter-widgets/controls",
            "_view_module_version": "1.5.0",
            "_view_name": "HTMLView",
            "description": "",
            "description_tooltip": null,
            "layout": "IPY_MODEL_6f7016926e5f4404b4cbdd2f8f80bb3c",
            "placeholder": "​",
            "style": "IPY_MODEL_56ddd354ae49495388ad0559ccfa91aa",
            "value": " 5.02k/5.02k [00:00&lt;00:00, 232kB/s]"
          }
        },
        "b547106a88d2499b999d457b4a34376c": {
          "model_module": "@jupyter-widgets/base",
          "model_name": "LayoutModel",
          "model_module_version": "1.2.0",
          "state": {
            "_model_module": "@jupyter-widgets/base",
            "_model_module_version": "1.2.0",
            "_model_name": "LayoutModel",
            "_view_count": null,
            "_view_module": "@jupyter-widgets/base",
            "_view_module_version": "1.2.0",
            "_view_name": "LayoutView",
            "align_content": null,
            "align_items": null,
            "align_self": null,
            "border": null,
            "bottom": null,
            "display": null,
            "flex": null,
            "flex_flow": null,
            "grid_area": null,
            "grid_auto_columns": null,
            "grid_auto_flow": null,
            "grid_auto_rows": null,
            "grid_column": null,
            "grid_gap": null,
            "grid_row": null,
            "grid_template_areas": null,
            "grid_template_columns": null,
            "grid_template_rows": null,
            "height": null,
            "justify_content": null,
            "justify_items": null,
            "left": null,
            "margin": null,
            "max_height": null,
            "max_width": null,
            "min_height": null,
            "min_width": null,
            "object_fit": null,
            "object_position": null,
            "order": null,
            "overflow": null,
            "overflow_x": null,
            "overflow_y": null,
            "padding": null,
            "right": null,
            "top": null,
            "visibility": null,
            "width": null
          }
        },
        "96dbdeb8111f4620b0b38f1dbd5cb3ab": {
          "model_module": "@jupyter-widgets/base",
          "model_name": "LayoutModel",
          "model_module_version": "1.2.0",
          "state": {
            "_model_module": "@jupyter-widgets/base",
            "_model_module_version": "1.2.0",
            "_model_name": "LayoutModel",
            "_view_count": null,
            "_view_module": "@jupyter-widgets/base",
            "_view_module_version": "1.2.0",
            "_view_name": "LayoutView",
            "align_content": null,
            "align_items": null,
            "align_self": null,
            "border": null,
            "bottom": null,
            "display": null,
            "flex": null,
            "flex_flow": null,
            "grid_area": null,
            "grid_auto_columns": null,
            "grid_auto_flow": null,
            "grid_auto_rows": null,
            "grid_column": null,
            "grid_gap": null,
            "grid_row": null,
            "grid_template_areas": null,
            "grid_template_columns": null,
            "grid_template_rows": null,
            "height": null,
            "justify_content": null,
            "justify_items": null,
            "left": null,
            "margin": null,
            "max_height": null,
            "max_width": null,
            "min_height": null,
            "min_width": null,
            "object_fit": null,
            "object_position": null,
            "order": null,
            "overflow": null,
            "overflow_x": null,
            "overflow_y": null,
            "padding": null,
            "right": null,
            "top": null,
            "visibility": null,
            "width": null
          }
        },
        "adbad8b928b64cedba5bea913fa0bc7f": {
          "model_module": "@jupyter-widgets/controls",
          "model_name": "DescriptionStyleModel",
          "model_module_version": "1.5.0",
          "state": {
            "_model_module": "@jupyter-widgets/controls",
            "_model_module_version": "1.5.0",
            "_model_name": "DescriptionStyleModel",
            "_view_count": null,
            "_view_module": "@jupyter-widgets/base",
            "_view_module_version": "1.2.0",
            "_view_name": "StyleView",
            "description_width": ""
          }
        },
        "7f26850be5e44affb7cd6894df0600ed": {
          "model_module": "@jupyter-widgets/base",
          "model_name": "LayoutModel",
          "model_module_version": "1.2.0",
          "state": {
            "_model_module": "@jupyter-widgets/base",
            "_model_module_version": "1.2.0",
            "_model_name": "LayoutModel",
            "_view_count": null,
            "_view_module": "@jupyter-widgets/base",
            "_view_module_version": "1.2.0",
            "_view_name": "LayoutView",
            "align_content": null,
            "align_items": null,
            "align_self": null,
            "border": null,
            "bottom": null,
            "display": null,
            "flex": null,
            "flex_flow": null,
            "grid_area": null,
            "grid_auto_columns": null,
            "grid_auto_flow": null,
            "grid_auto_rows": null,
            "grid_column": null,
            "grid_gap": null,
            "grid_row": null,
            "grid_template_areas": null,
            "grid_template_columns": null,
            "grid_template_rows": null,
            "height": null,
            "justify_content": null,
            "justify_items": null,
            "left": null,
            "margin": null,
            "max_height": null,
            "max_width": null,
            "min_height": null,
            "min_width": null,
            "object_fit": null,
            "object_position": null,
            "order": null,
            "overflow": null,
            "overflow_x": null,
            "overflow_y": null,
            "padding": null,
            "right": null,
            "top": null,
            "visibility": null,
            "width": null
          }
        },
        "9cf40ebe81fb4ca19096e5c3830cc5a0": {
          "model_module": "@jupyter-widgets/controls",
          "model_name": "ProgressStyleModel",
          "model_module_version": "1.5.0",
          "state": {
            "_model_module": "@jupyter-widgets/controls",
            "_model_module_version": "1.5.0",
            "_model_name": "ProgressStyleModel",
            "_view_count": null,
            "_view_module": "@jupyter-widgets/base",
            "_view_module_version": "1.2.0",
            "_view_name": "StyleView",
            "bar_color": null,
            "description_width": ""
          }
        },
        "6f7016926e5f4404b4cbdd2f8f80bb3c": {
          "model_module": "@jupyter-widgets/base",
          "model_name": "LayoutModel",
          "model_module_version": "1.2.0",
          "state": {
            "_model_module": "@jupyter-widgets/base",
            "_model_module_version": "1.2.0",
            "_model_name": "LayoutModel",
            "_view_count": null,
            "_view_module": "@jupyter-widgets/base",
            "_view_module_version": "1.2.0",
            "_view_name": "LayoutView",
            "align_content": null,
            "align_items": null,
            "align_self": null,
            "border": null,
            "bottom": null,
            "display": null,
            "flex": null,
            "flex_flow": null,
            "grid_area": null,
            "grid_auto_columns": null,
            "grid_auto_flow": null,
            "grid_auto_rows": null,
            "grid_column": null,
            "grid_gap": null,
            "grid_row": null,
            "grid_template_areas": null,
            "grid_template_columns": null,
            "grid_template_rows": null,
            "height": null,
            "justify_content": null,
            "justify_items": null,
            "left": null,
            "margin": null,
            "max_height": null,
            "max_width": null,
            "min_height": null,
            "min_width": null,
            "object_fit": null,
            "object_position": null,
            "order": null,
            "overflow": null,
            "overflow_x": null,
            "overflow_y": null,
            "padding": null,
            "right": null,
            "top": null,
            "visibility": null,
            "width": null
          }
        },
        "56ddd354ae49495388ad0559ccfa91aa": {
          "model_module": "@jupyter-widgets/controls",
          "model_name": "DescriptionStyleModel",
          "model_module_version": "1.5.0",
          "state": {
            "_model_module": "@jupyter-widgets/controls",
            "_model_module_version": "1.5.0",
            "_model_name": "DescriptionStyleModel",
            "_view_count": null,
            "_view_module": "@jupyter-widgets/base",
            "_view_module_version": "1.2.0",
            "_view_name": "StyleView",
            "description_width": ""
          }
        },
        "8155791fcfba448aac28fd5897b6b3b8": {
          "model_module": "@jupyter-widgets/controls",
          "model_name": "HBoxModel",
          "model_module_version": "1.5.0",
          "state": {
            "_dom_classes": [],
            "_model_module": "@jupyter-widgets/controls",
            "_model_module_version": "1.5.0",
            "_model_name": "HBoxModel",
            "_view_count": null,
            "_view_module": "@jupyter-widgets/controls",
            "_view_module_version": "1.5.0",
            "_view_name": "HBoxView",
            "box_style": "",
            "children": [
              "IPY_MODEL_c3ed4d680fc04e429f6519bfa4a95d16",
              "IPY_MODEL_f631404136fd4ca39c73368d3068e18e",
              "IPY_MODEL_93b0c4f327d4442ab9c25d5a2e693c65"
            ],
            "layout": "IPY_MODEL_1e4e93c7ab4145a7894dbf0a43dac9a2"
          }
        },
        "c3ed4d680fc04e429f6519bfa4a95d16": {
          "model_module": "@jupyter-widgets/controls",
          "model_name": "HTMLModel",
          "model_module_version": "1.5.0",
          "state": {
            "_dom_classes": [],
            "_model_module": "@jupyter-widgets/controls",
            "_model_module_version": "1.5.0",
            "_model_name": "HTMLModel",
            "_view_count": null,
            "_view_module": "@jupyter-widgets/controls",
            "_view_module_version": "1.5.0",
            "_view_name": "HTMLView",
            "description": "",
            "description_tooltip": null,
            "layout": "IPY_MODEL_d748e74f488e4710a022ffff8fc20c3a",
            "placeholder": "​",
            "style": "IPY_MODEL_b36face7c7804bc6b4693401ae946cc0",
            "value": "Downloading readme: 100%"
          }
        },
        "f631404136fd4ca39c73368d3068e18e": {
          "model_module": "@jupyter-widgets/controls",
          "model_name": "FloatProgressModel",
          "model_module_version": "1.5.0",
          "state": {
            "_dom_classes": [],
            "_model_module": "@jupyter-widgets/controls",
            "_model_module_version": "1.5.0",
            "_model_name": "FloatProgressModel",
            "_view_count": null,
            "_view_module": "@jupyter-widgets/controls",
            "_view_module_version": "1.5.0",
            "_view_name": "ProgressView",
            "bar_style": "success",
            "description": "",
            "description_tooltip": null,
            "layout": "IPY_MODEL_9e7eabef209d48769f56c972675713d4",
            "max": 6094,
            "min": 0,
            "orientation": "horizontal",
            "style": "IPY_MODEL_851375af32514a0da43a04441e41317a",
            "value": 6094
          }
        },
        "93b0c4f327d4442ab9c25d5a2e693c65": {
          "model_module": "@jupyter-widgets/controls",
          "model_name": "HTMLModel",
          "model_module_version": "1.5.0",
          "state": {
            "_dom_classes": [],
            "_model_module": "@jupyter-widgets/controls",
            "_model_module_version": "1.5.0",
            "_model_name": "HTMLModel",
            "_view_count": null,
            "_view_module": "@jupyter-widgets/controls",
            "_view_module_version": "1.5.0",
            "_view_name": "HTMLView",
            "description": "",
            "description_tooltip": null,
            "layout": "IPY_MODEL_9452fde6563c43bd8e961c91913aebee",
            "placeholder": "​",
            "style": "IPY_MODEL_7a2332288ada4add8f0d1fe3f9f6e464",
            "value": " 6.09k/6.09k [00:00&lt;00:00, 255kB/s]"
          }
        },
        "1e4e93c7ab4145a7894dbf0a43dac9a2": {
          "model_module": "@jupyter-widgets/base",
          "model_name": "LayoutModel",
          "model_module_version": "1.2.0",
          "state": {
            "_model_module": "@jupyter-widgets/base",
            "_model_module_version": "1.2.0",
            "_model_name": "LayoutModel",
            "_view_count": null,
            "_view_module": "@jupyter-widgets/base",
            "_view_module_version": "1.2.0",
            "_view_name": "LayoutView",
            "align_content": null,
            "align_items": null,
            "align_self": null,
            "border": null,
            "bottom": null,
            "display": null,
            "flex": null,
            "flex_flow": null,
            "grid_area": null,
            "grid_auto_columns": null,
            "grid_auto_flow": null,
            "grid_auto_rows": null,
            "grid_column": null,
            "grid_gap": null,
            "grid_row": null,
            "grid_template_areas": null,
            "grid_template_columns": null,
            "grid_template_rows": null,
            "height": null,
            "justify_content": null,
            "justify_items": null,
            "left": null,
            "margin": null,
            "max_height": null,
            "max_width": null,
            "min_height": null,
            "min_width": null,
            "object_fit": null,
            "object_position": null,
            "order": null,
            "overflow": null,
            "overflow_x": null,
            "overflow_y": null,
            "padding": null,
            "right": null,
            "top": null,
            "visibility": null,
            "width": null
          }
        },
        "d748e74f488e4710a022ffff8fc20c3a": {
          "model_module": "@jupyter-widgets/base",
          "model_name": "LayoutModel",
          "model_module_version": "1.2.0",
          "state": {
            "_model_module": "@jupyter-widgets/base",
            "_model_module_version": "1.2.0",
            "_model_name": "LayoutModel",
            "_view_count": null,
            "_view_module": "@jupyter-widgets/base",
            "_view_module_version": "1.2.0",
            "_view_name": "LayoutView",
            "align_content": null,
            "align_items": null,
            "align_self": null,
            "border": null,
            "bottom": null,
            "display": null,
            "flex": null,
            "flex_flow": null,
            "grid_area": null,
            "grid_auto_columns": null,
            "grid_auto_flow": null,
            "grid_auto_rows": null,
            "grid_column": null,
            "grid_gap": null,
            "grid_row": null,
            "grid_template_areas": null,
            "grid_template_columns": null,
            "grid_template_rows": null,
            "height": null,
            "justify_content": null,
            "justify_items": null,
            "left": null,
            "margin": null,
            "max_height": null,
            "max_width": null,
            "min_height": null,
            "min_width": null,
            "object_fit": null,
            "object_position": null,
            "order": null,
            "overflow": null,
            "overflow_x": null,
            "overflow_y": null,
            "padding": null,
            "right": null,
            "top": null,
            "visibility": null,
            "width": null
          }
        },
        "b36face7c7804bc6b4693401ae946cc0": {
          "model_module": "@jupyter-widgets/controls",
          "model_name": "DescriptionStyleModel",
          "model_module_version": "1.5.0",
          "state": {
            "_model_module": "@jupyter-widgets/controls",
            "_model_module_version": "1.5.0",
            "_model_name": "DescriptionStyleModel",
            "_view_count": null,
            "_view_module": "@jupyter-widgets/base",
            "_view_module_version": "1.2.0",
            "_view_name": "StyleView",
            "description_width": ""
          }
        },
        "9e7eabef209d48769f56c972675713d4": {
          "model_module": "@jupyter-widgets/base",
          "model_name": "LayoutModel",
          "model_module_version": "1.2.0",
          "state": {
            "_model_module": "@jupyter-widgets/base",
            "_model_module_version": "1.2.0",
            "_model_name": "LayoutModel",
            "_view_count": null,
            "_view_module": "@jupyter-widgets/base",
            "_view_module_version": "1.2.0",
            "_view_name": "LayoutView",
            "align_content": null,
            "align_items": null,
            "align_self": null,
            "border": null,
            "bottom": null,
            "display": null,
            "flex": null,
            "flex_flow": null,
            "grid_area": null,
            "grid_auto_columns": null,
            "grid_auto_flow": null,
            "grid_auto_rows": null,
            "grid_column": null,
            "grid_gap": null,
            "grid_row": null,
            "grid_template_areas": null,
            "grid_template_columns": null,
            "grid_template_rows": null,
            "height": null,
            "justify_content": null,
            "justify_items": null,
            "left": null,
            "margin": null,
            "max_height": null,
            "max_width": null,
            "min_height": null,
            "min_width": null,
            "object_fit": null,
            "object_position": null,
            "order": null,
            "overflow": null,
            "overflow_x": null,
            "overflow_y": null,
            "padding": null,
            "right": null,
            "top": null,
            "visibility": null,
            "width": null
          }
        },
        "851375af32514a0da43a04441e41317a": {
          "model_module": "@jupyter-widgets/controls",
          "model_name": "ProgressStyleModel",
          "model_module_version": "1.5.0",
          "state": {
            "_model_module": "@jupyter-widgets/controls",
            "_model_module_version": "1.5.0",
            "_model_name": "ProgressStyleModel",
            "_view_count": null,
            "_view_module": "@jupyter-widgets/base",
            "_view_module_version": "1.2.0",
            "_view_name": "StyleView",
            "bar_color": null,
            "description_width": ""
          }
        },
        "9452fde6563c43bd8e961c91913aebee": {
          "model_module": "@jupyter-widgets/base",
          "model_name": "LayoutModel",
          "model_module_version": "1.2.0",
          "state": {
            "_model_module": "@jupyter-widgets/base",
            "_model_module_version": "1.2.0",
            "_model_name": "LayoutModel",
            "_view_count": null,
            "_view_module": "@jupyter-widgets/base",
            "_view_module_version": "1.2.0",
            "_view_name": "LayoutView",
            "align_content": null,
            "align_items": null,
            "align_self": null,
            "border": null,
            "bottom": null,
            "display": null,
            "flex": null,
            "flex_flow": null,
            "grid_area": null,
            "grid_auto_columns": null,
            "grid_auto_flow": null,
            "grid_auto_rows": null,
            "grid_column": null,
            "grid_gap": null,
            "grid_row": null,
            "grid_template_areas": null,
            "grid_template_columns": null,
            "grid_template_rows": null,
            "height": null,
            "justify_content": null,
            "justify_items": null,
            "left": null,
            "margin": null,
            "max_height": null,
            "max_width": null,
            "min_height": null,
            "min_width": null,
            "object_fit": null,
            "object_position": null,
            "order": null,
            "overflow": null,
            "overflow_x": null,
            "overflow_y": null,
            "padding": null,
            "right": null,
            "top": null,
            "visibility": null,
            "width": null
          }
        },
        "7a2332288ada4add8f0d1fe3f9f6e464": {
          "model_module": "@jupyter-widgets/controls",
          "model_name": "DescriptionStyleModel",
          "model_module_version": "1.5.0",
          "state": {
            "_model_module": "@jupyter-widgets/controls",
            "_model_module_version": "1.5.0",
            "_model_name": "DescriptionStyleModel",
            "_view_count": null,
            "_view_module": "@jupyter-widgets/base",
            "_view_module_version": "1.2.0",
            "_view_name": "StyleView",
            "description_width": ""
          }
        },
        "9eab34b8dee7415d9be7dffbca460797": {
          "model_module": "@jupyter-widgets/controls",
          "model_name": "HBoxModel",
          "model_module_version": "1.5.0",
          "state": {
            "_dom_classes": [],
            "_model_module": "@jupyter-widgets/controls",
            "_model_module_version": "1.5.0",
            "_model_name": "HBoxModel",
            "_view_count": null,
            "_view_module": "@jupyter-widgets/controls",
            "_view_module_version": "1.5.0",
            "_view_name": "HBoxView",
            "box_style": "",
            "children": [
              "IPY_MODEL_4d30b206fe6f429a9cb8b3999e5603ba",
              "IPY_MODEL_2f4a930507f1459d9605fd2f9d63aaea",
              "IPY_MODEL_449e9bbbda0b4e02a8482518019f817a"
            ],
            "layout": "IPY_MODEL_87fbf64792ec4fc0bc82c127f8c00e5c"
          }
        },
        "4d30b206fe6f429a9cb8b3999e5603ba": {
          "model_module": "@jupyter-widgets/controls",
          "model_name": "HTMLModel",
          "model_module_version": "1.5.0",
          "state": {
            "_dom_classes": [],
            "_model_module": "@jupyter-widgets/controls",
            "_model_module_version": "1.5.0",
            "_model_name": "HTMLModel",
            "_view_count": null,
            "_view_module": "@jupyter-widgets/controls",
            "_view_module_version": "1.5.0",
            "_view_name": "HTMLView",
            "description": "",
            "description_tooltip": null,
            "layout": "IPY_MODEL_4b31bb09df9840ffa4b60824fe751123",
            "placeholder": "​",
            "style": "IPY_MODEL_09e642ac2f4d4836af6a9d52f1c4f5f5",
            "value": "Downloading data: "
          }
        },
        "2f4a930507f1459d9605fd2f9d63aaea": {
          "model_module": "@jupyter-widgets/controls",
          "model_name": "FloatProgressModel",
          "model_module_version": "1.5.0",
          "state": {
            "_dom_classes": [],
            "_model_module": "@jupyter-widgets/controls",
            "_model_module_version": "1.5.0",
            "_model_name": "FloatProgressModel",
            "_view_count": null,
            "_view_module": "@jupyter-widgets/controls",
            "_view_module_version": "1.5.0",
            "_view_name": "ProgressView",
            "bar_style": "success",
            "description": "",
            "description_tooltip": null,
            "layout": "IPY_MODEL_659a57a4544c402db103656dbf287cc9",
            "max": 69995,
            "min": 0,
            "orientation": "horizontal",
            "style": "IPY_MODEL_5f339b734f8a4f0c8cd11c421479507d",
            "value": 69995
          }
        },
        "449e9bbbda0b4e02a8482518019f817a": {
          "model_module": "@jupyter-widgets/controls",
          "model_name": "HTMLModel",
          "model_module_version": "1.5.0",
          "state": {
            "_dom_classes": [],
            "_model_module": "@jupyter-widgets/controls",
            "_model_module_version": "1.5.0",
            "_model_name": "HTMLModel",
            "_view_count": null,
            "_view_module": "@jupyter-widgets/controls",
            "_view_module_version": "1.5.0",
            "_view_name": "HTMLView",
            "description": "",
            "description_tooltip": null,
            "layout": "IPY_MODEL_a01aa6f22fb04296980883c172d24630",
            "placeholder": "​",
            "style": "IPY_MODEL_ff15ad3a532c43f8bca8b9f518a72193",
            "value": " 205k/? [00:00&lt;00:00, 5.10MB/s]"
          }
        },
        "87fbf64792ec4fc0bc82c127f8c00e5c": {
          "model_module": "@jupyter-widgets/base",
          "model_name": "LayoutModel",
          "model_module_version": "1.2.0",
          "state": {
            "_model_module": "@jupyter-widgets/base",
            "_model_module_version": "1.2.0",
            "_model_name": "LayoutModel",
            "_view_count": null,
            "_view_module": "@jupyter-widgets/base",
            "_view_module_version": "1.2.0",
            "_view_name": "LayoutView",
            "align_content": null,
            "align_items": null,
            "align_self": null,
            "border": null,
            "bottom": null,
            "display": null,
            "flex": null,
            "flex_flow": null,
            "grid_area": null,
            "grid_auto_columns": null,
            "grid_auto_flow": null,
            "grid_auto_rows": null,
            "grid_column": null,
            "grid_gap": null,
            "grid_row": null,
            "grid_template_areas": null,
            "grid_template_columns": null,
            "grid_template_rows": null,
            "height": null,
            "justify_content": null,
            "justify_items": null,
            "left": null,
            "margin": null,
            "max_height": null,
            "max_width": null,
            "min_height": null,
            "min_width": null,
            "object_fit": null,
            "object_position": null,
            "order": null,
            "overflow": null,
            "overflow_x": null,
            "overflow_y": null,
            "padding": null,
            "right": null,
            "top": null,
            "visibility": null,
            "width": null
          }
        },
        "4b31bb09df9840ffa4b60824fe751123": {
          "model_module": "@jupyter-widgets/base",
          "model_name": "LayoutModel",
          "model_module_version": "1.2.0",
          "state": {
            "_model_module": "@jupyter-widgets/base",
            "_model_module_version": "1.2.0",
            "_model_name": "LayoutModel",
            "_view_count": null,
            "_view_module": "@jupyter-widgets/base",
            "_view_module_version": "1.2.0",
            "_view_name": "LayoutView",
            "align_content": null,
            "align_items": null,
            "align_self": null,
            "border": null,
            "bottom": null,
            "display": null,
            "flex": null,
            "flex_flow": null,
            "grid_area": null,
            "grid_auto_columns": null,
            "grid_auto_flow": null,
            "grid_auto_rows": null,
            "grid_column": null,
            "grid_gap": null,
            "grid_row": null,
            "grid_template_areas": null,
            "grid_template_columns": null,
            "grid_template_rows": null,
            "height": null,
            "justify_content": null,
            "justify_items": null,
            "left": null,
            "margin": null,
            "max_height": null,
            "max_width": null,
            "min_height": null,
            "min_width": null,
            "object_fit": null,
            "object_position": null,
            "order": null,
            "overflow": null,
            "overflow_x": null,
            "overflow_y": null,
            "padding": null,
            "right": null,
            "top": null,
            "visibility": null,
            "width": null
          }
        },
        "09e642ac2f4d4836af6a9d52f1c4f5f5": {
          "model_module": "@jupyter-widgets/controls",
          "model_name": "DescriptionStyleModel",
          "model_module_version": "1.5.0",
          "state": {
            "_model_module": "@jupyter-widgets/controls",
            "_model_module_version": "1.5.0",
            "_model_name": "DescriptionStyleModel",
            "_view_count": null,
            "_view_module": "@jupyter-widgets/base",
            "_view_module_version": "1.2.0",
            "_view_name": "StyleView",
            "description_width": ""
          }
        },
        "659a57a4544c402db103656dbf287cc9": {
          "model_module": "@jupyter-widgets/base",
          "model_name": "LayoutModel",
          "model_module_version": "1.2.0",
          "state": {
            "_model_module": "@jupyter-widgets/base",
            "_model_module_version": "1.2.0",
            "_model_name": "LayoutModel",
            "_view_count": null,
            "_view_module": "@jupyter-widgets/base",
            "_view_module_version": "1.2.0",
            "_view_name": "LayoutView",
            "align_content": null,
            "align_items": null,
            "align_self": null,
            "border": null,
            "bottom": null,
            "display": null,
            "flex": null,
            "flex_flow": null,
            "grid_area": null,
            "grid_auto_columns": null,
            "grid_auto_flow": null,
            "grid_auto_rows": null,
            "grid_column": null,
            "grid_gap": null,
            "grid_row": null,
            "grid_template_areas": null,
            "grid_template_columns": null,
            "grid_template_rows": null,
            "height": null,
            "justify_content": null,
            "justify_items": null,
            "left": null,
            "margin": null,
            "max_height": null,
            "max_width": null,
            "min_height": null,
            "min_width": null,
            "object_fit": null,
            "object_position": null,
            "order": null,
            "overflow": null,
            "overflow_x": null,
            "overflow_y": null,
            "padding": null,
            "right": null,
            "top": null,
            "visibility": null,
            "width": null
          }
        },
        "5f339b734f8a4f0c8cd11c421479507d": {
          "model_module": "@jupyter-widgets/controls",
          "model_name": "ProgressStyleModel",
          "model_module_version": "1.5.0",
          "state": {
            "_model_module": "@jupyter-widgets/controls",
            "_model_module_version": "1.5.0",
            "_model_name": "ProgressStyleModel",
            "_view_count": null,
            "_view_module": "@jupyter-widgets/base",
            "_view_module_version": "1.2.0",
            "_view_name": "StyleView",
            "bar_color": null,
            "description_width": ""
          }
        },
        "a01aa6f22fb04296980883c172d24630": {
          "model_module": "@jupyter-widgets/base",
          "model_name": "LayoutModel",
          "model_module_version": "1.2.0",
          "state": {
            "_model_module": "@jupyter-widgets/base",
            "_model_module_version": "1.2.0",
            "_model_name": "LayoutModel",
            "_view_count": null,
            "_view_module": "@jupyter-widgets/base",
            "_view_module_version": "1.2.0",
            "_view_name": "LayoutView",
            "align_content": null,
            "align_items": null,
            "align_self": null,
            "border": null,
            "bottom": null,
            "display": null,
            "flex": null,
            "flex_flow": null,
            "grid_area": null,
            "grid_auto_columns": null,
            "grid_auto_flow": null,
            "grid_auto_rows": null,
            "grid_column": null,
            "grid_gap": null,
            "grid_row": null,
            "grid_template_areas": null,
            "grid_template_columns": null,
            "grid_template_rows": null,
            "height": null,
            "justify_content": null,
            "justify_items": null,
            "left": null,
            "margin": null,
            "max_height": null,
            "max_width": null,
            "min_height": null,
            "min_width": null,
            "object_fit": null,
            "object_position": null,
            "order": null,
            "overflow": null,
            "overflow_x": null,
            "overflow_y": null,
            "padding": null,
            "right": null,
            "top": null,
            "visibility": null,
            "width": null
          }
        },
        "ff15ad3a532c43f8bca8b9f518a72193": {
          "model_module": "@jupyter-widgets/controls",
          "model_name": "DescriptionStyleModel",
          "model_module_version": "1.5.0",
          "state": {
            "_model_module": "@jupyter-widgets/controls",
            "_model_module_version": "1.5.0",
            "_model_name": "DescriptionStyleModel",
            "_view_count": null,
            "_view_module": "@jupyter-widgets/base",
            "_view_module_version": "1.2.0",
            "_view_name": "StyleView",
            "description_width": ""
          }
        },
        "d3ffac7f065e4d0389bf9a95e5cbcc1d": {
          "model_module": "@jupyter-widgets/controls",
          "model_name": "HBoxModel",
          "model_module_version": "1.5.0",
          "state": {
            "_dom_classes": [],
            "_model_module": "@jupyter-widgets/controls",
            "_model_module_version": "1.5.0",
            "_model_name": "HBoxModel",
            "_view_count": null,
            "_view_module": "@jupyter-widgets/controls",
            "_view_module_version": "1.5.0",
            "_view_name": "HBoxView",
            "box_style": "",
            "children": [
              "IPY_MODEL_57bfb88483f146f280ade7c4fc125028",
              "IPY_MODEL_b89ae2a4bc524a9fbf42980abae8ae80",
              "IPY_MODEL_5f06f74309ef41e195083dc695e3811f"
            ],
            "layout": "IPY_MODEL_ca3ea21c755346e6b5719b54a1bd8f73"
          }
        },
        "57bfb88483f146f280ade7c4fc125028": {
          "model_module": "@jupyter-widgets/controls",
          "model_name": "HTMLModel",
          "model_module_version": "1.5.0",
          "state": {
            "_dom_classes": [],
            "_model_module": "@jupyter-widgets/controls",
            "_model_module_version": "1.5.0",
            "_model_name": "HTMLModel",
            "_view_count": null,
            "_view_module": "@jupyter-widgets/controls",
            "_view_module_version": "1.5.0",
            "_view_name": "HTMLView",
            "description": "",
            "description_tooltip": null,
            "layout": "IPY_MODEL_e5af705debe4403fa7536882d3eed2cc",
            "placeholder": "​",
            "style": "IPY_MODEL_245ab0cf2396420e8db2e6ff5c916d2c",
            "value": "Downloading data: "
          }
        },
        "b89ae2a4bc524a9fbf42980abae8ae80": {
          "model_module": "@jupyter-widgets/controls",
          "model_name": "FloatProgressModel",
          "model_module_version": "1.5.0",
          "state": {
            "_dom_classes": [],
            "_model_module": "@jupyter-widgets/controls",
            "_model_module_version": "1.5.0",
            "_model_name": "FloatProgressModel",
            "_view_count": null,
            "_view_module": "@jupyter-widgets/controls",
            "_view_module_version": "1.5.0",
            "_view_name": "ProgressView",
            "bar_style": "success",
            "description": "",
            "description_tooltip": null,
            "layout": "IPY_MODEL_48349f9802924de59a5972593b384415",
            "max": 8745,
            "min": 0,
            "orientation": "horizontal",
            "style": "IPY_MODEL_caf9cb9fa1814ffaab13d8a2464cd94f",
            "value": 8745
          }
        },
        "5f06f74309ef41e195083dc695e3811f": {
          "model_module": "@jupyter-widgets/controls",
          "model_name": "HTMLModel",
          "model_module_version": "1.5.0",
          "state": {
            "_dom_classes": [],
            "_model_module": "@jupyter-widgets/controls",
            "_model_module_version": "1.5.0",
            "_model_name": "HTMLModel",
            "_view_count": null,
            "_view_module": "@jupyter-widgets/controls",
            "_view_module_version": "1.5.0",
            "_view_name": "HTMLView",
            "description": "",
            "description_tooltip": null,
            "layout": "IPY_MODEL_252412ea09b546fb87dc5d0592316fe9",
            "placeholder": "​",
            "style": "IPY_MODEL_785be9748bbb4082afc9a062c514923a",
            "value": " 22.0k/? [00:00&lt;00:00, 1.16MB/s]"
          }
        },
        "ca3ea21c755346e6b5719b54a1bd8f73": {
          "model_module": "@jupyter-widgets/base",
          "model_name": "LayoutModel",
          "model_module_version": "1.2.0",
          "state": {
            "_model_module": "@jupyter-widgets/base",
            "_model_module_version": "1.2.0",
            "_model_name": "LayoutModel",
            "_view_count": null,
            "_view_module": "@jupyter-widgets/base",
            "_view_module_version": "1.2.0",
            "_view_name": "LayoutView",
            "align_content": null,
            "align_items": null,
            "align_self": null,
            "border": null,
            "bottom": null,
            "display": null,
            "flex": null,
            "flex_flow": null,
            "grid_area": null,
            "grid_auto_columns": null,
            "grid_auto_flow": null,
            "grid_auto_rows": null,
            "grid_column": null,
            "grid_gap": null,
            "grid_row": null,
            "grid_template_areas": null,
            "grid_template_columns": null,
            "grid_template_rows": null,
            "height": null,
            "justify_content": null,
            "justify_items": null,
            "left": null,
            "margin": null,
            "max_height": null,
            "max_width": null,
            "min_height": null,
            "min_width": null,
            "object_fit": null,
            "object_position": null,
            "order": null,
            "overflow": null,
            "overflow_x": null,
            "overflow_y": null,
            "padding": null,
            "right": null,
            "top": null,
            "visibility": null,
            "width": null
          }
        },
        "e5af705debe4403fa7536882d3eed2cc": {
          "model_module": "@jupyter-widgets/base",
          "model_name": "LayoutModel",
          "model_module_version": "1.2.0",
          "state": {
            "_model_module": "@jupyter-widgets/base",
            "_model_module_version": "1.2.0",
            "_model_name": "LayoutModel",
            "_view_count": null,
            "_view_module": "@jupyter-widgets/base",
            "_view_module_version": "1.2.0",
            "_view_name": "LayoutView",
            "align_content": null,
            "align_items": null,
            "align_self": null,
            "border": null,
            "bottom": null,
            "display": null,
            "flex": null,
            "flex_flow": null,
            "grid_area": null,
            "grid_auto_columns": null,
            "grid_auto_flow": null,
            "grid_auto_rows": null,
            "grid_column": null,
            "grid_gap": null,
            "grid_row": null,
            "grid_template_areas": null,
            "grid_template_columns": null,
            "grid_template_rows": null,
            "height": null,
            "justify_content": null,
            "justify_items": null,
            "left": null,
            "margin": null,
            "max_height": null,
            "max_width": null,
            "min_height": null,
            "min_width": null,
            "object_fit": null,
            "object_position": null,
            "order": null,
            "overflow": null,
            "overflow_x": null,
            "overflow_y": null,
            "padding": null,
            "right": null,
            "top": null,
            "visibility": null,
            "width": null
          }
        },
        "245ab0cf2396420e8db2e6ff5c916d2c": {
          "model_module": "@jupyter-widgets/controls",
          "model_name": "DescriptionStyleModel",
          "model_module_version": "1.5.0",
          "state": {
            "_model_module": "@jupyter-widgets/controls",
            "_model_module_version": "1.5.0",
            "_model_name": "DescriptionStyleModel",
            "_view_count": null,
            "_view_module": "@jupyter-widgets/base",
            "_view_module_version": "1.2.0",
            "_view_name": "StyleView",
            "description_width": ""
          }
        },
        "48349f9802924de59a5972593b384415": {
          "model_module": "@jupyter-widgets/base",
          "model_name": "LayoutModel",
          "model_module_version": "1.2.0",
          "state": {
            "_model_module": "@jupyter-widgets/base",
            "_model_module_version": "1.2.0",
            "_model_name": "LayoutModel",
            "_view_count": null,
            "_view_module": "@jupyter-widgets/base",
            "_view_module_version": "1.2.0",
            "_view_name": "LayoutView",
            "align_content": null,
            "align_items": null,
            "align_self": null,
            "border": null,
            "bottom": null,
            "display": null,
            "flex": null,
            "flex_flow": null,
            "grid_area": null,
            "grid_auto_columns": null,
            "grid_auto_flow": null,
            "grid_auto_rows": null,
            "grid_column": null,
            "grid_gap": null,
            "grid_row": null,
            "grid_template_areas": null,
            "grid_template_columns": null,
            "grid_template_rows": null,
            "height": null,
            "justify_content": null,
            "justify_items": null,
            "left": null,
            "margin": null,
            "max_height": null,
            "max_width": null,
            "min_height": null,
            "min_width": null,
            "object_fit": null,
            "object_position": null,
            "order": null,
            "overflow": null,
            "overflow_x": null,
            "overflow_y": null,
            "padding": null,
            "right": null,
            "top": null,
            "visibility": null,
            "width": null
          }
        },
        "caf9cb9fa1814ffaab13d8a2464cd94f": {
          "model_module": "@jupyter-widgets/controls",
          "model_name": "ProgressStyleModel",
          "model_module_version": "1.5.0",
          "state": {
            "_model_module": "@jupyter-widgets/controls",
            "_model_module_version": "1.5.0",
            "_model_name": "ProgressStyleModel",
            "_view_count": null,
            "_view_module": "@jupyter-widgets/base",
            "_view_module_version": "1.2.0",
            "_view_name": "StyleView",
            "bar_color": null,
            "description_width": ""
          }
        },
        "252412ea09b546fb87dc5d0592316fe9": {
          "model_module": "@jupyter-widgets/base",
          "model_name": "LayoutModel",
          "model_module_version": "1.2.0",
          "state": {
            "_model_module": "@jupyter-widgets/base",
            "_model_module_version": "1.2.0",
            "_model_name": "LayoutModel",
            "_view_count": null,
            "_view_module": "@jupyter-widgets/base",
            "_view_module_version": "1.2.0",
            "_view_name": "LayoutView",
            "align_content": null,
            "align_items": null,
            "align_self": null,
            "border": null,
            "bottom": null,
            "display": null,
            "flex": null,
            "flex_flow": null,
            "grid_area": null,
            "grid_auto_columns": null,
            "grid_auto_flow": null,
            "grid_auto_rows": null,
            "grid_column": null,
            "grid_gap": null,
            "grid_row": null,
            "grid_template_areas": null,
            "grid_template_columns": null,
            "grid_template_rows": null,
            "height": null,
            "justify_content": null,
            "justify_items": null,
            "left": null,
            "margin": null,
            "max_height": null,
            "max_width": null,
            "min_height": null,
            "min_width": null,
            "object_fit": null,
            "object_position": null,
            "order": null,
            "overflow": null,
            "overflow_x": null,
            "overflow_y": null,
            "padding": null,
            "right": null,
            "top": null,
            "visibility": null,
            "width": null
          }
        },
        "785be9748bbb4082afc9a062c514923a": {
          "model_module": "@jupyter-widgets/controls",
          "model_name": "DescriptionStyleModel",
          "model_module_version": "1.5.0",
          "state": {
            "_model_module": "@jupyter-widgets/controls",
            "_model_module_version": "1.5.0",
            "_model_name": "DescriptionStyleModel",
            "_view_count": null,
            "_view_module": "@jupyter-widgets/base",
            "_view_module_version": "1.2.0",
            "_view_name": "StyleView",
            "description_width": ""
          }
        },
        "f2ef5be9b8644756a845bebc563f72a8": {
          "model_module": "@jupyter-widgets/controls",
          "model_name": "HBoxModel",
          "model_module_version": "1.5.0",
          "state": {
            "_dom_classes": [],
            "_model_module": "@jupyter-widgets/controls",
            "_model_module_version": "1.5.0",
            "_model_name": "HBoxModel",
            "_view_count": null,
            "_view_module": "@jupyter-widgets/controls",
            "_view_module_version": "1.5.0",
            "_view_name": "HBoxView",
            "box_style": "",
            "children": [
              "IPY_MODEL_6c3b9ed0f9eb48a993182957e8281127",
              "IPY_MODEL_1e8d000f42b9421187bd1ffc6e204c65",
              "IPY_MODEL_62755e22e07c4f4fb1117c4333b85fb8"
            ],
            "layout": "IPY_MODEL_26e207da093e4708848238f92674c435"
          }
        },
        "6c3b9ed0f9eb48a993182957e8281127": {
          "model_module": "@jupyter-widgets/controls",
          "model_name": "HTMLModel",
          "model_module_version": "1.5.0",
          "state": {
            "_dom_classes": [],
            "_model_module": "@jupyter-widgets/controls",
            "_model_module_version": "1.5.0",
            "_model_name": "HTMLModel",
            "_view_count": null,
            "_view_module": "@jupyter-widgets/controls",
            "_view_module_version": "1.5.0",
            "_view_name": "HTMLView",
            "description": "",
            "description_tooltip": null,
            "layout": "IPY_MODEL_3597ddc2c548434f915a757268a085bd",
            "placeholder": "​",
            "style": "IPY_MODEL_adbd778e2c574b3a94ce149355ae67b8",
            "value": "Downloading data: "
          }
        },
        "1e8d000f42b9421187bd1ffc6e204c65": {
          "model_module": "@jupyter-widgets/controls",
          "model_name": "FloatProgressModel",
          "model_module_version": "1.5.0",
          "state": {
            "_dom_classes": [],
            "_model_module": "@jupyter-widgets/controls",
            "_model_module_version": "1.5.0",
            "_model_name": "FloatProgressModel",
            "_view_count": null,
            "_view_module": "@jupyter-widgets/controls",
            "_view_module_version": "1.5.0",
            "_view_name": "ProgressView",
            "bar_style": "success",
            "description": "",
            "description_tooltip": null,
            "layout": "IPY_MODEL_f22cc010853b4674854efebade5b1cbe",
            "max": 11620,
            "min": 0,
            "orientation": "horizontal",
            "style": "IPY_MODEL_25b8deb6e74243c2a11c334c4646bd5e",
            "value": 11620
          }
        },
        "62755e22e07c4f4fb1117c4333b85fb8": {
          "model_module": "@jupyter-widgets/controls",
          "model_name": "HTMLModel",
          "model_module_version": "1.5.0",
          "state": {
            "_dom_classes": [],
            "_model_module": "@jupyter-widgets/controls",
            "_model_module_version": "1.5.0",
            "_model_name": "HTMLModel",
            "_view_count": null,
            "_view_module": "@jupyter-widgets/controls",
            "_view_module_version": "1.5.0",
            "_view_name": "HTMLView",
            "description": "",
            "description_tooltip": null,
            "layout": "IPY_MODEL_515e21bcf18444ff963cf04f331971c5",
            "placeholder": "​",
            "style": "IPY_MODEL_54a18a3c77da43a9b0f03fd39bdbe0d3",
            "value": " 37.0k/? [00:00&lt;00:00, 1.89MB/s]"
          }
        },
        "26e207da093e4708848238f92674c435": {
          "model_module": "@jupyter-widgets/base",
          "model_name": "LayoutModel",
          "model_module_version": "1.2.0",
          "state": {
            "_model_module": "@jupyter-widgets/base",
            "_model_module_version": "1.2.0",
            "_model_name": "LayoutModel",
            "_view_count": null,
            "_view_module": "@jupyter-widgets/base",
            "_view_module_version": "1.2.0",
            "_view_name": "LayoutView",
            "align_content": null,
            "align_items": null,
            "align_self": null,
            "border": null,
            "bottom": null,
            "display": null,
            "flex": null,
            "flex_flow": null,
            "grid_area": null,
            "grid_auto_columns": null,
            "grid_auto_flow": null,
            "grid_auto_rows": null,
            "grid_column": null,
            "grid_gap": null,
            "grid_row": null,
            "grid_template_areas": null,
            "grid_template_columns": null,
            "grid_template_rows": null,
            "height": null,
            "justify_content": null,
            "justify_items": null,
            "left": null,
            "margin": null,
            "max_height": null,
            "max_width": null,
            "min_height": null,
            "min_width": null,
            "object_fit": null,
            "object_position": null,
            "order": null,
            "overflow": null,
            "overflow_x": null,
            "overflow_y": null,
            "padding": null,
            "right": null,
            "top": null,
            "visibility": null,
            "width": null
          }
        },
        "3597ddc2c548434f915a757268a085bd": {
          "model_module": "@jupyter-widgets/base",
          "model_name": "LayoutModel",
          "model_module_version": "1.2.0",
          "state": {
            "_model_module": "@jupyter-widgets/base",
            "_model_module_version": "1.2.0",
            "_model_name": "LayoutModel",
            "_view_count": null,
            "_view_module": "@jupyter-widgets/base",
            "_view_module_version": "1.2.0",
            "_view_name": "LayoutView",
            "align_content": null,
            "align_items": null,
            "align_self": null,
            "border": null,
            "bottom": null,
            "display": null,
            "flex": null,
            "flex_flow": null,
            "grid_area": null,
            "grid_auto_columns": null,
            "grid_auto_flow": null,
            "grid_auto_rows": null,
            "grid_column": null,
            "grid_gap": null,
            "grid_row": null,
            "grid_template_areas": null,
            "grid_template_columns": null,
            "grid_template_rows": null,
            "height": null,
            "justify_content": null,
            "justify_items": null,
            "left": null,
            "margin": null,
            "max_height": null,
            "max_width": null,
            "min_height": null,
            "min_width": null,
            "object_fit": null,
            "object_position": null,
            "order": null,
            "overflow": null,
            "overflow_x": null,
            "overflow_y": null,
            "padding": null,
            "right": null,
            "top": null,
            "visibility": null,
            "width": null
          }
        },
        "adbd778e2c574b3a94ce149355ae67b8": {
          "model_module": "@jupyter-widgets/controls",
          "model_name": "DescriptionStyleModel",
          "model_module_version": "1.5.0",
          "state": {
            "_model_module": "@jupyter-widgets/controls",
            "_model_module_version": "1.5.0",
            "_model_name": "DescriptionStyleModel",
            "_view_count": null,
            "_view_module": "@jupyter-widgets/base",
            "_view_module_version": "1.2.0",
            "_view_name": "StyleView",
            "description_width": ""
          }
        },
        "f22cc010853b4674854efebade5b1cbe": {
          "model_module": "@jupyter-widgets/base",
          "model_name": "LayoutModel",
          "model_module_version": "1.2.0",
          "state": {
            "_model_module": "@jupyter-widgets/base",
            "_model_module_version": "1.2.0",
            "_model_name": "LayoutModel",
            "_view_count": null,
            "_view_module": "@jupyter-widgets/base",
            "_view_module_version": "1.2.0",
            "_view_name": "LayoutView",
            "align_content": null,
            "align_items": null,
            "align_self": null,
            "border": null,
            "bottom": null,
            "display": null,
            "flex": null,
            "flex_flow": null,
            "grid_area": null,
            "grid_auto_columns": null,
            "grid_auto_flow": null,
            "grid_auto_rows": null,
            "grid_column": null,
            "grid_gap": null,
            "grid_row": null,
            "grid_template_areas": null,
            "grid_template_columns": null,
            "grid_template_rows": null,
            "height": null,
            "justify_content": null,
            "justify_items": null,
            "left": null,
            "margin": null,
            "max_height": null,
            "max_width": null,
            "min_height": null,
            "min_width": null,
            "object_fit": null,
            "object_position": null,
            "order": null,
            "overflow": null,
            "overflow_x": null,
            "overflow_y": null,
            "padding": null,
            "right": null,
            "top": null,
            "visibility": null,
            "width": null
          }
        },
        "25b8deb6e74243c2a11c334c4646bd5e": {
          "model_module": "@jupyter-widgets/controls",
          "model_name": "ProgressStyleModel",
          "model_module_version": "1.5.0",
          "state": {
            "_model_module": "@jupyter-widgets/controls",
            "_model_module_version": "1.5.0",
            "_model_name": "ProgressStyleModel",
            "_view_count": null,
            "_view_module": "@jupyter-widgets/base",
            "_view_module_version": "1.2.0",
            "_view_name": "StyleView",
            "bar_color": null,
            "description_width": ""
          }
        },
        "515e21bcf18444ff963cf04f331971c5": {
          "model_module": "@jupyter-widgets/base",
          "model_name": "LayoutModel",
          "model_module_version": "1.2.0",
          "state": {
            "_model_module": "@jupyter-widgets/base",
            "_model_module_version": "1.2.0",
            "_model_name": "LayoutModel",
            "_view_count": null,
            "_view_module": "@jupyter-widgets/base",
            "_view_module_version": "1.2.0",
            "_view_name": "LayoutView",
            "align_content": null,
            "align_items": null,
            "align_self": null,
            "border": null,
            "bottom": null,
            "display": null,
            "flex": null,
            "flex_flow": null,
            "grid_area": null,
            "grid_auto_columns": null,
            "grid_auto_flow": null,
            "grid_auto_rows": null,
            "grid_column": null,
            "grid_gap": null,
            "grid_row": null,
            "grid_template_areas": null,
            "grid_template_columns": null,
            "grid_template_rows": null,
            "height": null,
            "justify_content": null,
            "justify_items": null,
            "left": null,
            "margin": null,
            "max_height": null,
            "max_width": null,
            "min_height": null,
            "min_width": null,
            "object_fit": null,
            "object_position": null,
            "order": null,
            "overflow": null,
            "overflow_x": null,
            "overflow_y": null,
            "padding": null,
            "right": null,
            "top": null,
            "visibility": null,
            "width": null
          }
        },
        "54a18a3c77da43a9b0f03fd39bdbe0d3": {
          "model_module": "@jupyter-widgets/controls",
          "model_name": "DescriptionStyleModel",
          "model_module_version": "1.5.0",
          "state": {
            "_model_module": "@jupyter-widgets/controls",
            "_model_module_version": "1.5.0",
            "_model_name": "DescriptionStyleModel",
            "_view_count": null,
            "_view_module": "@jupyter-widgets/base",
            "_view_module_version": "1.2.0",
            "_view_name": "StyleView",
            "description_width": ""
          }
        },
        "fdfba4d76386413e854dcea30958e9f9": {
          "model_module": "@jupyter-widgets/controls",
          "model_name": "HBoxModel",
          "model_module_version": "1.5.0",
          "state": {
            "_dom_classes": [],
            "_model_module": "@jupyter-widgets/controls",
            "_model_module_version": "1.5.0",
            "_model_name": "HBoxModel",
            "_view_count": null,
            "_view_module": "@jupyter-widgets/controls",
            "_view_module_version": "1.5.0",
            "_view_name": "HBoxView",
            "box_style": "",
            "children": [
              "IPY_MODEL_f392d7fcf7464a739ced8559c7c878fe",
              "IPY_MODEL_b5af30f60db6444fb26656dbd6306ce8",
              "IPY_MODEL_07b5b72a15df4ad58e51e54286e86745"
            ],
            "layout": "IPY_MODEL_e345d5dbdbb048999c33990d291882ce"
          }
        },
        "f392d7fcf7464a739ced8559c7c878fe": {
          "model_module": "@jupyter-widgets/controls",
          "model_name": "HTMLModel",
          "model_module_version": "1.5.0",
          "state": {
            "_dom_classes": [],
            "_model_module": "@jupyter-widgets/controls",
            "_model_module_version": "1.5.0",
            "_model_name": "HTMLModel",
            "_view_count": null,
            "_view_module": "@jupyter-widgets/controls",
            "_view_module_version": "1.5.0",
            "_view_name": "HTMLView",
            "description": "",
            "description_tooltip": null,
            "layout": "IPY_MODEL_a93a3b2ad7f94876896e8f703828666c",
            "placeholder": "​",
            "style": "IPY_MODEL_920a7ab48fd54da18bcd7e339d83603e",
            "value": "Generating train split: "
          }
        },
        "b5af30f60db6444fb26656dbd6306ce8": {
          "model_module": "@jupyter-widgets/controls",
          "model_name": "FloatProgressModel",
          "model_module_version": "1.5.0",
          "state": {
            "_dom_classes": [],
            "_model_module": "@jupyter-widgets/controls",
            "_model_module_version": "1.5.0",
            "_model_name": "FloatProgressModel",
            "_view_count": null,
            "_view_module": "@jupyter-widgets/controls",
            "_view_module_version": "1.5.0",
            "_view_name": "ProgressView",
            "bar_style": "info",
            "description": "",
            "description_tooltip": null,
            "layout": "IPY_MODEL_c0109dc9f1c144c9bc561b1b23b8ffed",
            "max": 1,
            "min": 0,
            "orientation": "horizontal",
            "style": "IPY_MODEL_a163dc4980eb406193134108b03390bf",
            "value": 1
          }
        },
        "07b5b72a15df4ad58e51e54286e86745": {
          "model_module": "@jupyter-widgets/controls",
          "model_name": "HTMLModel",
          "model_module_version": "1.5.0",
          "state": {
            "_dom_classes": [],
            "_model_module": "@jupyter-widgets/controls",
            "_model_module_version": "1.5.0",
            "_model_name": "HTMLModel",
            "_view_count": null,
            "_view_module": "@jupyter-widgets/controls",
            "_view_module_version": "1.5.0",
            "_view_name": "HTMLView",
            "description": "",
            "description_tooltip": null,
            "layout": "IPY_MODEL_ded578b8ecc24b83a842eeae2419bf02",
            "placeholder": "​",
            "style": "IPY_MODEL_19b3fcd9461f4aa68e72a283586b76f3",
            "value": " 3649/0 [00:00&lt;00:00, 8393.62 examples/s]"
          }
        },
        "e345d5dbdbb048999c33990d291882ce": {
          "model_module": "@jupyter-widgets/base",
          "model_name": "LayoutModel",
          "model_module_version": "1.2.0",
          "state": {
            "_model_module": "@jupyter-widgets/base",
            "_model_module_version": "1.2.0",
            "_model_name": "LayoutModel",
            "_view_count": null,
            "_view_module": "@jupyter-widgets/base",
            "_view_module_version": "1.2.0",
            "_view_name": "LayoutView",
            "align_content": null,
            "align_items": null,
            "align_self": null,
            "border": null,
            "bottom": null,
            "display": null,
            "flex": null,
            "flex_flow": null,
            "grid_area": null,
            "grid_auto_columns": null,
            "grid_auto_flow": null,
            "grid_auto_rows": null,
            "grid_column": null,
            "grid_gap": null,
            "grid_row": null,
            "grid_template_areas": null,
            "grid_template_columns": null,
            "grid_template_rows": null,
            "height": null,
            "justify_content": null,
            "justify_items": null,
            "left": null,
            "margin": null,
            "max_height": null,
            "max_width": null,
            "min_height": null,
            "min_width": null,
            "object_fit": null,
            "object_position": null,
            "order": null,
            "overflow": null,
            "overflow_x": null,
            "overflow_y": null,
            "padding": null,
            "right": null,
            "top": null,
            "visibility": "hidden",
            "width": null
          }
        },
        "a93a3b2ad7f94876896e8f703828666c": {
          "model_module": "@jupyter-widgets/base",
          "model_name": "LayoutModel",
          "model_module_version": "1.2.0",
          "state": {
            "_model_module": "@jupyter-widgets/base",
            "_model_module_version": "1.2.0",
            "_model_name": "LayoutModel",
            "_view_count": null,
            "_view_module": "@jupyter-widgets/base",
            "_view_module_version": "1.2.0",
            "_view_name": "LayoutView",
            "align_content": null,
            "align_items": null,
            "align_self": null,
            "border": null,
            "bottom": null,
            "display": null,
            "flex": null,
            "flex_flow": null,
            "grid_area": null,
            "grid_auto_columns": null,
            "grid_auto_flow": null,
            "grid_auto_rows": null,
            "grid_column": null,
            "grid_gap": null,
            "grid_row": null,
            "grid_template_areas": null,
            "grid_template_columns": null,
            "grid_template_rows": null,
            "height": null,
            "justify_content": null,
            "justify_items": null,
            "left": null,
            "margin": null,
            "max_height": null,
            "max_width": null,
            "min_height": null,
            "min_width": null,
            "object_fit": null,
            "object_position": null,
            "order": null,
            "overflow": null,
            "overflow_x": null,
            "overflow_y": null,
            "padding": null,
            "right": null,
            "top": null,
            "visibility": null,
            "width": null
          }
        },
        "920a7ab48fd54da18bcd7e339d83603e": {
          "model_module": "@jupyter-widgets/controls",
          "model_name": "DescriptionStyleModel",
          "model_module_version": "1.5.0",
          "state": {
            "_model_module": "@jupyter-widgets/controls",
            "_model_module_version": "1.5.0",
            "_model_name": "DescriptionStyleModel",
            "_view_count": null,
            "_view_module": "@jupyter-widgets/base",
            "_view_module_version": "1.2.0",
            "_view_name": "StyleView",
            "description_width": ""
          }
        },
        "c0109dc9f1c144c9bc561b1b23b8ffed": {
          "model_module": "@jupyter-widgets/base",
          "model_name": "LayoutModel",
          "model_module_version": "1.2.0",
          "state": {
            "_model_module": "@jupyter-widgets/base",
            "_model_module_version": "1.2.0",
            "_model_name": "LayoutModel",
            "_view_count": null,
            "_view_module": "@jupyter-widgets/base",
            "_view_module_version": "1.2.0",
            "_view_name": "LayoutView",
            "align_content": null,
            "align_items": null,
            "align_self": null,
            "border": null,
            "bottom": null,
            "display": null,
            "flex": null,
            "flex_flow": null,
            "grid_area": null,
            "grid_auto_columns": null,
            "grid_auto_flow": null,
            "grid_auto_rows": null,
            "grid_column": null,
            "grid_gap": null,
            "grid_row": null,
            "grid_template_areas": null,
            "grid_template_columns": null,
            "grid_template_rows": null,
            "height": null,
            "justify_content": null,
            "justify_items": null,
            "left": null,
            "margin": null,
            "max_height": null,
            "max_width": null,
            "min_height": null,
            "min_width": null,
            "object_fit": null,
            "object_position": null,
            "order": null,
            "overflow": null,
            "overflow_x": null,
            "overflow_y": null,
            "padding": null,
            "right": null,
            "top": null,
            "visibility": null,
            "width": "20px"
          }
        },
        "a163dc4980eb406193134108b03390bf": {
          "model_module": "@jupyter-widgets/controls",
          "model_name": "ProgressStyleModel",
          "model_module_version": "1.5.0",
          "state": {
            "_model_module": "@jupyter-widgets/controls",
            "_model_module_version": "1.5.0",
            "_model_name": "ProgressStyleModel",
            "_view_count": null,
            "_view_module": "@jupyter-widgets/base",
            "_view_module_version": "1.2.0",
            "_view_name": "StyleView",
            "bar_color": null,
            "description_width": ""
          }
        },
        "ded578b8ecc24b83a842eeae2419bf02": {
          "model_module": "@jupyter-widgets/base",
          "model_name": "LayoutModel",
          "model_module_version": "1.2.0",
          "state": {
            "_model_module": "@jupyter-widgets/base",
            "_model_module_version": "1.2.0",
            "_model_name": "LayoutModel",
            "_view_count": null,
            "_view_module": "@jupyter-widgets/base",
            "_view_module_version": "1.2.0",
            "_view_name": "LayoutView",
            "align_content": null,
            "align_items": null,
            "align_self": null,
            "border": null,
            "bottom": null,
            "display": null,
            "flex": null,
            "flex_flow": null,
            "grid_area": null,
            "grid_auto_columns": null,
            "grid_auto_flow": null,
            "grid_auto_rows": null,
            "grid_column": null,
            "grid_gap": null,
            "grid_row": null,
            "grid_template_areas": null,
            "grid_template_columns": null,
            "grid_template_rows": null,
            "height": null,
            "justify_content": null,
            "justify_items": null,
            "left": null,
            "margin": null,
            "max_height": null,
            "max_width": null,
            "min_height": null,
            "min_width": null,
            "object_fit": null,
            "object_position": null,
            "order": null,
            "overflow": null,
            "overflow_x": null,
            "overflow_y": null,
            "padding": null,
            "right": null,
            "top": null,
            "visibility": null,
            "width": null
          }
        },
        "19b3fcd9461f4aa68e72a283586b76f3": {
          "model_module": "@jupyter-widgets/controls",
          "model_name": "DescriptionStyleModel",
          "model_module_version": "1.5.0",
          "state": {
            "_model_module": "@jupyter-widgets/controls",
            "_model_module_version": "1.5.0",
            "_model_name": "DescriptionStyleModel",
            "_view_count": null,
            "_view_module": "@jupyter-widgets/base",
            "_view_module_version": "1.2.0",
            "_view_name": "StyleView",
            "description_width": ""
          }
        },
        "478a18055bcb41f4a6ead3ee6d3a3101": {
          "model_module": "@jupyter-widgets/controls",
          "model_name": "HBoxModel",
          "model_module_version": "1.5.0",
          "state": {
            "_dom_classes": [],
            "_model_module": "@jupyter-widgets/controls",
            "_model_module_version": "1.5.0",
            "_model_name": "HBoxModel",
            "_view_count": null,
            "_view_module": "@jupyter-widgets/controls",
            "_view_module_version": "1.5.0",
            "_view_name": "HBoxView",
            "box_style": "",
            "children": [
              "IPY_MODEL_e8832f254c7e4a189e330c82338dca70",
              "IPY_MODEL_ceb188b41c444a05b7a85748fcad1529",
              "IPY_MODEL_5c99e7081a1d4addaba470755b8c1c88"
            ],
            "layout": "IPY_MODEL_470e62a2a5c54a2dbcc496c2b7fea0eb"
          }
        },
        "e8832f254c7e4a189e330c82338dca70": {
          "model_module": "@jupyter-widgets/controls",
          "model_name": "HTMLModel",
          "model_module_version": "1.5.0",
          "state": {
            "_dom_classes": [],
            "_model_module": "@jupyter-widgets/controls",
            "_model_module_version": "1.5.0",
            "_model_name": "HTMLModel",
            "_view_count": null,
            "_view_module": "@jupyter-widgets/controls",
            "_view_module_version": "1.5.0",
            "_view_name": "HTMLView",
            "description": "",
            "description_tooltip": null,
            "layout": "IPY_MODEL_a1ad51cb35e1455ab8a40ec345a868ac",
            "placeholder": "​",
            "style": "IPY_MODEL_e33eaa96184340c3899419c17edfa78b",
            "value": "Generating validation split: "
          }
        },
        "ceb188b41c444a05b7a85748fcad1529": {
          "model_module": "@jupyter-widgets/controls",
          "model_name": "FloatProgressModel",
          "model_module_version": "1.5.0",
          "state": {
            "_dom_classes": [],
            "_model_module": "@jupyter-widgets/controls",
            "_model_module_version": "1.5.0",
            "_model_name": "FloatProgressModel",
            "_view_count": null,
            "_view_module": "@jupyter-widgets/controls",
            "_view_module_version": "1.5.0",
            "_view_name": "ProgressView",
            "bar_style": "info",
            "description": "",
            "description_tooltip": null,
            "layout": "IPY_MODEL_31e0708113e04aa0a996dee537e942d8",
            "max": 1,
            "min": 0,
            "orientation": "horizontal",
            "style": "IPY_MODEL_362d872964af47aba363a158689c5079",
            "value": 1
          }
        },
        "5c99e7081a1d4addaba470755b8c1c88": {
          "model_module": "@jupyter-widgets/controls",
          "model_name": "HTMLModel",
          "model_module_version": "1.5.0",
          "state": {
            "_dom_classes": [],
            "_model_module": "@jupyter-widgets/controls",
            "_model_module_version": "1.5.0",
            "_model_name": "HTMLModel",
            "_view_count": null,
            "_view_module": "@jupyter-widgets/controls",
            "_view_module_version": "1.5.0",
            "_view_name": "HTMLView",
            "description": "",
            "description_tooltip": null,
            "layout": "IPY_MODEL_7ecc65b9827f4014a799a78ea150dd27",
            "placeholder": "​",
            "style": "IPY_MODEL_d9049b4e026b4441917dd4e9cc2e24d8",
            "value": " 0/0 [00:00&lt;?, ? examples/s]"
          }
        },
        "470e62a2a5c54a2dbcc496c2b7fea0eb": {
          "model_module": "@jupyter-widgets/base",
          "model_name": "LayoutModel",
          "model_module_version": "1.2.0",
          "state": {
            "_model_module": "@jupyter-widgets/base",
            "_model_module_version": "1.2.0",
            "_model_name": "LayoutModel",
            "_view_count": null,
            "_view_module": "@jupyter-widgets/base",
            "_view_module_version": "1.2.0",
            "_view_name": "LayoutView",
            "align_content": null,
            "align_items": null,
            "align_self": null,
            "border": null,
            "bottom": null,
            "display": null,
            "flex": null,
            "flex_flow": null,
            "grid_area": null,
            "grid_auto_columns": null,
            "grid_auto_flow": null,
            "grid_auto_rows": null,
            "grid_column": null,
            "grid_gap": null,
            "grid_row": null,
            "grid_template_areas": null,
            "grid_template_columns": null,
            "grid_template_rows": null,
            "height": null,
            "justify_content": null,
            "justify_items": null,
            "left": null,
            "margin": null,
            "max_height": null,
            "max_width": null,
            "min_height": null,
            "min_width": null,
            "object_fit": null,
            "object_position": null,
            "order": null,
            "overflow": null,
            "overflow_x": null,
            "overflow_y": null,
            "padding": null,
            "right": null,
            "top": null,
            "visibility": "hidden",
            "width": null
          }
        },
        "a1ad51cb35e1455ab8a40ec345a868ac": {
          "model_module": "@jupyter-widgets/base",
          "model_name": "LayoutModel",
          "model_module_version": "1.2.0",
          "state": {
            "_model_module": "@jupyter-widgets/base",
            "_model_module_version": "1.2.0",
            "_model_name": "LayoutModel",
            "_view_count": null,
            "_view_module": "@jupyter-widgets/base",
            "_view_module_version": "1.2.0",
            "_view_name": "LayoutView",
            "align_content": null,
            "align_items": null,
            "align_self": null,
            "border": null,
            "bottom": null,
            "display": null,
            "flex": null,
            "flex_flow": null,
            "grid_area": null,
            "grid_auto_columns": null,
            "grid_auto_flow": null,
            "grid_auto_rows": null,
            "grid_column": null,
            "grid_gap": null,
            "grid_row": null,
            "grid_template_areas": null,
            "grid_template_columns": null,
            "grid_template_rows": null,
            "height": null,
            "justify_content": null,
            "justify_items": null,
            "left": null,
            "margin": null,
            "max_height": null,
            "max_width": null,
            "min_height": null,
            "min_width": null,
            "object_fit": null,
            "object_position": null,
            "order": null,
            "overflow": null,
            "overflow_x": null,
            "overflow_y": null,
            "padding": null,
            "right": null,
            "top": null,
            "visibility": null,
            "width": null
          }
        },
        "e33eaa96184340c3899419c17edfa78b": {
          "model_module": "@jupyter-widgets/controls",
          "model_name": "DescriptionStyleModel",
          "model_module_version": "1.5.0",
          "state": {
            "_model_module": "@jupyter-widgets/controls",
            "_model_module_version": "1.5.0",
            "_model_name": "DescriptionStyleModel",
            "_view_count": null,
            "_view_module": "@jupyter-widgets/base",
            "_view_module_version": "1.2.0",
            "_view_name": "StyleView",
            "description_width": ""
          }
        },
        "31e0708113e04aa0a996dee537e942d8": {
          "model_module": "@jupyter-widgets/base",
          "model_name": "LayoutModel",
          "model_module_version": "1.2.0",
          "state": {
            "_model_module": "@jupyter-widgets/base",
            "_model_module_version": "1.2.0",
            "_model_name": "LayoutModel",
            "_view_count": null,
            "_view_module": "@jupyter-widgets/base",
            "_view_module_version": "1.2.0",
            "_view_name": "LayoutView",
            "align_content": null,
            "align_items": null,
            "align_self": null,
            "border": null,
            "bottom": null,
            "display": null,
            "flex": null,
            "flex_flow": null,
            "grid_area": null,
            "grid_auto_columns": null,
            "grid_auto_flow": null,
            "grid_auto_rows": null,
            "grid_column": null,
            "grid_gap": null,
            "grid_row": null,
            "grid_template_areas": null,
            "grid_template_columns": null,
            "grid_template_rows": null,
            "height": null,
            "justify_content": null,
            "justify_items": null,
            "left": null,
            "margin": null,
            "max_height": null,
            "max_width": null,
            "min_height": null,
            "min_width": null,
            "object_fit": null,
            "object_position": null,
            "order": null,
            "overflow": null,
            "overflow_x": null,
            "overflow_y": null,
            "padding": null,
            "right": null,
            "top": null,
            "visibility": null,
            "width": "20px"
          }
        },
        "362d872964af47aba363a158689c5079": {
          "model_module": "@jupyter-widgets/controls",
          "model_name": "ProgressStyleModel",
          "model_module_version": "1.5.0",
          "state": {
            "_model_module": "@jupyter-widgets/controls",
            "_model_module_version": "1.5.0",
            "_model_name": "ProgressStyleModel",
            "_view_count": null,
            "_view_module": "@jupyter-widgets/base",
            "_view_module_version": "1.2.0",
            "_view_name": "StyleView",
            "bar_color": null,
            "description_width": ""
          }
        },
        "7ecc65b9827f4014a799a78ea150dd27": {
          "model_module": "@jupyter-widgets/base",
          "model_name": "LayoutModel",
          "model_module_version": "1.2.0",
          "state": {
            "_model_module": "@jupyter-widgets/base",
            "_model_module_version": "1.2.0",
            "_model_name": "LayoutModel",
            "_view_count": null,
            "_view_module": "@jupyter-widgets/base",
            "_view_module_version": "1.2.0",
            "_view_name": "LayoutView",
            "align_content": null,
            "align_items": null,
            "align_self": null,
            "border": null,
            "bottom": null,
            "display": null,
            "flex": null,
            "flex_flow": null,
            "grid_area": null,
            "grid_auto_columns": null,
            "grid_auto_flow": null,
            "grid_auto_rows": null,
            "grid_column": null,
            "grid_gap": null,
            "grid_row": null,
            "grid_template_areas": null,
            "grid_template_columns": null,
            "grid_template_rows": null,
            "height": null,
            "justify_content": null,
            "justify_items": null,
            "left": null,
            "margin": null,
            "max_height": null,
            "max_width": null,
            "min_height": null,
            "min_width": null,
            "object_fit": null,
            "object_position": null,
            "order": null,
            "overflow": null,
            "overflow_x": null,
            "overflow_y": null,
            "padding": null,
            "right": null,
            "top": null,
            "visibility": null,
            "width": null
          }
        },
        "d9049b4e026b4441917dd4e9cc2e24d8": {
          "model_module": "@jupyter-widgets/controls",
          "model_name": "DescriptionStyleModel",
          "model_module_version": "1.5.0",
          "state": {
            "_model_module": "@jupyter-widgets/controls",
            "_model_module_version": "1.5.0",
            "_model_name": "DescriptionStyleModel",
            "_view_count": null,
            "_view_module": "@jupyter-widgets/base",
            "_view_module_version": "1.2.0",
            "_view_name": "StyleView",
            "description_width": ""
          }
        },
        "76e5e70e481b4fa8b2428d9b00de468a": {
          "model_module": "@jupyter-widgets/controls",
          "model_name": "HBoxModel",
          "model_module_version": "1.5.0",
          "state": {
            "_dom_classes": [],
            "_model_module": "@jupyter-widgets/controls",
            "_model_module_version": "1.5.0",
            "_model_name": "HBoxModel",
            "_view_count": null,
            "_view_module": "@jupyter-widgets/controls",
            "_view_module_version": "1.5.0",
            "_view_name": "HBoxView",
            "box_style": "",
            "children": [
              "IPY_MODEL_34af5ab1be764bf796b66ac50e6d005e",
              "IPY_MODEL_e62db63805d1409d851705826313ed34",
              "IPY_MODEL_6e20d19f1a6b4be6b740ad52ff653493"
            ],
            "layout": "IPY_MODEL_3aa7a240d2624c08bc1a3d0b92779c26"
          }
        },
        "34af5ab1be764bf796b66ac50e6d005e": {
          "model_module": "@jupyter-widgets/controls",
          "model_name": "HTMLModel",
          "model_module_version": "1.5.0",
          "state": {
            "_dom_classes": [],
            "_model_module": "@jupyter-widgets/controls",
            "_model_module_version": "1.5.0",
            "_model_name": "HTMLModel",
            "_view_count": null,
            "_view_module": "@jupyter-widgets/controls",
            "_view_module_version": "1.5.0",
            "_view_name": "HTMLView",
            "description": "",
            "description_tooltip": null,
            "layout": "IPY_MODEL_df02ac8614284a979f053664ad2679f4",
            "placeholder": "​",
            "style": "IPY_MODEL_684294801c83405b8f0dd13f0550b905",
            "value": "Generating test split: "
          }
        },
        "e62db63805d1409d851705826313ed34": {
          "model_module": "@jupyter-widgets/controls",
          "model_name": "FloatProgressModel",
          "model_module_version": "1.5.0",
          "state": {
            "_dom_classes": [],
            "_model_module": "@jupyter-widgets/controls",
            "_model_module_version": "1.5.0",
            "_model_name": "FloatProgressModel",
            "_view_count": null,
            "_view_module": "@jupyter-widgets/controls",
            "_view_module_version": "1.5.0",
            "_view_name": "ProgressView",
            "bar_style": "info",
            "description": "",
            "description_tooltip": null,
            "layout": "IPY_MODEL_8c7fcc2dfcdc428c90f5da63d371ec42",
            "max": 1,
            "min": 0,
            "orientation": "horizontal",
            "style": "IPY_MODEL_823aacc4ccc74378a5d10b3f4ffe1eec",
            "value": 1
          }
        },
        "6e20d19f1a6b4be6b740ad52ff653493": {
          "model_module": "@jupyter-widgets/controls",
          "model_name": "HTMLModel",
          "model_module_version": "1.5.0",
          "state": {
            "_dom_classes": [],
            "_model_module": "@jupyter-widgets/controls",
            "_model_module_version": "1.5.0",
            "_model_name": "HTMLModel",
            "_view_count": null,
            "_view_module": "@jupyter-widgets/controls",
            "_view_module_version": "1.5.0",
            "_view_name": "HTMLView",
            "description": "",
            "description_tooltip": null,
            "layout": "IPY_MODEL_1d28187dcb9e4e5c84dbfb2b7e4d3109",
            "placeholder": "​",
            "style": "IPY_MODEL_03f3f31fbe124647bbf2ef33230c1be2",
            "value": " 397/0 [00:00&lt;00:00, 3212.67 examples/s]"
          }
        },
        "3aa7a240d2624c08bc1a3d0b92779c26": {
          "model_module": "@jupyter-widgets/base",
          "model_name": "LayoutModel",
          "model_module_version": "1.2.0",
          "state": {
            "_model_module": "@jupyter-widgets/base",
            "_model_module_version": "1.2.0",
            "_model_name": "LayoutModel",
            "_view_count": null,
            "_view_module": "@jupyter-widgets/base",
            "_view_module_version": "1.2.0",
            "_view_name": "LayoutView",
            "align_content": null,
            "align_items": null,
            "align_self": null,
            "border": null,
            "bottom": null,
            "display": null,
            "flex": null,
            "flex_flow": null,
            "grid_area": null,
            "grid_auto_columns": null,
            "grid_auto_flow": null,
            "grid_auto_rows": null,
            "grid_column": null,
            "grid_gap": null,
            "grid_row": null,
            "grid_template_areas": null,
            "grid_template_columns": null,
            "grid_template_rows": null,
            "height": null,
            "justify_content": null,
            "justify_items": null,
            "left": null,
            "margin": null,
            "max_height": null,
            "max_width": null,
            "min_height": null,
            "min_width": null,
            "object_fit": null,
            "object_position": null,
            "order": null,
            "overflow": null,
            "overflow_x": null,
            "overflow_y": null,
            "padding": null,
            "right": null,
            "top": null,
            "visibility": "hidden",
            "width": null
          }
        },
        "df02ac8614284a979f053664ad2679f4": {
          "model_module": "@jupyter-widgets/base",
          "model_name": "LayoutModel",
          "model_module_version": "1.2.0",
          "state": {
            "_model_module": "@jupyter-widgets/base",
            "_model_module_version": "1.2.0",
            "_model_name": "LayoutModel",
            "_view_count": null,
            "_view_module": "@jupyter-widgets/base",
            "_view_module_version": "1.2.0",
            "_view_name": "LayoutView",
            "align_content": null,
            "align_items": null,
            "align_self": null,
            "border": null,
            "bottom": null,
            "display": null,
            "flex": null,
            "flex_flow": null,
            "grid_area": null,
            "grid_auto_columns": null,
            "grid_auto_flow": null,
            "grid_auto_rows": null,
            "grid_column": null,
            "grid_gap": null,
            "grid_row": null,
            "grid_template_areas": null,
            "grid_template_columns": null,
            "grid_template_rows": null,
            "height": null,
            "justify_content": null,
            "justify_items": null,
            "left": null,
            "margin": null,
            "max_height": null,
            "max_width": null,
            "min_height": null,
            "min_width": null,
            "object_fit": null,
            "object_position": null,
            "order": null,
            "overflow": null,
            "overflow_x": null,
            "overflow_y": null,
            "padding": null,
            "right": null,
            "top": null,
            "visibility": null,
            "width": null
          }
        },
        "684294801c83405b8f0dd13f0550b905": {
          "model_module": "@jupyter-widgets/controls",
          "model_name": "DescriptionStyleModel",
          "model_module_version": "1.5.0",
          "state": {
            "_model_module": "@jupyter-widgets/controls",
            "_model_module_version": "1.5.0",
            "_model_name": "DescriptionStyleModel",
            "_view_count": null,
            "_view_module": "@jupyter-widgets/base",
            "_view_module_version": "1.2.0",
            "_view_name": "StyleView",
            "description_width": ""
          }
        },
        "8c7fcc2dfcdc428c90f5da63d371ec42": {
          "model_module": "@jupyter-widgets/base",
          "model_name": "LayoutModel",
          "model_module_version": "1.2.0",
          "state": {
            "_model_module": "@jupyter-widgets/base",
            "_model_module_version": "1.2.0",
            "_model_name": "LayoutModel",
            "_view_count": null,
            "_view_module": "@jupyter-widgets/base",
            "_view_module_version": "1.2.0",
            "_view_name": "LayoutView",
            "align_content": null,
            "align_items": null,
            "align_self": null,
            "border": null,
            "bottom": null,
            "display": null,
            "flex": null,
            "flex_flow": null,
            "grid_area": null,
            "grid_auto_columns": null,
            "grid_auto_flow": null,
            "grid_auto_rows": null,
            "grid_column": null,
            "grid_gap": null,
            "grid_row": null,
            "grid_template_areas": null,
            "grid_template_columns": null,
            "grid_template_rows": null,
            "height": null,
            "justify_content": null,
            "justify_items": null,
            "left": null,
            "margin": null,
            "max_height": null,
            "max_width": null,
            "min_height": null,
            "min_width": null,
            "object_fit": null,
            "object_position": null,
            "order": null,
            "overflow": null,
            "overflow_x": null,
            "overflow_y": null,
            "padding": null,
            "right": null,
            "top": null,
            "visibility": null,
            "width": "20px"
          }
        },
        "823aacc4ccc74378a5d10b3f4ffe1eec": {
          "model_module": "@jupyter-widgets/controls",
          "model_name": "ProgressStyleModel",
          "model_module_version": "1.5.0",
          "state": {
            "_model_module": "@jupyter-widgets/controls",
            "_model_module_version": "1.5.0",
            "_model_name": "ProgressStyleModel",
            "_view_count": null,
            "_view_module": "@jupyter-widgets/base",
            "_view_module_version": "1.2.0",
            "_view_name": "StyleView",
            "bar_color": null,
            "description_width": ""
          }
        },
        "1d28187dcb9e4e5c84dbfb2b7e4d3109": {
          "model_module": "@jupyter-widgets/base",
          "model_name": "LayoutModel",
          "model_module_version": "1.2.0",
          "state": {
            "_model_module": "@jupyter-widgets/base",
            "_model_module_version": "1.2.0",
            "_model_name": "LayoutModel",
            "_view_count": null,
            "_view_module": "@jupyter-widgets/base",
            "_view_module_version": "1.2.0",
            "_view_name": "LayoutView",
            "align_content": null,
            "align_items": null,
            "align_self": null,
            "border": null,
            "bottom": null,
            "display": null,
            "flex": null,
            "flex_flow": null,
            "grid_area": null,
            "grid_auto_columns": null,
            "grid_auto_flow": null,
            "grid_auto_rows": null,
            "grid_column": null,
            "grid_gap": null,
            "grid_row": null,
            "grid_template_areas": null,
            "grid_template_columns": null,
            "grid_template_rows": null,
            "height": null,
            "justify_content": null,
            "justify_items": null,
            "left": null,
            "margin": null,
            "max_height": null,
            "max_width": null,
            "min_height": null,
            "min_width": null,
            "object_fit": null,
            "object_position": null,
            "order": null,
            "overflow": null,
            "overflow_x": null,
            "overflow_y": null,
            "padding": null,
            "right": null,
            "top": null,
            "visibility": null,
            "width": null
          }
        },
        "03f3f31fbe124647bbf2ef33230c1be2": {
          "model_module": "@jupyter-widgets/controls",
          "model_name": "DescriptionStyleModel",
          "model_module_version": "1.5.0",
          "state": {
            "_model_module": "@jupyter-widgets/controls",
            "_model_module_version": "1.5.0",
            "_model_name": "DescriptionStyleModel",
            "_view_count": null,
            "_view_module": "@jupyter-widgets/base",
            "_view_module_version": "1.2.0",
            "_view_name": "StyleView",
            "description_width": ""
          }
        },
        "34793b1e6e2f4514baba760a033926cf": {
          "model_module": "@jupyter-widgets/controls",
          "model_name": "HBoxModel",
          "model_module_version": "1.5.0",
          "state": {
            "_dom_classes": [],
            "_model_module": "@jupyter-widgets/controls",
            "_model_module_version": "1.5.0",
            "_model_name": "HBoxModel",
            "_view_count": null,
            "_view_module": "@jupyter-widgets/controls",
            "_view_module_version": "1.5.0",
            "_view_name": "HBoxView",
            "box_style": "",
            "children": [
              "IPY_MODEL_3815813172c1433fb16da0eaeb95bc8e",
              "IPY_MODEL_dadf143b7a584c81990ac69cb1284443",
              "IPY_MODEL_1155951f3a1e48daa8a4905b9255e850"
            ],
            "layout": "IPY_MODEL_b19cd88e2b174bcd97e067a6a0ddf46a"
          }
        },
        "3815813172c1433fb16da0eaeb95bc8e": {
          "model_module": "@jupyter-widgets/controls",
          "model_name": "HTMLModel",
          "model_module_version": "1.5.0",
          "state": {
            "_dom_classes": [],
            "_model_module": "@jupyter-widgets/controls",
            "_model_module_version": "1.5.0",
            "_model_name": "HTMLModel",
            "_view_count": null,
            "_view_module": "@jupyter-widgets/controls",
            "_view_module_version": "1.5.0",
            "_view_name": "HTMLView",
            "description": "",
            "description_tooltip": null,
            "layout": "IPY_MODEL_39c6891a7f77435f9d6a990cfc038c43",
            "placeholder": "​",
            "style": "IPY_MODEL_c8a5a86e13e24a90bb260013103000eb",
            "value": "Generating test_originated split: "
          }
        },
        "dadf143b7a584c81990ac69cb1284443": {
          "model_module": "@jupyter-widgets/controls",
          "model_name": "FloatProgressModel",
          "model_module_version": "1.5.0",
          "state": {
            "_dom_classes": [],
            "_model_module": "@jupyter-widgets/controls",
            "_model_module_version": "1.5.0",
            "_model_name": "FloatProgressModel",
            "_view_count": null,
            "_view_module": "@jupyter-widgets/controls",
            "_view_module_version": "1.5.0",
            "_view_name": "ProgressView",
            "bar_style": "info",
            "description": "",
            "description_tooltip": null,
            "layout": "IPY_MODEL_b4befe2cb7fe4368bf800900ae70f584",
            "max": 1,
            "min": 0,
            "orientation": "horizontal",
            "style": "IPY_MODEL_d53c8bd0596347568d7b78a6f59cf82a",
            "value": 1
          }
        },
        "1155951f3a1e48daa8a4905b9255e850": {
          "model_module": "@jupyter-widgets/controls",
          "model_name": "HTMLModel",
          "model_module_version": "1.5.0",
          "state": {
            "_dom_classes": [],
            "_model_module": "@jupyter-widgets/controls",
            "_model_module_version": "1.5.0",
            "_model_name": "HTMLModel",
            "_view_count": null,
            "_view_module": "@jupyter-widgets/controls",
            "_view_module_version": "1.5.0",
            "_view_name": "HTMLView",
            "description": "",
            "description_tooltip": null,
            "layout": "IPY_MODEL_5606328e43f44c2cb9d3afc442b7a621",
            "placeholder": "​",
            "style": "IPY_MODEL_4cd4463d886b450e99781ab82a74d4a4",
            "value": " 397/0 [00:00&lt;00:00, 3452.00 examples/s]"
          }
        },
        "b19cd88e2b174bcd97e067a6a0ddf46a": {
          "model_module": "@jupyter-widgets/base",
          "model_name": "LayoutModel",
          "model_module_version": "1.2.0",
          "state": {
            "_model_module": "@jupyter-widgets/base",
            "_model_module_version": "1.2.0",
            "_model_name": "LayoutModel",
            "_view_count": null,
            "_view_module": "@jupyter-widgets/base",
            "_view_module_version": "1.2.0",
            "_view_name": "LayoutView",
            "align_content": null,
            "align_items": null,
            "align_self": null,
            "border": null,
            "bottom": null,
            "display": null,
            "flex": null,
            "flex_flow": null,
            "grid_area": null,
            "grid_auto_columns": null,
            "grid_auto_flow": null,
            "grid_auto_rows": null,
            "grid_column": null,
            "grid_gap": null,
            "grid_row": null,
            "grid_template_areas": null,
            "grid_template_columns": null,
            "grid_template_rows": null,
            "height": null,
            "justify_content": null,
            "justify_items": null,
            "left": null,
            "margin": null,
            "max_height": null,
            "max_width": null,
            "min_height": null,
            "min_width": null,
            "object_fit": null,
            "object_position": null,
            "order": null,
            "overflow": null,
            "overflow_x": null,
            "overflow_y": null,
            "padding": null,
            "right": null,
            "top": null,
            "visibility": "hidden",
            "width": null
          }
        },
        "39c6891a7f77435f9d6a990cfc038c43": {
          "model_module": "@jupyter-widgets/base",
          "model_name": "LayoutModel",
          "model_module_version": "1.2.0",
          "state": {
            "_model_module": "@jupyter-widgets/base",
            "_model_module_version": "1.2.0",
            "_model_name": "LayoutModel",
            "_view_count": null,
            "_view_module": "@jupyter-widgets/base",
            "_view_module_version": "1.2.0",
            "_view_name": "LayoutView",
            "align_content": null,
            "align_items": null,
            "align_self": null,
            "border": null,
            "bottom": null,
            "display": null,
            "flex": null,
            "flex_flow": null,
            "grid_area": null,
            "grid_auto_columns": null,
            "grid_auto_flow": null,
            "grid_auto_rows": null,
            "grid_column": null,
            "grid_gap": null,
            "grid_row": null,
            "grid_template_areas": null,
            "grid_template_columns": null,
            "grid_template_rows": null,
            "height": null,
            "justify_content": null,
            "justify_items": null,
            "left": null,
            "margin": null,
            "max_height": null,
            "max_width": null,
            "min_height": null,
            "min_width": null,
            "object_fit": null,
            "object_position": null,
            "order": null,
            "overflow": null,
            "overflow_x": null,
            "overflow_y": null,
            "padding": null,
            "right": null,
            "top": null,
            "visibility": null,
            "width": null
          }
        },
        "c8a5a86e13e24a90bb260013103000eb": {
          "model_module": "@jupyter-widgets/controls",
          "model_name": "DescriptionStyleModel",
          "model_module_version": "1.5.0",
          "state": {
            "_model_module": "@jupyter-widgets/controls",
            "_model_module_version": "1.5.0",
            "_model_name": "DescriptionStyleModel",
            "_view_count": null,
            "_view_module": "@jupyter-widgets/base",
            "_view_module_version": "1.2.0",
            "_view_name": "StyleView",
            "description_width": ""
          }
        },
        "b4befe2cb7fe4368bf800900ae70f584": {
          "model_module": "@jupyter-widgets/base",
          "model_name": "LayoutModel",
          "model_module_version": "1.2.0",
          "state": {
            "_model_module": "@jupyter-widgets/base",
            "_model_module_version": "1.2.0",
            "_model_name": "LayoutModel",
            "_view_count": null,
            "_view_module": "@jupyter-widgets/base",
            "_view_module_version": "1.2.0",
            "_view_name": "LayoutView",
            "align_content": null,
            "align_items": null,
            "align_self": null,
            "border": null,
            "bottom": null,
            "display": null,
            "flex": null,
            "flex_flow": null,
            "grid_area": null,
            "grid_auto_columns": null,
            "grid_auto_flow": null,
            "grid_auto_rows": null,
            "grid_column": null,
            "grid_gap": null,
            "grid_row": null,
            "grid_template_areas": null,
            "grid_template_columns": null,
            "grid_template_rows": null,
            "height": null,
            "justify_content": null,
            "justify_items": null,
            "left": null,
            "margin": null,
            "max_height": null,
            "max_width": null,
            "min_height": null,
            "min_width": null,
            "object_fit": null,
            "object_position": null,
            "order": null,
            "overflow": null,
            "overflow_x": null,
            "overflow_y": null,
            "padding": null,
            "right": null,
            "top": null,
            "visibility": null,
            "width": "20px"
          }
        },
        "d53c8bd0596347568d7b78a6f59cf82a": {
          "model_module": "@jupyter-widgets/controls",
          "model_name": "ProgressStyleModel",
          "model_module_version": "1.5.0",
          "state": {
            "_model_module": "@jupyter-widgets/controls",
            "_model_module_version": "1.5.0",
            "_model_name": "ProgressStyleModel",
            "_view_count": null,
            "_view_module": "@jupyter-widgets/base",
            "_view_module_version": "1.2.0",
            "_view_name": "StyleView",
            "bar_color": null,
            "description_width": ""
          }
        },
        "5606328e43f44c2cb9d3afc442b7a621": {
          "model_module": "@jupyter-widgets/base",
          "model_name": "LayoutModel",
          "model_module_version": "1.2.0",
          "state": {
            "_model_module": "@jupyter-widgets/base",
            "_model_module_version": "1.2.0",
            "_model_name": "LayoutModel",
            "_view_count": null,
            "_view_module": "@jupyter-widgets/base",
            "_view_module_version": "1.2.0",
            "_view_name": "LayoutView",
            "align_content": null,
            "align_items": null,
            "align_self": null,
            "border": null,
            "bottom": null,
            "display": null,
            "flex": null,
            "flex_flow": null,
            "grid_area": null,
            "grid_auto_columns": null,
            "grid_auto_flow": null,
            "grid_auto_rows": null,
            "grid_column": null,
            "grid_gap": null,
            "grid_row": null,
            "grid_template_areas": null,
            "grid_template_columns": null,
            "grid_template_rows": null,
            "height": null,
            "justify_content": null,
            "justify_items": null,
            "left": null,
            "margin": null,
            "max_height": null,
            "max_width": null,
            "min_height": null,
            "min_width": null,
            "object_fit": null,
            "object_position": null,
            "order": null,
            "overflow": null,
            "overflow_x": null,
            "overflow_y": null,
            "padding": null,
            "right": null,
            "top": null,
            "visibility": null,
            "width": null
          }
        },
        "4cd4463d886b450e99781ab82a74d4a4": {
          "model_module": "@jupyter-widgets/controls",
          "model_name": "DescriptionStyleModel",
          "model_module_version": "1.5.0",
          "state": {
            "_model_module": "@jupyter-widgets/controls",
            "_model_module_version": "1.5.0",
            "_model_name": "DescriptionStyleModel",
            "_view_count": null,
            "_view_module": "@jupyter-widgets/base",
            "_view_module_version": "1.2.0",
            "_view_name": "StyleView",
            "description_width": ""
          }
        },
        "0031b35cd1aa4f92becaa5d69d7c1330": {
          "model_module": "@jupyter-widgets/controls",
          "model_name": "HBoxModel",
          "model_module_version": "1.5.0",
          "state": {
            "_dom_classes": [],
            "_model_module": "@jupyter-widgets/controls",
            "_model_module_version": "1.5.0",
            "_model_name": "HBoxModel",
            "_view_count": null,
            "_view_module": "@jupyter-widgets/controls",
            "_view_module_version": "1.5.0",
            "_view_name": "HBoxView",
            "box_style": "",
            "children": [
              "IPY_MODEL_a6e590ca470e401b9cd0fdffa904f763",
              "IPY_MODEL_a38b72b6fb2b4a6480fb32cdb798495d",
              "IPY_MODEL_d2887fc82b434f3596512a5f92ba105a"
            ],
            "layout": "IPY_MODEL_8c88bd1aa0df4679adad72a26086ce4a"
          }
        },
        "a6e590ca470e401b9cd0fdffa904f763": {
          "model_module": "@jupyter-widgets/controls",
          "model_name": "HTMLModel",
          "model_module_version": "1.5.0",
          "state": {
            "_dom_classes": [],
            "_model_module": "@jupyter-widgets/controls",
            "_model_module_version": "1.5.0",
            "_model_name": "HTMLModel",
            "_view_count": null,
            "_view_module": "@jupyter-widgets/controls",
            "_view_module_version": "1.5.0",
            "_view_name": "HTMLView",
            "description": "",
            "description_tooltip": null,
            "layout": "IPY_MODEL_0116e775ae8a4f189734fa892da9b0d3",
            "placeholder": "​",
            "style": "IPY_MODEL_5f61360d962d4427a662cf6a78094e9f",
            "value": "100%"
          }
        },
        "a38b72b6fb2b4a6480fb32cdb798495d": {
          "model_module": "@jupyter-widgets/controls",
          "model_name": "FloatProgressModel",
          "model_module_version": "1.5.0",
          "state": {
            "_dom_classes": [],
            "_model_module": "@jupyter-widgets/controls",
            "_model_module_version": "1.5.0",
            "_model_name": "FloatProgressModel",
            "_view_count": null,
            "_view_module": "@jupyter-widgets/controls",
            "_view_module_version": "1.5.0",
            "_view_name": "ProgressView",
            "bar_style": "success",
            "description": "",
            "description_tooltip": null,
            "layout": "IPY_MODEL_852b17997468430388acf48f1455392f",
            "max": 4,
            "min": 0,
            "orientation": "horizontal",
            "style": "IPY_MODEL_95bf446d148a4025b74291d7232266e9",
            "value": 4
          }
        },
        "d2887fc82b434f3596512a5f92ba105a": {
          "model_module": "@jupyter-widgets/controls",
          "model_name": "HTMLModel",
          "model_module_version": "1.5.0",
          "state": {
            "_dom_classes": [],
            "_model_module": "@jupyter-widgets/controls",
            "_model_module_version": "1.5.0",
            "_model_name": "HTMLModel",
            "_view_count": null,
            "_view_module": "@jupyter-widgets/controls",
            "_view_module_version": "1.5.0",
            "_view_name": "HTMLView",
            "description": "",
            "description_tooltip": null,
            "layout": "IPY_MODEL_c6a29e171c1e46c4ad497a111d04acb4",
            "placeholder": "​",
            "style": "IPY_MODEL_4b2d55ca27924b6297627a31415156cf",
            "value": " 4/4 [00:00&lt;00:00, 79.34it/s]"
          }
        },
        "8c88bd1aa0df4679adad72a26086ce4a": {
          "model_module": "@jupyter-widgets/base",
          "model_name": "LayoutModel",
          "model_module_version": "1.2.0",
          "state": {
            "_model_module": "@jupyter-widgets/base",
            "_model_module_version": "1.2.0",
            "_model_name": "LayoutModel",
            "_view_count": null,
            "_view_module": "@jupyter-widgets/base",
            "_view_module_version": "1.2.0",
            "_view_name": "LayoutView",
            "align_content": null,
            "align_items": null,
            "align_self": null,
            "border": null,
            "bottom": null,
            "display": null,
            "flex": null,
            "flex_flow": null,
            "grid_area": null,
            "grid_auto_columns": null,
            "grid_auto_flow": null,
            "grid_auto_rows": null,
            "grid_column": null,
            "grid_gap": null,
            "grid_row": null,
            "grid_template_areas": null,
            "grid_template_columns": null,
            "grid_template_rows": null,
            "height": null,
            "justify_content": null,
            "justify_items": null,
            "left": null,
            "margin": null,
            "max_height": null,
            "max_width": null,
            "min_height": null,
            "min_width": null,
            "object_fit": null,
            "object_position": null,
            "order": null,
            "overflow": null,
            "overflow_x": null,
            "overflow_y": null,
            "padding": null,
            "right": null,
            "top": null,
            "visibility": null,
            "width": null
          }
        },
        "0116e775ae8a4f189734fa892da9b0d3": {
          "model_module": "@jupyter-widgets/base",
          "model_name": "LayoutModel",
          "model_module_version": "1.2.0",
          "state": {
            "_model_module": "@jupyter-widgets/base",
            "_model_module_version": "1.2.0",
            "_model_name": "LayoutModel",
            "_view_count": null,
            "_view_module": "@jupyter-widgets/base",
            "_view_module_version": "1.2.0",
            "_view_name": "LayoutView",
            "align_content": null,
            "align_items": null,
            "align_self": null,
            "border": null,
            "bottom": null,
            "display": null,
            "flex": null,
            "flex_flow": null,
            "grid_area": null,
            "grid_auto_columns": null,
            "grid_auto_flow": null,
            "grid_auto_rows": null,
            "grid_column": null,
            "grid_gap": null,
            "grid_row": null,
            "grid_template_areas": null,
            "grid_template_columns": null,
            "grid_template_rows": null,
            "height": null,
            "justify_content": null,
            "justify_items": null,
            "left": null,
            "margin": null,
            "max_height": null,
            "max_width": null,
            "min_height": null,
            "min_width": null,
            "object_fit": null,
            "object_position": null,
            "order": null,
            "overflow": null,
            "overflow_x": null,
            "overflow_y": null,
            "padding": null,
            "right": null,
            "top": null,
            "visibility": null,
            "width": null
          }
        },
        "5f61360d962d4427a662cf6a78094e9f": {
          "model_module": "@jupyter-widgets/controls",
          "model_name": "DescriptionStyleModel",
          "model_module_version": "1.5.0",
          "state": {
            "_model_module": "@jupyter-widgets/controls",
            "_model_module_version": "1.5.0",
            "_model_name": "DescriptionStyleModel",
            "_view_count": null,
            "_view_module": "@jupyter-widgets/base",
            "_view_module_version": "1.2.0",
            "_view_name": "StyleView",
            "description_width": ""
          }
        },
        "852b17997468430388acf48f1455392f": {
          "model_module": "@jupyter-widgets/base",
          "model_name": "LayoutModel",
          "model_module_version": "1.2.0",
          "state": {
            "_model_module": "@jupyter-widgets/base",
            "_model_module_version": "1.2.0",
            "_model_name": "LayoutModel",
            "_view_count": null,
            "_view_module": "@jupyter-widgets/base",
            "_view_module_version": "1.2.0",
            "_view_name": "LayoutView",
            "align_content": null,
            "align_items": null,
            "align_self": null,
            "border": null,
            "bottom": null,
            "display": null,
            "flex": null,
            "flex_flow": null,
            "grid_area": null,
            "grid_auto_columns": null,
            "grid_auto_flow": null,
            "grid_auto_rows": null,
            "grid_column": null,
            "grid_gap": null,
            "grid_row": null,
            "grid_template_areas": null,
            "grid_template_columns": null,
            "grid_template_rows": null,
            "height": null,
            "justify_content": null,
            "justify_items": null,
            "left": null,
            "margin": null,
            "max_height": null,
            "max_width": null,
            "min_height": null,
            "min_width": null,
            "object_fit": null,
            "object_position": null,
            "order": null,
            "overflow": null,
            "overflow_x": null,
            "overflow_y": null,
            "padding": null,
            "right": null,
            "top": null,
            "visibility": null,
            "width": null
          }
        },
        "95bf446d148a4025b74291d7232266e9": {
          "model_module": "@jupyter-widgets/controls",
          "model_name": "ProgressStyleModel",
          "model_module_version": "1.5.0",
          "state": {
            "_model_module": "@jupyter-widgets/controls",
            "_model_module_version": "1.5.0",
            "_model_name": "ProgressStyleModel",
            "_view_count": null,
            "_view_module": "@jupyter-widgets/base",
            "_view_module_version": "1.2.0",
            "_view_name": "StyleView",
            "bar_color": null,
            "description_width": ""
          }
        },
        "c6a29e171c1e46c4ad497a111d04acb4": {
          "model_module": "@jupyter-widgets/base",
          "model_name": "LayoutModel",
          "model_module_version": "1.2.0",
          "state": {
            "_model_module": "@jupyter-widgets/base",
            "_model_module_version": "1.2.0",
            "_model_name": "LayoutModel",
            "_view_count": null,
            "_view_module": "@jupyter-widgets/base",
            "_view_module_version": "1.2.0",
            "_view_name": "LayoutView",
            "align_content": null,
            "align_items": null,
            "align_self": null,
            "border": null,
            "bottom": null,
            "display": null,
            "flex": null,
            "flex_flow": null,
            "grid_area": null,
            "grid_auto_columns": null,
            "grid_auto_flow": null,
            "grid_auto_rows": null,
            "grid_column": null,
            "grid_gap": null,
            "grid_row": null,
            "grid_template_areas": null,
            "grid_template_columns": null,
            "grid_template_rows": null,
            "height": null,
            "justify_content": null,
            "justify_items": null,
            "left": null,
            "margin": null,
            "max_height": null,
            "max_width": null,
            "min_height": null,
            "min_width": null,
            "object_fit": null,
            "object_position": null,
            "order": null,
            "overflow": null,
            "overflow_x": null,
            "overflow_y": null,
            "padding": null,
            "right": null,
            "top": null,
            "visibility": null,
            "width": null
          }
        },
        "4b2d55ca27924b6297627a31415156cf": {
          "model_module": "@jupyter-widgets/controls",
          "model_name": "DescriptionStyleModel",
          "model_module_version": "1.5.0",
          "state": {
            "_model_module": "@jupyter-widgets/controls",
            "_model_module_version": "1.5.0",
            "_model_name": "DescriptionStyleModel",
            "_view_count": null,
            "_view_module": "@jupyter-widgets/base",
            "_view_module_version": "1.2.0",
            "_view_name": "StyleView",
            "description_width": ""
          }
        }
      }
    },
    "accelerator": "GPU",
    "gpuClass": "standard"
  },
  "cells": [
    {
      "cell_type": "markdown",
      "source": [
        "# 데이터셋 다운로드"
      ],
      "metadata": {
        "id": "iFER8sKwEPYx"
      }
    },
    {
      "cell_type": "code",
      "execution_count": null,
      "metadata": {
        "colab": {
          "base_uri": "https://localhost:8080/"
        },
        "id": "t3XHgIeVC74n",
        "outputId": "5ff285b0-c5df-4451-9a62-3d8c8ad91ec4"
      },
      "outputs": [
        {
          "output_type": "stream",
          "name": "stdout",
          "text": [
            "Looking in indexes: https://pypi.org/simple, https://us-python.pkg.dev/colab-wheels/public/simple/\n",
            "Collecting datasets\n",
            "  Downloading datasets-2.12.0-py3-none-any.whl (474 kB)\n",
            "\u001b[2K     \u001b[90m━━━━━━━━━━━━━━━━━━━━━━━━━━━━━━━━━━━━━━━\u001b[0m \u001b[32m474.6/474.6 kB\u001b[0m \u001b[31m5.6 MB/s\u001b[0m eta \u001b[36m0:00:00\u001b[0m\n",
            "\u001b[?25hRequirement already satisfied: pyyaml>=5.1 in /usr/local/lib/python3.10/dist-packages (from datasets) (6.0)\n",
            "Requirement already satisfied: pyarrow>=8.0.0 in /usr/local/lib/python3.10/dist-packages (from datasets) (9.0.0)\n",
            "Collecting responses<0.19\n",
            "  Downloading responses-0.18.0-py3-none-any.whl (38 kB)\n",
            "Collecting aiohttp\n",
            "  Downloading aiohttp-3.8.4-cp310-cp310-manylinux_2_17_x86_64.manylinux2014_x86_64.whl (1.0 MB)\n",
            "\u001b[2K     \u001b[90m━━━━━━━━━━━━━━━━━━━━━━━━━━━━━━━━━━━━━━━━\u001b[0m \u001b[32m1.0/1.0 MB\u001b[0m \u001b[31m7.7 MB/s\u001b[0m eta \u001b[36m0:00:00\u001b[0m\n",
            "\u001b[?25hCollecting dill<0.3.7,>=0.3.0\n",
            "  Downloading dill-0.3.6-py3-none-any.whl (110 kB)\n",
            "\u001b[2K     \u001b[90m━━━━━━━━━━━━━━━━━━━━━━━━━━━━━━━━━━━━━━\u001b[0m \u001b[32m110.5/110.5 kB\u001b[0m \u001b[31m10.4 MB/s\u001b[0m eta \u001b[36m0:00:00\u001b[0m\n",
            "\u001b[?25hRequirement already satisfied: numpy>=1.17 in /usr/local/lib/python3.10/dist-packages (from datasets) (1.22.4)\n",
            "Requirement already satisfied: tqdm>=4.62.1 in /usr/local/lib/python3.10/dist-packages (from datasets) (4.65.0)\n",
            "Requirement already satisfied: pandas in /usr/local/lib/python3.10/dist-packages (from datasets) (1.5.3)\n",
            "Collecting huggingface-hub<1.0.0,>=0.11.0\n",
            "  Downloading huggingface_hub-0.14.1-py3-none-any.whl (224 kB)\n",
            "\u001b[2K     \u001b[90m━━━━━━━━━━━━━━━━━━━━━━━━━━━━━━━━━━━━━━\u001b[0m \u001b[32m224.5/224.5 kB\u001b[0m \u001b[31m14.8 MB/s\u001b[0m eta \u001b[36m0:00:00\u001b[0m\n",
            "\u001b[?25hRequirement already satisfied: fsspec[http]>=2021.11.1 in /usr/local/lib/python3.10/dist-packages (from datasets) (2023.4.0)\n",
            "Requirement already satisfied: packaging in /usr/local/lib/python3.10/dist-packages (from datasets) (23.1)\n",
            "Collecting xxhash\n",
            "  Downloading xxhash-3.2.0-cp310-cp310-manylinux_2_17_x86_64.manylinux2014_x86_64.whl (212 kB)\n",
            "\u001b[2K     \u001b[90m━━━━━━━━━━━━━━━━━━━━━━━━━━━━━━━━━━━━━━\u001b[0m \u001b[32m212.5/212.5 kB\u001b[0m \u001b[31m19.9 MB/s\u001b[0m eta \u001b[36m0:00:00\u001b[0m\n",
            "\u001b[?25hCollecting multiprocess\n",
            "  Downloading multiprocess-0.70.14-py310-none-any.whl (134 kB)\n",
            "\u001b[2K     \u001b[90m━━━━━━━━━━━━━━━━━━━━━━━━━━━━━━━━━━━━━━\u001b[0m \u001b[32m134.3/134.3 kB\u001b[0m \u001b[31m12.1 MB/s\u001b[0m eta \u001b[36m0:00:00\u001b[0m\n",
            "\u001b[?25hRequirement already satisfied: requests>=2.19.0 in /usr/local/lib/python3.10/dist-packages (from datasets) (2.27.1)\n",
            "Collecting async-timeout<5.0,>=4.0.0a3\n",
            "  Downloading async_timeout-4.0.2-py3-none-any.whl (5.8 kB)\n",
            "Collecting aiosignal>=1.1.2\n",
            "  Downloading aiosignal-1.3.1-py3-none-any.whl (7.6 kB)\n",
            "Collecting frozenlist>=1.1.1\n",
            "  Downloading frozenlist-1.3.3-cp310-cp310-manylinux_2_5_x86_64.manylinux1_x86_64.manylinux_2_17_x86_64.manylinux2014_x86_64.whl (149 kB)\n",
            "\u001b[2K     \u001b[90m━━━━━━━━━━━━━━━━━━━━━━━━━━━━━━━━━━━━━━\u001b[0m \u001b[32m149.6/149.6 kB\u001b[0m \u001b[31m16.3 MB/s\u001b[0m eta \u001b[36m0:00:00\u001b[0m\n",
            "\u001b[?25hRequirement already satisfied: attrs>=17.3.0 in /usr/local/lib/python3.10/dist-packages (from aiohttp->datasets) (23.1.0)\n",
            "Requirement already satisfied: charset-normalizer<4.0,>=2.0 in /usr/local/lib/python3.10/dist-packages (from aiohttp->datasets) (2.0.12)\n",
            "Collecting yarl<2.0,>=1.0\n",
            "  Downloading yarl-1.9.2-cp310-cp310-manylinux_2_17_x86_64.manylinux2014_x86_64.whl (268 kB)\n",
            "\u001b[2K     \u001b[90m━━━━━━━━━━━━━━━━━━━━━━━━━━━━━━━━━━━━━━\u001b[0m \u001b[32m268.8/268.8 kB\u001b[0m \u001b[31m11.0 MB/s\u001b[0m eta \u001b[36m0:00:00\u001b[0m\n",
            "\u001b[?25hCollecting multidict<7.0,>=4.5\n",
            "  Downloading multidict-6.0.4-cp310-cp310-manylinux_2_17_x86_64.manylinux2014_x86_64.whl (114 kB)\n",
            "\u001b[2K     \u001b[90m━━━━━━━━━━━━━━━━━━━━━━━━━━━━━━━━━━━━━━\u001b[0m \u001b[32m114.5/114.5 kB\u001b[0m \u001b[31m13.2 MB/s\u001b[0m eta \u001b[36m0:00:00\u001b[0m\n",
            "\u001b[?25hRequirement already satisfied: filelock in /usr/local/lib/python3.10/dist-packages (from huggingface-hub<1.0.0,>=0.11.0->datasets) (3.12.0)\n",
            "Requirement already satisfied: typing-extensions>=3.7.4.3 in /usr/local/lib/python3.10/dist-packages (from huggingface-hub<1.0.0,>=0.11.0->datasets) (4.5.0)\n",
            "Requirement already satisfied: idna<4,>=2.5 in /usr/local/lib/python3.10/dist-packages (from requests>=2.19.0->datasets) (3.4)\n",
            "Requirement already satisfied: certifi>=2017.4.17 in /usr/local/lib/python3.10/dist-packages (from requests>=2.19.0->datasets) (2022.12.7)\n",
            "Requirement already satisfied: urllib3<1.27,>=1.21.1 in /usr/local/lib/python3.10/dist-packages (from requests>=2.19.0->datasets) (1.26.15)\n",
            "Requirement already satisfied: pytz>=2020.1 in /usr/local/lib/python3.10/dist-packages (from pandas->datasets) (2022.7.1)\n",
            "Requirement already satisfied: python-dateutil>=2.8.1 in /usr/local/lib/python3.10/dist-packages (from pandas->datasets) (2.8.2)\n",
            "Requirement already satisfied: six>=1.5 in /usr/local/lib/python3.10/dist-packages (from python-dateutil>=2.8.1->pandas->datasets) (1.16.0)\n",
            "Installing collected packages: xxhash, multidict, frozenlist, dill, async-timeout, yarl, responses, multiprocess, huggingface-hub, aiosignal, aiohttp, datasets\n",
            "Successfully installed aiohttp-3.8.4 aiosignal-1.3.1 async-timeout-4.0.2 datasets-2.12.0 dill-0.3.6 frozenlist-1.3.3 huggingface-hub-0.14.1 multidict-6.0.4 multiprocess-0.70.14 responses-0.18.0 xxhash-3.2.0 yarl-1.9.2\n"
          ]
        }
      ],
      "source": [
        "pip install datasets"
      ]
    },
    {
      "cell_type": "code",
      "source": [
        "from datasets import load_dataset\n",
        "\n",
        "datasets = load_dataset('skt/kobest_v1', 'sentineg')\n",
        "len(datasets)"
      ],
      "metadata": {
        "colab": {
          "base_uri": "https://localhost:8080/",
          "height": 317,
          "referenced_widgets": [
            "e58a178d520346adba24b4ca7caa218e",
            "4b5419259ef7482a8b3fcf0535187277",
            "2832febbfc36423ca1fbd031c66c740f",
            "f4d8aef818dc4f02aa931a5cb8f48126",
            "018a3258e08f4f7899f8d950bbb3d6c6",
            "11ab6f5eefc3462b95234848ab26ff22",
            "aadce5b190f14c6c8a50583cb22a93d7",
            "7c0cf444f5d442668f74c1685ecdec28",
            "a57905ce459e41d3bc06ba778768ff2e",
            "f7a65300995b4d2ca52786dc20b25234",
            "15eb20004c7f4bf2ac5da6dff06b4e71",
            "0e4d1be631624deab88dfa7dc1d1214e",
            "e6f2554c95364832b64d35c6f0426148",
            "203cdc6e1b044b4881c09d3107976ad6",
            "0a5364d87a24474190f1a03595e03156",
            "b547106a88d2499b999d457b4a34376c",
            "96dbdeb8111f4620b0b38f1dbd5cb3ab",
            "adbad8b928b64cedba5bea913fa0bc7f",
            "7f26850be5e44affb7cd6894df0600ed",
            "9cf40ebe81fb4ca19096e5c3830cc5a0",
            "6f7016926e5f4404b4cbdd2f8f80bb3c",
            "56ddd354ae49495388ad0559ccfa91aa",
            "8155791fcfba448aac28fd5897b6b3b8",
            "c3ed4d680fc04e429f6519bfa4a95d16",
            "f631404136fd4ca39c73368d3068e18e",
            "93b0c4f327d4442ab9c25d5a2e693c65",
            "1e4e93c7ab4145a7894dbf0a43dac9a2",
            "d748e74f488e4710a022ffff8fc20c3a",
            "b36face7c7804bc6b4693401ae946cc0",
            "9e7eabef209d48769f56c972675713d4",
            "851375af32514a0da43a04441e41317a",
            "9452fde6563c43bd8e961c91913aebee",
            "7a2332288ada4add8f0d1fe3f9f6e464",
            "9eab34b8dee7415d9be7dffbca460797",
            "4d30b206fe6f429a9cb8b3999e5603ba",
            "2f4a930507f1459d9605fd2f9d63aaea",
            "449e9bbbda0b4e02a8482518019f817a",
            "87fbf64792ec4fc0bc82c127f8c00e5c",
            "4b31bb09df9840ffa4b60824fe751123",
            "09e642ac2f4d4836af6a9d52f1c4f5f5",
            "659a57a4544c402db103656dbf287cc9",
            "5f339b734f8a4f0c8cd11c421479507d",
            "a01aa6f22fb04296980883c172d24630",
            "ff15ad3a532c43f8bca8b9f518a72193",
            "d3ffac7f065e4d0389bf9a95e5cbcc1d",
            "57bfb88483f146f280ade7c4fc125028",
            "b89ae2a4bc524a9fbf42980abae8ae80",
            "5f06f74309ef41e195083dc695e3811f",
            "ca3ea21c755346e6b5719b54a1bd8f73",
            "e5af705debe4403fa7536882d3eed2cc",
            "245ab0cf2396420e8db2e6ff5c916d2c",
            "48349f9802924de59a5972593b384415",
            "caf9cb9fa1814ffaab13d8a2464cd94f",
            "252412ea09b546fb87dc5d0592316fe9",
            "785be9748bbb4082afc9a062c514923a",
            "f2ef5be9b8644756a845bebc563f72a8",
            "6c3b9ed0f9eb48a993182957e8281127",
            "1e8d000f42b9421187bd1ffc6e204c65",
            "62755e22e07c4f4fb1117c4333b85fb8",
            "26e207da093e4708848238f92674c435",
            "3597ddc2c548434f915a757268a085bd",
            "adbd778e2c574b3a94ce149355ae67b8",
            "f22cc010853b4674854efebade5b1cbe",
            "25b8deb6e74243c2a11c334c4646bd5e",
            "515e21bcf18444ff963cf04f331971c5",
            "54a18a3c77da43a9b0f03fd39bdbe0d3",
            "fdfba4d76386413e854dcea30958e9f9",
            "f392d7fcf7464a739ced8559c7c878fe",
            "b5af30f60db6444fb26656dbd6306ce8",
            "07b5b72a15df4ad58e51e54286e86745",
            "e345d5dbdbb048999c33990d291882ce",
            "a93a3b2ad7f94876896e8f703828666c",
            "920a7ab48fd54da18bcd7e339d83603e",
            "c0109dc9f1c144c9bc561b1b23b8ffed",
            "a163dc4980eb406193134108b03390bf",
            "ded578b8ecc24b83a842eeae2419bf02",
            "19b3fcd9461f4aa68e72a283586b76f3",
            "478a18055bcb41f4a6ead3ee6d3a3101",
            "e8832f254c7e4a189e330c82338dca70",
            "ceb188b41c444a05b7a85748fcad1529",
            "5c99e7081a1d4addaba470755b8c1c88",
            "470e62a2a5c54a2dbcc496c2b7fea0eb",
            "a1ad51cb35e1455ab8a40ec345a868ac",
            "e33eaa96184340c3899419c17edfa78b",
            "31e0708113e04aa0a996dee537e942d8",
            "362d872964af47aba363a158689c5079",
            "7ecc65b9827f4014a799a78ea150dd27",
            "d9049b4e026b4441917dd4e9cc2e24d8",
            "76e5e70e481b4fa8b2428d9b00de468a",
            "34af5ab1be764bf796b66ac50e6d005e",
            "e62db63805d1409d851705826313ed34",
            "6e20d19f1a6b4be6b740ad52ff653493",
            "3aa7a240d2624c08bc1a3d0b92779c26",
            "df02ac8614284a979f053664ad2679f4",
            "684294801c83405b8f0dd13f0550b905",
            "8c7fcc2dfcdc428c90f5da63d371ec42",
            "823aacc4ccc74378a5d10b3f4ffe1eec",
            "1d28187dcb9e4e5c84dbfb2b7e4d3109",
            "03f3f31fbe124647bbf2ef33230c1be2",
            "34793b1e6e2f4514baba760a033926cf",
            "3815813172c1433fb16da0eaeb95bc8e",
            "dadf143b7a584c81990ac69cb1284443",
            "1155951f3a1e48daa8a4905b9255e850",
            "b19cd88e2b174bcd97e067a6a0ddf46a",
            "39c6891a7f77435f9d6a990cfc038c43",
            "c8a5a86e13e24a90bb260013103000eb",
            "b4befe2cb7fe4368bf800900ae70f584",
            "d53c8bd0596347568d7b78a6f59cf82a",
            "5606328e43f44c2cb9d3afc442b7a621",
            "4cd4463d886b450e99781ab82a74d4a4",
            "0031b35cd1aa4f92becaa5d69d7c1330",
            "a6e590ca470e401b9cd0fdffa904f763",
            "a38b72b6fb2b4a6480fb32cdb798495d",
            "d2887fc82b434f3596512a5f92ba105a",
            "8c88bd1aa0df4679adad72a26086ce4a",
            "0116e775ae8a4f189734fa892da9b0d3",
            "5f61360d962d4427a662cf6a78094e9f",
            "852b17997468430388acf48f1455392f",
            "95bf446d148a4025b74291d7232266e9",
            "c6a29e171c1e46c4ad497a111d04acb4",
            "4b2d55ca27924b6297627a31415156cf"
          ]
        },
        "id": "Hdv6eGGNDa7Y",
        "outputId": "c906d56e-fc51-4f0c-9ae8-abb78866c4c3"
      },
      "execution_count": null,
      "outputs": [
        {
          "output_type": "display_data",
          "data": {
            "text/plain": [
              "Downloading builder script:   0%|          | 0.00/8.95k [00:00<?, ?B/s]"
            ],
            "application/vnd.jupyter.widget-view+json": {
              "version_major": 2,
              "version_minor": 0,
              "model_id": "e58a178d520346adba24b4ca7caa218e"
            }
          },
          "metadata": {}
        },
        {
          "output_type": "display_data",
          "data": {
            "text/plain": [
              "Downloading metadata:   0%|          | 0.00/5.02k [00:00<?, ?B/s]"
            ],
            "application/vnd.jupyter.widget-view+json": {
              "version_major": 2,
              "version_minor": 0,
              "model_id": "0e4d1be631624deab88dfa7dc1d1214e"
            }
          },
          "metadata": {}
        },
        {
          "output_type": "display_data",
          "data": {
            "text/plain": [
              "Downloading readme:   0%|          | 0.00/6.09k [00:00<?, ?B/s]"
            ],
            "application/vnd.jupyter.widget-view+json": {
              "version_major": 2,
              "version_minor": 0,
              "model_id": "8155791fcfba448aac28fd5897b6b3b8"
            }
          },
          "metadata": {}
        },
        {
          "output_type": "stream",
          "name": "stdout",
          "text": [
            "Downloading and preparing dataset kobest_v1/sentineg to /root/.cache/huggingface/datasets/skt___kobest_v1/sentineg/1.0.0/8e19054bf0dcaf332b8558cfb0d9d85e5b3e0dc1bee70a40947e21abc42e43e9...\n"
          ]
        },
        {
          "output_type": "display_data",
          "data": {
            "text/plain": [
              "Downloading data:   0%|          | 0.00/70.0k [00:00<?, ?B/s]"
            ],
            "application/vnd.jupyter.widget-view+json": {
              "version_major": 2,
              "version_minor": 0,
              "model_id": "9eab34b8dee7415d9be7dffbca460797"
            }
          },
          "metadata": {}
        },
        {
          "output_type": "display_data",
          "data": {
            "text/plain": [
              "Downloading data:   0%|          | 0.00/8.74k [00:00<?, ?B/s]"
            ],
            "application/vnd.jupyter.widget-view+json": {
              "version_major": 2,
              "version_minor": 0,
              "model_id": "d3ffac7f065e4d0389bf9a95e5cbcc1d"
            }
          },
          "metadata": {}
        },
        {
          "output_type": "display_data",
          "data": {
            "text/plain": [
              "Downloading data:   0%|          | 0.00/11.6k [00:00<?, ?B/s]"
            ],
            "application/vnd.jupyter.widget-view+json": {
              "version_major": 2,
              "version_minor": 0,
              "model_id": "f2ef5be9b8644756a845bebc563f72a8"
            }
          },
          "metadata": {}
        },
        {
          "output_type": "display_data",
          "data": {
            "text/plain": [
              "Generating train split: 0 examples [00:00, ? examples/s]"
            ],
            "application/vnd.jupyter.widget-view+json": {
              "version_major": 2,
              "version_minor": 0,
              "model_id": "fdfba4d76386413e854dcea30958e9f9"
            }
          },
          "metadata": {}
        },
        {
          "output_type": "display_data",
          "data": {
            "text/plain": [
              "Generating validation split: 0 examples [00:00, ? examples/s]"
            ],
            "application/vnd.jupyter.widget-view+json": {
              "version_major": 2,
              "version_minor": 0,
              "model_id": "478a18055bcb41f4a6ead3ee6d3a3101"
            }
          },
          "metadata": {}
        },
        {
          "output_type": "display_data",
          "data": {
            "text/plain": [
              "Generating test split: 0 examples [00:00, ? examples/s]"
            ],
            "application/vnd.jupyter.widget-view+json": {
              "version_major": 2,
              "version_minor": 0,
              "model_id": "76e5e70e481b4fa8b2428d9b00de468a"
            }
          },
          "metadata": {}
        },
        {
          "output_type": "display_data",
          "data": {
            "text/plain": [
              "Generating test_originated split: 0 examples [00:00, ? examples/s]"
            ],
            "application/vnd.jupyter.widget-view+json": {
              "version_major": 2,
              "version_minor": 0,
              "model_id": "34793b1e6e2f4514baba760a033926cf"
            }
          },
          "metadata": {}
        },
        {
          "output_type": "stream",
          "name": "stdout",
          "text": [
            "Dataset kobest_v1 downloaded and prepared to /root/.cache/huggingface/datasets/skt___kobest_v1/sentineg/1.0.0/8e19054bf0dcaf332b8558cfb0d9d85e5b3e0dc1bee70a40947e21abc42e43e9. Subsequent calls will reuse this data.\n"
          ]
        },
        {
          "output_type": "display_data",
          "data": {
            "text/plain": [
              "  0%|          | 0/4 [00:00<?, ?it/s]"
            ],
            "application/vnd.jupyter.widget-view+json": {
              "version_major": 2,
              "version_minor": 0,
              "model_id": "0031b35cd1aa4f92becaa5d69d7c1330"
            }
          },
          "metadata": {}
        },
        {
          "output_type": "execute_result",
          "data": {
            "text/plain": [
              "4"
            ]
          },
          "metadata": {},
          "execution_count": 2
        }
      ]
    },
    {
      "cell_type": "code",
      "source": [
        "datasets['train']"
      ],
      "metadata": {
        "colab": {
          "base_uri": "https://localhost:8080/"
        },
        "id": "QKVFcv8aEMLP",
        "outputId": "85324d32-cdcc-40c6-d197-af4e245a6e00"
      },
      "execution_count": null,
      "outputs": [
        {
          "output_type": "execute_result",
          "data": {
            "text/plain": [
              "Dataset({\n",
              "    features: ['sentence', 'label'],\n",
              "    num_rows: 3649\n",
              "})"
            ]
          },
          "metadata": {},
          "execution_count": 3
        }
      ]
    },
    {
      "cell_type": "code",
      "source": [
        "print(datasets['train']['sentence'][0])"
      ],
      "metadata": {
        "colab": {
          "base_uri": "https://localhost:8080/"
        },
        "id": "OTvi7-aTE6kT",
        "outputId": "691c9c6b-1ebc-4b0c-ba42-1de82397d306"
      },
      "execution_count": null,
      "outputs": [
        {
          "output_type": "stream",
          "name": "stdout",
          "text": [
            "너무나 잘 안 지워져서 다시 다른 제품 구매하려고 해요\n"
          ]
        }
      ]
    },
    {
      "cell_type": "code",
      "source": [
        "datasets['test']['sentence'][0]"
      ],
      "metadata": {
        "colab": {
          "base_uri": "https://localhost:8080/",
          "height": 36
        },
        "id": "bDVlGW_gVn3P",
        "outputId": "4424fdb3-5c7d-4b78-88e1-4bbfa61f2895"
      },
      "execution_count": null,
      "outputs": [
        {
          "output_type": "execute_result",
          "data": {
            "text/plain": [
              "'택배사 정말 마음에 듬'"
            ],
            "application/vnd.google.colaboratory.intrinsic+json": {
              "type": "string"
            }
          },
          "metadata": {},
          "execution_count": 5
        }
      ]
    },
    {
      "cell_type": "markdown",
      "source": [
        "# 데이터 전처리"
      ],
      "metadata": {
        "id": "9vsDXmatH1ru"
      }
    },
    {
      "cell_type": "markdown",
      "source": [
        "## 데이터 정제하기"
      ],
      "metadata": {
        "id": "z76AqLTXPHsp"
      }
    },
    {
      "cell_type": "code",
      "source": [
        "pip install konlpy"
      ],
      "metadata": {
        "colab": {
          "base_uri": "https://localhost:8080/"
        },
        "id": "QRb9tHJhUMZs",
        "outputId": "86c4f9fb-7606-4a1c-ff38-b72aa30fa70d"
      },
      "execution_count": null,
      "outputs": [
        {
          "output_type": "stream",
          "name": "stdout",
          "text": [
            "Looking in indexes: https://pypi.org/simple, https://us-python.pkg.dev/colab-wheels/public/simple/\n",
            "Collecting konlpy\n",
            "  Downloading konlpy-0.6.0-py2.py3-none-any.whl (19.4 MB)\n",
            "\u001b[2K     \u001b[90m━━━━━━━━━━━━━━━━━━━━━━━━━━━━━━━━━━━━━━━━\u001b[0m \u001b[32m19.4/19.4 MB\u001b[0m \u001b[31m80.1 MB/s\u001b[0m eta \u001b[36m0:00:00\u001b[0m\n",
            "\u001b[?25hRequirement already satisfied: lxml>=4.1.0 in /usr/local/lib/python3.10/dist-packages (from konlpy) (4.9.2)\n",
            "Requirement already satisfied: numpy>=1.6 in /usr/local/lib/python3.10/dist-packages (from konlpy) (1.22.4)\n",
            "Collecting JPype1>=0.7.0\n",
            "  Downloading JPype1-1.4.1-cp310-cp310-manylinux_2_12_x86_64.manylinux2010_x86_64.whl (465 kB)\n",
            "\u001b[2K     \u001b[90m━━━━━━━━━━━━━━━━━━━━━━━━━━━━━━━━━━━━━━\u001b[0m \u001b[32m465.3/465.3 kB\u001b[0m \u001b[31m42.0 MB/s\u001b[0m eta \u001b[36m0:00:00\u001b[0m\n",
            "\u001b[?25hRequirement already satisfied: packaging in /usr/local/lib/python3.10/dist-packages (from JPype1>=0.7.0->konlpy) (23.1)\n",
            "Installing collected packages: JPype1, konlpy\n",
            "Successfully installed JPype1-1.4.1 konlpy-0.6.0\n"
          ]
        }
      ]
    },
    {
      "cell_type": "code",
      "source": [
        "import pandas as pd\n",
        "import numpy as np\n",
        "import matplotlib.pyplot as plt\n",
        "import re\n",
        "import urllib.request\n",
        "import pickle\n",
        "from konlpy.tag import Okt\n",
        "from tqdm import tqdm\n",
        "from tensorflow.keras.preprocessing.text import Tokenizer\n",
        "from tensorflow.keras.preprocessing.sequence import pad_sequences"
      ],
      "metadata": {
        "id": "hDTRXDf1RIi8"
      },
      "execution_count": null,
      "outputs": []
    },
    {
      "cell_type": "markdown",
      "source": [
        "### 문장과 레이블을 Dataframe으로 받아온다."
      ],
      "metadata": {
        "id": "Q9w7EiF_QKXE"
      }
    },
    {
      "cell_type": "code",
      "source": [
        "df_train = pd.DataFrame({'sentence': datasets['train']['sentence'],\n",
        "                         'label': datasets['train']['label']},\n",
        "                        columns=['sentence', 'label'])\n",
        "df_train.info()"
      ],
      "metadata": {
        "colab": {
          "base_uri": "https://localhost:8080/"
        },
        "id": "By-0IHNrH20V",
        "outputId": "faa9fcc0-a7ff-43d6-a677-13d636fb1bea"
      },
      "execution_count": null,
      "outputs": [
        {
          "output_type": "stream",
          "name": "stdout",
          "text": [
            "<class 'pandas.core.frame.DataFrame'>\n",
            "RangeIndex: 3649 entries, 0 to 3648\n",
            "Data columns (total 2 columns):\n",
            " #   Column    Non-Null Count  Dtype \n",
            "---  ------    --------------  ----- \n",
            " 0   sentence  3649 non-null   object\n",
            " 1   label     3649 non-null   int64 \n",
            "dtypes: int64(1), object(1)\n",
            "memory usage: 57.1+ KB\n"
          ]
        }
      ]
    },
    {
      "cell_type": "code",
      "source": [
        "df_test = pd.DataFrame({'sentence': datasets['test']['sentence'],\n",
        "                        'label': datasets['test']['label']},\n",
        "                       columns=['sentence', 'label'])\n",
        "df_test.info()"
      ],
      "metadata": {
        "colab": {
          "base_uri": "https://localhost:8080/"
        },
        "id": "bJ-zwI92V5m9",
        "outputId": "3a0dad3d-51d6-4796-effb-127a03e2f8b6"
      },
      "execution_count": null,
      "outputs": [
        {
          "output_type": "stream",
          "name": "stdout",
          "text": [
            "<class 'pandas.core.frame.DataFrame'>\n",
            "RangeIndex: 397 entries, 0 to 396\n",
            "Data columns (total 2 columns):\n",
            " #   Column    Non-Null Count  Dtype \n",
            "---  ------    --------------  ----- \n",
            " 0   sentence  397 non-null    object\n",
            " 1   label     397 non-null    int64 \n",
            "dtypes: int64(1), object(1)\n",
            "memory usage: 6.3+ KB\n"
          ]
        }
      ]
    },
    {
      "cell_type": "markdown",
      "source": [
        "### 중복된 리뷰가 있는지 확인한다."
      ],
      "metadata": {
        "id": "eBaziGPoQSaF"
      }
    },
    {
      "cell_type": "code",
      "source": [
        "df_train['sentence'].nunique(), df_train['label'].nunique()"
      ],
      "metadata": {
        "colab": {
          "base_uri": "https://localhost:8080/"
        },
        "id": "Yfey_QfyPm5X",
        "outputId": "51782414-12e1-4efa-e6c6-14ad21dbbb65"
      },
      "execution_count": null,
      "outputs": [
        {
          "output_type": "execute_result",
          "data": {
            "text/plain": [
              "(3649, 2)"
            ]
          },
          "metadata": {},
          "execution_count": 10
        }
      ]
    },
    {
      "cell_type": "code",
      "source": [
        "df_test['sentence'].nunique(), df_test['label'].nunique()"
      ],
      "metadata": {
        "colab": {
          "base_uri": "https://localhost:8080/"
        },
        "id": "Wmllyn5DWQXe",
        "outputId": "6027c4f7-79b2-4753-88c9-96e52c44866d"
      },
      "execution_count": null,
      "outputs": [
        {
          "output_type": "execute_result",
          "data": {
            "text/plain": [
              "(397, 2)"
            ]
          },
          "metadata": {},
          "execution_count": 11
        }
      ]
    },
    {
      "cell_type": "markdown",
      "source": [
        "중복된 리뷰는 없는 것으로 보인다."
      ],
      "metadata": {
        "id": "ZyvmMLnYQDpW"
      }
    },
    {
      "cell_type": "markdown",
      "source": [
        "### 레이블 분포 확인"
      ],
      "metadata": {
        "id": "94IdDfQqQdGd"
      }
    },
    {
      "cell_type": "code",
      "source": [
        "df_train['label'].value_counts().plot(kind='bar')"
      ],
      "metadata": {
        "colab": {
          "base_uri": "https://localhost:8080/",
          "height": 444
        },
        "id": "JHkAYkdkP8jg",
        "outputId": "eec343e6-e296-4aaf-b7e4-8cda25536957"
      },
      "execution_count": null,
      "outputs": [
        {
          "output_type": "execute_result",
          "data": {
            "text/plain": [
              "<Axes: >"
            ]
          },
          "metadata": {},
          "execution_count": 12
        },
        {
          "output_type": "display_data",
          "data": {
            "text/plain": [
              "<Figure size 640x480 with 1 Axes>"
            ],
            "image/png": "[encoded data removed]"
          },
          "metadata": {}
        }
      ]
    },
    {
      "cell_type": "code",
      "source": [
        "print(df_train.groupby('label').size().reset_index(name='count'))"
      ],
      "metadata": {
        "colab": {
          "base_uri": "https://localhost:8080/"
        },
        "id": "lT8YSWHpSYei",
        "outputId": "0053c921-f0bb-4fa8-bb20-b4e0f6e07333"
      },
      "execution_count": null,
      "outputs": [
        {
          "output_type": "stream",
          "name": "stdout",
          "text": [
            "   label  count\n",
            "0      0   1811\n",
            "1      1   1838\n"
          ]
        }
      ]
    },
    {
      "cell_type": "code",
      "source": [
        "df_test['label'].value_counts().plot(kind='bar')"
      ],
      "metadata": {
        "colab": {
          "base_uri": "https://localhost:8080/",
          "height": 444
        },
        "id": "qlDubdexWZ5q",
        "outputId": "44bdaf5a-a294-482c-aa0d-ecac16b158d5"
      },
      "execution_count": null,
      "outputs": [
        {
          "output_type": "execute_result",
          "data": {
            "text/plain": [
              "<Axes: >"
            ]
          },
          "metadata": {},
          "execution_count": 14
        },
        {
          "output_type": "display_data",
          "data": {
            "text/plain": [
              "<Figure size 640x480 with 1 Axes>"
            ],
            "image/png": "[encoded data removed]"
          },
          "metadata": {}
        }
      ]
    },
    {
      "cell_type": "code",
      "source": [
        "print(df_test.groupby('label').size().reset_index(name='count'))"
      ],
      "metadata": {
        "colab": {
          "base_uri": "https://localhost:8080/"
        },
        "id": "Wxq2M0RBWcRA",
        "outputId": "9df4465a-4735-4002-cf65-4dc1d85d10d3"
      },
      "execution_count": null,
      "outputs": [
        {
          "output_type": "stream",
          "name": "stdout",
          "text": [
            "   label  count\n",
            "0      0    197\n",
            "1      1    200\n"
          ]
        }
      ]
    },
    {
      "cell_type": "markdown",
      "source": [
        "대충 반반이다."
      ],
      "metadata": {
        "id": "wwwJlXnWQrxi"
      }
    },
    {
      "cell_type": "markdown",
      "source": [
        "### null 값 가진 샘플 존재 여부 확인"
      ],
      "metadata": {
        "id": "hj7g5CERShVQ"
      }
    },
    {
      "cell_type": "code",
      "source": [
        "print(df_train.isnull().values.any())"
      ],
      "metadata": {
        "colab": {
          "base_uri": "https://localhost:8080/"
        },
        "id": "i2g-wUr9Qox5",
        "outputId": "9a3b1c12-f071-4fc3-f8b3-34e25236c3bf"
      },
      "execution_count": null,
      "outputs": [
        {
          "output_type": "stream",
          "name": "stdout",
          "text": [
            "False\n"
          ]
        }
      ]
    },
    {
      "cell_type": "code",
      "source": [
        "print(df_test.isnull().values.any())"
      ],
      "metadata": {
        "colab": {
          "base_uri": "https://localhost:8080/"
        },
        "id": "BDpdlkBZWoXY",
        "outputId": "7c8c096c-1073-4c21-8a4a-60fd79e881e9"
      },
      "execution_count": null,
      "outputs": [
        {
          "output_type": "stream",
          "name": "stdout",
          "text": [
            "False\n"
          ]
        }
      ]
    },
    {
      "cell_type": "markdown",
      "source": [
        "null 값 가진 샘플 없음"
      ],
      "metadata": {
        "id": "DShpYVYESwwb"
      }
    },
    {
      "cell_type": "markdown",
      "source": [
        "### 한글과 공백 제외 모두 제거"
      ],
      "metadata": {
        "id": "gSrs38GUS4vE"
      }
    },
    {
      "cell_type": "code",
      "source": [
        "df_train['sentence'] = df_train['sentence'].str.replace(\"[^ㄱ-ㅎㅏ-ㅣ가-힣 ]\", \"\")\n",
        "df_train.head()"
      ],
      "metadata": {
        "colab": {
          "base_uri": "https://localhost:8080/",
          "height": 243
        },
        "id": "tGoUKVHLSwNL",
        "outputId": "58d22128-db77-4d49-a75f-6e458e4ea320"
      },
      "execution_count": null,
      "outputs": [
        {
          "output_type": "stream",
          "name": "stderr",
          "text": [
            "<ipython-input-18-4de71ff0647f>:1: FutureWarning: The default value of regex will change from True to False in a future version.\n",
            "  df_train['sentence'] = df_train['sentence'].str.replace(\"[^ㄱ-ㅎㅏ-ㅣ가-힣 ]\", \"\")\n"
          ]
        },
        {
          "output_type": "execute_result",
          "data": {
            "text/plain": [
              "                         sentence  label\n",
              "0  너무나 잘 안 지워져서 다시 다른 제품 구매하려고 해요      0\n",
              "1                   별로네요 글씨가 지워져요      0\n",
              "2              두개 중에 하나는 벌써 고장났어요      0\n",
              "3                  예쁜데도 아주 실용적입니다      1\n",
              "4                       마감이 매끄러워요      1"
            ],
            "text/html": [
              "\n",
              "  <div id=\"df-ca95a8fe-b24e-46e2-aa35-308551a3ea8c\">\n",
              "    <div class=\"colab-df-container\">\n",
              "      <div>\n",
              "<style scoped>\n",
              "    .dataframe tbody tr th:only-of-type {\n",
              "        vertical-align: middle;\n",
              "    }\n",
              "\n",
              "    .dataframe tbody tr th {\n",
              "        vertical-align: top;\n",
              "    }\n",
              "\n",
              "    .dataframe thead th {\n",
              "        text-align: right;\n",
              "    }\n",
              "</style>\n",
              "<table border=\"1\" class=\"dataframe\">\n",
              "  <thead>\n",
              "    <tr style=\"text-align: right;\">\n",
              "      <th></th>\n",
              "      <th>sentence</th>\n",
              "      <th>label</th>\n",
              "    </tr>\n",
              "  </thead>\n",
              "  <tbody>\n",
              "    <tr>\n",
              "      <th>0</th>\n",
              "      <td>너무나 잘 안 지워져서 다시 다른 제품 구매하려고 해요</td>\n",
              "      <td>0</td>\n",
              "    </tr>\n",
              "    <tr>\n",
              "      <th>1</th>\n",
              "      <td>별로네요 글씨가 지워져요</td>\n",
              "      <td>0</td>\n",
              "    </tr>\n",
              "    <tr>\n",
              "      <th>2</th>\n",
              "      <td>두개 중에 하나는 벌써 고장났어요</td>\n",
              "      <td>0</td>\n",
              "    </tr>\n",
              "    <tr>\n",
              "      <th>3</th>\n",
              "      <td>예쁜데도 아주 실용적입니다</td>\n",
              "      <td>1</td>\n",
              "    </tr>\n",
              "    <tr>\n",
              "      <th>4</th>\n",
              "      <td>마감이 매끄러워요</td>\n",
              "      <td>1</td>\n",
              "    </tr>\n",
              "  </tbody>\n",
              "</table>\n",
              "</div>\n",
              "      <button class=\"colab-df-convert\" onclick=\"convertToInteractive('df-ca95a8fe-b24e-46e2-aa35-308551a3ea8c')\"\n",
              "              title=\"Convert this dataframe to an interactive table.\"\n",
              "              style=\"display:none;\">\n",
              "        \n",
              "  <svg xmlns=\"http://www.w3.org/2000/svg\" height=\"24px\"viewBox=\"0 0 24 24\"\n",
              "       width=\"24px\">\n",
              "    <path d=\"M0 0h24v24H0V0z\" fill=\"none\"/>\n",
              "    <path d=\"M18.56 5.44l.94 2.06.94-2.06 2.06-.94-2.06-.94-.94-2.06-.94 2.06-2.06.94zm-11 1L8.5 8.5l.94-2.06 2.06-.94-2.06-.94L8.5 2.5l-.94 2.06-2.06.94zm10 10l.94 2.06.94-2.06 2.06-.94-2.06-.94-.94-2.06-.94 2.06-2.06.94z\"/><path d=\"M17.41 7.96l-1.37-1.37c-.4-.4-.92-.59-1.43-.59-.52 0-1.04.2-1.43.59L10.3 9.45l-7.72 7.72c-.78.78-.78 2.05 0 2.83L4 21.41c.39.39.9.59 1.41.59.51 0 1.02-.2 1.41-.59l7.78-7.78 2.81-2.81c.8-.78.8-2.07 0-2.86zM5.41 20L4 18.59l7.72-7.72 1.47 1.35L5.41 20z\"/>\n",
              "  </svg>\n",
              "      </button>\n",
              "      \n",
              "  <style>\n",
              "    .colab-df-container {\n",
              "      display:flex;\n",
              "      flex-wrap:wrap;\n",
              "      gap: 12px;\n",
              "    }\n",
              "\n",
              "    .colab-df-convert {\n",
              "      background-color: #E8F0FE;\n",
              "      border: none;\n",
              "      border-radius: 50%;\n",
              "      cursor: pointer;\n",
              "      display: none;\n",
              "      fill: #1967D2;\n",
              "      height: 32px;\n",
              "      padding: 0 0 0 0;\n",
              "      width: 32px;\n",
              "    }\n",
              "\n",
              "    .colab-df-convert:hover {\n",
              "      background-color: #E2EBFA;\n",
              "      box-shadow: 0px 1px 2px rgba(60, 64, 67, 0.3), 0px 1px 3px 1px rgba(60, 64, 67, 0.15);\n",
              "      fill: #174EA6;\n",
              "    }\n",
              "\n",
              "    [theme=dark] .colab-df-convert {\n",
              "      background-color: #3B4455;\n",
              "      fill: #D2E3FC;\n",
              "    }\n",
              "\n",
              "    [theme=dark] .colab-df-convert:hover {\n",
              "      background-color: #434B5C;\n",
              "      box-shadow: 0px 1px 3px 1px rgba(0, 0, 0, 0.15);\n",
              "      filter: drop-shadow(0px 1px 2px rgba(0, 0, 0, 0.3));\n",
              "      fill: #FFFFFF;\n",
              "    }\n",
              "  </style>\n",
              "\n",
              "      <script>\n",
              "        const buttonEl =\n",
              "          document.querySelector('#df-ca95a8fe-b24e-46e2-aa35-308551a3ea8c button.colab-df-convert');\n",
              "        buttonEl.style.display =\n",
              "          google.colab.kernel.accessAllowed ? 'block' : 'none';\n",
              "\n",
              "        async function convertToInteractive(key) {\n",
              "          const element = document.querySelector('#df-ca95a8fe-b24e-46e2-aa35-308551a3ea8c');\n",
              "          const dataTable =\n",
              "            await google.colab.kernel.invokeFunction('convertToInteractive',\n",
              "                                                     [key], {});\n",
              "          if (!dataTable) return;\n",
              "\n",
              "          const docLinkHtml = 'Like what you see? Visit the ' +\n",
              "            '<a target=\"_blank\" href=https://colab.research.google.com/notebooks/data_table.ipynb>data table notebook</a>'\n",
              "            + ' to learn more about interactive tables.';\n",
              "          element.innerHTML = '';\n",
              "          dataTable['output_type'] = 'display_data';\n",
              "          await google.colab.output.renderOutput(dataTable, element);\n",
              "          const docLink = document.createElement('div');\n",
              "          docLink.innerHTML = docLinkHtml;\n",
              "          element.appendChild(docLink);\n",
              "        }\n",
              "      </script>\n",
              "    </div>\n",
              "  </div>\n",
              "  "
            ]
          },
          "metadata": {},
          "execution_count": 18
        }
      ]
    },
    {
      "cell_type": "code",
      "source": [
        "df_test['sentence'] = df_test['sentence'].str.replace(\"[^ㄱ-ㅎㅏ-ㅣ가-힣 ]\", \"\")\n",
        "df_test.head()"
      ],
      "metadata": {
        "colab": {
          "base_uri": "https://localhost:8080/",
          "height": 243
        },
        "id": "75UGV7k5WxsS",
        "outputId": "a35cf6a9-8407-4047-f954-b54d40dc6084"
      },
      "execution_count": null,
      "outputs": [
        {
          "output_type": "stream",
          "name": "stderr",
          "text": [
            "<ipython-input-19-b72b67e0d2ab>:1: FutureWarning: The default value of regex will change from True to False in a future version.\n",
            "  df_test['sentence'] = df_test['sentence'].str.replace(\"[^ㄱ-ㅎㅏ-ㅣ가-힣 ]\", \"\")\n"
          ]
        },
        {
          "output_type": "execute_result",
          "data": {
            "text/plain": [
              "             sentence  label\n",
              "0        택배사 정말 마음에 듬      1\n",
              "1  잘 안 쓰고 있어요 참 불편합니다      0\n",
              "2            완전 거북이배송      0\n",
              "3            불순물이 없어요      1\n",
              "4     너무 좋아요 다시 사고싶어요      1"
            ],
            "text/html": [
              "\n",
              "  <div id=\"df-46e41e9c-ee37-4d7c-a4c6-e724f3374b9e\">\n",
              "    <div class=\"colab-df-container\">\n",
              "      <div>\n",
              "<style scoped>\n",
              "    .dataframe tbody tr th:only-of-type {\n",
              "        vertical-align: middle;\n",
              "    }\n",
              "\n",
              "    .dataframe tbody tr th {\n",
              "        vertical-align: top;\n",
              "    }\n",
              "\n",
              "    .dataframe thead th {\n",
              "        text-align: right;\n",
              "    }\n",
              "</style>\n",
              "<table border=\"1\" class=\"dataframe\">\n",
              "  <thead>\n",
              "    <tr style=\"text-align: right;\">\n",
              "      <th></th>\n",
              "      <th>sentence</th>\n",
              "      <th>label</th>\n",
              "    </tr>\n",
              "  </thead>\n",
              "  <tbody>\n",
              "    <tr>\n",
              "      <th>0</th>\n",
              "      <td>택배사 정말 마음에 듬</td>\n",
              "      <td>1</td>\n",
              "    </tr>\n",
              "    <tr>\n",
              "      <th>1</th>\n",
              "      <td>잘 안 쓰고 있어요 참 불편합니다</td>\n",
              "      <td>0</td>\n",
              "    </tr>\n",
              "    <tr>\n",
              "      <th>2</th>\n",
              "      <td>완전 거북이배송</td>\n",
              "      <td>0</td>\n",
              "    </tr>\n",
              "    <tr>\n",
              "      <th>3</th>\n",
              "      <td>불순물이 없어요</td>\n",
              "      <td>1</td>\n",
              "    </tr>\n",
              "    <tr>\n",
              "      <th>4</th>\n",
              "      <td>너무 좋아요 다시 사고싶어요</td>\n",
              "      <td>1</td>\n",
              "    </tr>\n",
              "  </tbody>\n",
              "</table>\n",
              "</div>\n",
              "      <button class=\"colab-df-convert\" onclick=\"convertToInteractive('df-46e41e9c-ee37-4d7c-a4c6-e724f3374b9e')\"\n",
              "              title=\"Convert this dataframe to an interactive table.\"\n",
              "              style=\"display:none;\">\n",
              "        \n",
              "  <svg xmlns=\"http://www.w3.org/2000/svg\" height=\"24px\"viewBox=\"0 0 24 24\"\n",
              "       width=\"24px\">\n",
              "    <path d=\"M0 0h24v24H0V0z\" fill=\"none\"/>\n",
              "    <path d=\"M18.56 5.44l.94 2.06.94-2.06 2.06-.94-2.06-.94-.94-2.06-.94 2.06-2.06.94zm-11 1L8.5 8.5l.94-2.06 2.06-.94-2.06-.94L8.5 2.5l-.94 2.06-2.06.94zm10 10l.94 2.06.94-2.06 2.06-.94-2.06-.94-.94-2.06-.94 2.06-2.06.94z\"/><path d=\"M17.41 7.96l-1.37-1.37c-.4-.4-.92-.59-1.43-.59-.52 0-1.04.2-1.43.59L10.3 9.45l-7.72 7.72c-.78.78-.78 2.05 0 2.83L4 21.41c.39.39.9.59 1.41.59.51 0 1.02-.2 1.41-.59l7.78-7.78 2.81-2.81c.8-.78.8-2.07 0-2.86zM5.41 20L4 18.59l7.72-7.72 1.47 1.35L5.41 20z\"/>\n",
              "  </svg>\n",
              "      </button>\n",
              "      \n",
              "  <style>\n",
              "    .colab-df-container {\n",
              "      display:flex;\n",
              "      flex-wrap:wrap;\n",
              "      gap: 12px;\n",
              "    }\n",
              "\n",
              "    .colab-df-convert {\n",
              "      background-color: #E8F0FE;\n",
              "      border: none;\n",
              "      border-radius: 50%;\n",
              "      cursor: pointer;\n",
              "      display: none;\n",
              "      fill: #1967D2;\n",
              "      height: 32px;\n",
              "      padding: 0 0 0 0;\n",
              "      width: 32px;\n",
              "    }\n",
              "\n",
              "    .colab-df-convert:hover {\n",
              "      background-color: #E2EBFA;\n",
              "      box-shadow: 0px 1px 2px rgba(60, 64, 67, 0.3), 0px 1px 3px 1px rgba(60, 64, 67, 0.15);\n",
              "      fill: #174EA6;\n",
              "    }\n",
              "\n",
              "    [theme=dark] .colab-df-convert {\n",
              "      background-color: #3B4455;\n",
              "      fill: #D2E3FC;\n",
              "    }\n",
              "\n",
              "    [theme=dark] .colab-df-convert:hover {\n",
              "      background-color: #434B5C;\n",
              "      box-shadow: 0px 1px 3px 1px rgba(0, 0, 0, 0.15);\n",
              "      filter: drop-shadow(0px 1px 2px rgba(0, 0, 0, 0.3));\n",
              "      fill: #FFFFFF;\n",
              "    }\n",
              "  </style>\n",
              "\n",
              "      <script>\n",
              "        const buttonEl =\n",
              "          document.querySelector('#df-46e41e9c-ee37-4d7c-a4c6-e724f3374b9e button.colab-df-convert');\n",
              "        buttonEl.style.display =\n",
              "          google.colab.kernel.accessAllowed ? 'block' : 'none';\n",
              "\n",
              "        async function convertToInteractive(key) {\n",
              "          const element = document.querySelector('#df-46e41e9c-ee37-4d7c-a4c6-e724f3374b9e');\n",
              "          const dataTable =\n",
              "            await google.colab.kernel.invokeFunction('convertToInteractive',\n",
              "                                                     [key], {});\n",
              "          if (!dataTable) return;\n",
              "\n",
              "          const docLinkHtml = 'Like what you see? Visit the ' +\n",
              "            '<a target=\"_blank\" href=https://colab.research.google.com/notebooks/data_table.ipynb>data table notebook</a>'\n",
              "            + ' to learn more about interactive tables.';\n",
              "          element.innerHTML = '';\n",
              "          dataTable['output_type'] = 'display_data';\n",
              "          await google.colab.output.renderOutput(dataTable, element);\n",
              "          const docLink = document.createElement('div');\n",
              "          docLink.innerHTML = docLinkHtml;\n",
              "          element.appendChild(docLink);\n",
              "        }\n",
              "      </script>\n",
              "    </div>\n",
              "  </div>\n",
              "  "
            ]
          },
          "metadata": {},
          "execution_count": 19
        }
      ]
    },
    {
      "cell_type": "markdown",
      "source": [
        "### white space 데이터를 empty value로 변경"
      ],
      "metadata": {
        "id": "86RgyyYDTO13"
      }
    },
    {
      "cell_type": "code",
      "source": [
        "df_train['sentence'] = df_train['sentence'].str.replace('^ +', \"\")\n",
        "df_train['sentence'].replace('', np.nan, inplace=True)\n",
        "print(df_train.isnull().sum())"
      ],
      "metadata": {
        "colab": {
          "base_uri": "https://localhost:8080/"
        },
        "id": "4bS_P8EAQ0gP",
        "outputId": "01498ccb-9237-40b2-d2e6-79bedafaa0f8"
      },
      "execution_count": null,
      "outputs": [
        {
          "output_type": "stream",
          "name": "stdout",
          "text": [
            "sentence    0\n",
            "label       0\n",
            "dtype: int64\n"
          ]
        },
        {
          "output_type": "stream",
          "name": "stderr",
          "text": [
            "<ipython-input-20-c0c8f5b4ff82>:1: FutureWarning: The default value of regex will change from True to False in a future version.\n",
            "  df_train['sentence'] = df_train['sentence'].str.replace('^ +', \"\")\n"
          ]
        }
      ]
    },
    {
      "cell_type": "code",
      "source": [
        "df_test['sentence'] = df_test['sentence'].str.replace('^ +', \"\")\n",
        "df_test['sentence'].replace('', np.nan, inplace=True)\n",
        "print(df_test.isnull().sum())"
      ],
      "metadata": {
        "colab": {
          "base_uri": "https://localhost:8080/"
        },
        "id": "U55tHFH4W3za",
        "outputId": "a6f7e879-801c-40cd-d202-fb29d5c7bb13"
      },
      "execution_count": null,
      "outputs": [
        {
          "output_type": "stream",
          "name": "stdout",
          "text": [
            "sentence    0\n",
            "label       0\n",
            "dtype: int64\n"
          ]
        },
        {
          "output_type": "stream",
          "name": "stderr",
          "text": [
            "<ipython-input-21-cf3a2e10c552>:1: FutureWarning: The default value of regex will change from True to False in a future version.\n",
            "  df_test['sentence'] = df_test['sentence'].str.replace('^ +', \"\")\n"
          ]
        }
      ]
    },
    {
      "cell_type": "markdown",
      "source": [
        "## 토큰화"
      ],
      "metadata": {
        "id": "EAISD2O7TsLY"
      }
    },
    {
      "cell_type": "code",
      "source": [
        "stopwords = ['의','가','이','은','들','는','좀','잘','걍','과','도','를','으로','자','에','와','한','하다']"
      ],
      "metadata": {
        "id": "yRVr3N6VTik3"
      },
      "execution_count": null,
      "outputs": []
    },
    {
      "cell_type": "code",
      "source": [
        "okt = Okt()"
      ],
      "metadata": {
        "id": "0MBMOKGaUwvQ"
      },
      "execution_count": null,
      "outputs": []
    },
    {
      "cell_type": "code",
      "source": [
        "X_train = []\n",
        "\n",
        "for sentence in tqdm(df_train['sentence']):\n",
        "  tokenized_setence = okt.morphs(sentence, stem=True) # 토큰화\n",
        "  stopwords_removed_sentence = [word for word in tokenized_setence if not word in stopwords] # 불용어 제거\n",
        "  X_train.append(stopwords_removed_sentence)"
      ],
      "metadata": {
        "colab": {
          "base_uri": "https://localhost:8080/"
        },
        "id": "w66OmE1DTxlD",
        "outputId": "35ae8696-0b8f-4108-cd1d-7861c92294c1"
      },
      "execution_count": null,
      "outputs": [
        {
          "output_type": "stream",
          "name": "stderr",
          "text": [
            "100%|██████████| 3649/3649 [00:18<00:00, 199.93it/s]\n"
          ]
        }
      ]
    },
    {
      "cell_type": "code",
      "source": [
        "X_train[:3]"
      ],
      "metadata": {
        "colab": {
          "base_uri": "https://localhost:8080/"
        },
        "id": "uhEav9E4VA6Y",
        "outputId": "286a1fb5-da24-4f95-dd88-3c5b56e6c4d3"
      },
      "execution_count": null,
      "outputs": [
        {
          "output_type": "execute_result",
          "data": {
            "text/plain": [
              "[['너무나', '자다', '안', '지워지다', '다시', '다른', '제품', '구매', '해', '요'],\n",
              " ['별로', '네', '요', '글씨', '지워지다'],\n",
              " ['두', '개', '중', '하나', '벌써', '고장', '나다']]"
            ]
          },
          "metadata": {},
          "execution_count": 25
        }
      ]
    },
    {
      "cell_type": "code",
      "source": [
        "X_test = []\n",
        "\n",
        "for sentence in tqdm(df_test['sentence']):\n",
        "  tokenized_setence = okt.morphs(sentence, stem=True) # 토큰화\n",
        "  stopwords_removed_sentence = [word for word in tokenized_setence if not word in stopwords] # 불용어 제거\n",
        "  X_test.append(stopwords_removed_sentence)"
      ],
      "metadata": {
        "colab": {
          "base_uri": "https://localhost:8080/"
        },
        "id": "LndSVhHbXOuJ",
        "outputId": "df80bb76-8e9b-44cd-9060-32b1d30f4c4b"
      },
      "execution_count": null,
      "outputs": [
        {
          "output_type": "stream",
          "name": "stderr",
          "text": [
            "100%|██████████| 397/397 [00:01<00:00, 270.18it/s]\n"
          ]
        }
      ]
    },
    {
      "cell_type": "code",
      "source": [
        "X_test[:3]"
      ],
      "metadata": {
        "colab": {
          "base_uri": "https://localhost:8080/"
        },
        "id": "OdJGjdjUXhE4",
        "outputId": "4bc46831-6d35-4988-c4a2-c30f70e1485c"
      },
      "execution_count": null,
      "outputs": [
        {
          "output_type": "execute_result",
          "data": {
            "text/plain": [
              "[['택배', '사', '정말', '마음', '듬'],\n",
              " ['자다', '안', '쓰다', '있다', '차다', '불편하다'],\n",
              " ['완전', '거북이', '배송']]"
            ]
          },
          "metadata": {},
          "execution_count": 27
        }
      ]
    },
    {
      "cell_type": "markdown",
      "source": [
        "## 정수 인코딩"
      ],
      "metadata": {
        "id": "WHdkFPF-XlQZ"
      }
    },
    {
      "cell_type": "code",
      "source": [
        "tokenizer = Tokenizer()\n",
        "tokenizer.fit_on_texts(X_train)"
      ],
      "metadata": {
        "id": "16Xrk5uKXiW8"
      },
      "execution_count": null,
      "outputs": []
    },
    {
      "cell_type": "code",
      "source": [
        "print(tokenizer.word_index)"
      ],
      "metadata": {
        "colab": {
          "base_uri": "https://localhost:8080/"
        },
        "id": "MYK364AUX9Ql",
        "outputId": "4999b416-bcb1-484b-a2f5-9ef14dc01663"
      },
      "execution_count": null,
      "outputs": [
        {
          "output_type": "stream",
          "name": "stdout",
          "text": [
            "{'좋다': 1, '자다': 2, '너무': 3, '배송': 4, '이다': 5, '요': 6, '있다': 7, '같다': 8, '안': 9, '가격': 10, '제품': 11, '보다': 12, '않다': 13, '것': 14, '별로': 15, '사용': 16, '없다': 17, '빠르다': 18, '상품': 19, '저렴하다': 20, '오다': 21, '쓰다': 22, '생각': 23, '사다': 24, '구매': 25, '아이': 26, '아주': 27, '다': 28, '되다': 29, '만족하다': 30, '들다': 31, '이에요': 32, '싸다': 33, '정말': 34, '예쁘다': 35, '좋아하다': 36, '받다': 37, '을': 38, '거': 39, '고': 40, '편하다': 41, '포장': 42, '많이': 43, '하고': 44, '안되다': 45, '느리다': 46, '맘': 47, '괜찮다': 48, '네': 49, '완전': 50, '대비': 51, '로': 52, '이쁘다': 53, '비': 54, '엄청': 55, '못': 56, '만': 57, '비싸다': 58, '가성': 59, '버리다': 60, '나다': 61, '최악': 62, '추천': 63, '아쉽다': 64, '약하다': 65, '되어다': 66, '작다': 67, '력': 68, '맞다': 69, '튼튼하다': 70, '감사하다': 71, '쓸다': 72, '향': 73, '상태': 74, '다른': 75, '아니다': 76, '주문': 77, '돈': 78, '불편하다': 79, '떨어지다': 80, '서': 81, '깔끔하다': 82, '사이즈': 83, '이라': 84, '보내다': 85, '선물': 86, '책': 87, '수': 88, '부분': 89, '때': 90, '허다': 91, '품질': 92, '크다': 93, '나오다': 94, '돼다': 95, '많다': 96, '디자인': 97, '넘다': 98, '색상': 99, 'ㅠㅠ': 100, '인데': 101, '마감': 102, '써다': 103, '아깝다': 104, '효과': 105, '구입': 106, '재다': 107, '게': 108, '조금': 109, '더': 110, '냄새': 111, '마음': 112, '개': 113, '이네': 114, '발림': 115, '진짜': 116, '해': 117, '중': 118, '빨르다': 119, '계속': 120, '또': 121, '보이다': 122, '느낌': 123, '성능': 124, '먹다': 125, '용': 126, '귀엽다': 127, '오래': 128, '색': 129, '사진': 130, '가지': 131, '부드럽다': 132, '에서': 133, '적': 134, '쉬다': 135, '최고': 136, 'ㅠ': 137, '매우': 138, '딱': 139, '붙다': 140, '화면': 141, '쓰기': 142, '실망': 143, '비추다': 144, '이고': 145, '성': 146, '물건': 147, '커버': 148, 'ㅎㅎ': 149, '전혀': 150, '소리': 151, '어렵다': 152, '그렇다': 153, '작고': 154, '불량': 155, '듯': 156, '촉촉하다': 157, '걸': 158, '없이': 159, '짧다': 160, '얇다': 161, '아기': 162, '터치': 163, '감': 164, '제': 165, '인': 166, '말다': 167, '싶다': 168, '빠지다': 169, '깨끗하다': 170, '주다': 171, '파다': 172, '놀다': 173, '만족스럽다': 174, '심하다': 175, '그냥': 176, '하나': 177, '고장': 178, '크기': 179, '금방': 180, '다르다': 181, '모르다': 182, '작동': 183, '만에': 184, '다음': 185, '가볍다': 186, '빨리': 187, '굿': 188, '원하다': 189, '듭니': 190, '잘쓰다': 191, '나': 192, '놓다': 193, '피부': 194, '늦다': 195, '가다': 196, '안좋다': 197, '묻다': 198, '넣다': 199, '읽다': 200, '라서': 201, '까지': 202, '지': 203, '대': 204, '비다': 205, '짱': 206, '적당하다': 207, '재질': 208, '인식': 209, '기대': 210, '모두': 211, '만족': 212, '색깔': 213, '별': 214, '사지': 215, '붙이다': 216, '임': 217, '만들다': 218, '조립': 219, '힘들다': 220, '바르다': 221, '이랑': 222, '기한': 223, '편리하다': 224, '지워지다': 225, '두': 226, '사': 227, '산': 228, '강': 229, '유통': 230, '바로': 231, '항상': 232, '시원하다': 233, '예요': 234, '고정': 235, '여기': 236, '괜히': 237, '이나': 238, '소음': 239, '추하다': 240, '저': 241, '드리다': 242, '하루': 243, '나서다': 244, '부실하다': 245, '입다': 246, '적다': 247, '물': 248, '애': 249, '처리': 250, '만큼': 251, '재밌다': 252, '뚜껑': 253, '도착': 254, '안전하다': 255, '힘드다': 256, '퀄리티': 257, '선명하다': 258, 'ㅜㅜ': 259, '엉망': 260, '걸리다': 261, '왜': 262, '구성': 263, '역시': 264, '자꾸': 265, '친절하다': 266, '딱이다': 267, '처음': 268, '해보다': 269, '곳': 270, '랑': 271, '설명': 272, '다시': 273, '감다': 274, '옷': 275, '한번': 276, '시키다': 277, '니까': 278, '충전': 279, '머리': 280, '반품': 281, '지속': 282, '라': 283, '간편하다': 284, '드네': 285, '설치': 286, '되게': 287, '양': 288, '재미있다': 289, '지다': 290, '면': 291, '달라': 292, '손': 293, '생기다': 294, '착하다': 295, '색감': 296, '입히다': 297, '터지다': 298, '아프다': 299, '케이스': 300, '내': 301, '자주': 302, '필요하다': 303, '말': 304, '제대로': 305, '이렇게': 306, '기': 307, '해주다': 308, '편이': 309, '끈': 310, '시간': 311, '부러지다': 312, '애기': 313, '보기': 314, '판매': 315, '빨': 316, '니': 317, '질': 318, '스럽다': 319, '믿다': 320, '이건': 321, '앞': 322, '단점': 323, '구': 324, '세': 325, '부서지다': 326, '꼼꼼하다': 327, '매번': 328, '쓰레기': 329, '따뜻하다': 330, '싱싱하다': 331, '에요': 332, '아직': 333, '우리': 334, '날': 335, '길이': 336, '힘': 337, '보고': 338, '살다': 339, '정품': 340, '문제': 341, '조카': 342, '알다': 343, '확실하다': 344, '중고': 345, '적극': 346, '먼지': 347, '기능': 348, '건': 349, '그려지다': 350, '보습': 351, '다니다': 352, '하': 353, '고급스럽다': 354, 'ㅡㅡ': 355, '에도': 356, '사서': 357, '보': 358, '약간': 359, '접다': 360, '다양하다': 361, '깨지다': 362, '순하다': 363, '조절': 364, '전': 365, '뜯다': 366, '새다': 367, '발리다': 368, '이상': 369, '살': 370, '건강하다': 371, '몇': 372, '용량': 373, '벌써': 374, '갖다': 375, '처럼': 376, '깨다': 377, '아': 378, '스티커': 379, '한지': 380, '얼굴': 381, '술': 382, '성도': 383, '심해': 384, '달': 385, '자국': 386, '나쁘다': 387, '의사': 388, '착용': 389, '같이': 390, '신경': 391, '아들': 392, '높다': 393, '내용': 394, '절대': 395, '시끄럽다': 396, '차다': 397, '수가': 398, '바지': 399, '털': 400, '거리': 401, 'ㅎ': 402, '건조하다': 403, '지문': 404, '끄다': 405, '그닥': 406, '위': 407, '함': 408, '속': 409, '후': 410, '거의': 411, '접착': 412, '무거워': 413, '점': 414, '넉넉하다': 415, '번': 416, '한테': 417, '줄': 418, '후회': 419, '발색': 420, '일': 421, '열리다': 422, '장난': 423, '물이': 424, '찢어지다': 425, '대로': 426, '택배': 427, '겨울': 428, '샘플': 429, '두다': 430, '건지다': 431, '누르다': 432, '찌그러지다': 433, '이용': 434, '접': 435, '바라다': 436, '연락': 437, '그': 438, '굳다': 439, '종이': 440, '때문': 441, '굿굿': 442, 'ㅜ': 443, '장난감': 444, '번창': 445, '늘': 446, '제일': 447, '오래되다': 448, '대박': 449, '모서리': 450, '덕분': 451, '박스': 452, '뜨다': 453, '새': 454, '그대로': 455, '기스': 456, '이상하다': 457, '시': 458, '티': 459, '정도': 460, '여서': 461, '커서': 462, '데': 463, '그리다': 464, '닦다': 465, '아예': 466, '발리': 467, '화질': 468, '색도': 469, '문': 470, '일주일': 471, '양도': 472, '걱정': 473, '나가다': 474, '스럽게': 475, '서비스': 476, '성하다': 477, '기분': 478, '여러': 479, '휴대': 480, '찾다': 481, '귀찮다': 482, '간단하다': 483, '끝': 484, '바꾸다': 485, '연결': 486, '정리': 487, '다시다': 488, '기대하다': 489, '구멍': 490, '매일': 491, '싸구려': 492, '자극': 493, '느끼다': 494, '발': 495, '환불': 496, '지나다': 497, '신기하다': 498, '품': 499, '영': 500, '쏙': 501, '부담': 502, '광고': 503, '뭉치다': 504, '음': 505, 'ㅋㅋㅋ': 506, 'ㅋ': 507, '원': 508, '꽝': 509, '지저분하다': 510, '견고하다': 511, '떡': 512, '무슨': 513, '무난': 514, '망가지다': 515, '훨씬': 516, '짜증나다': 517, '뭔가': 518, '치다': 519, '반짝이다': 520, '감사': 521, '따다': 522, '속도': 523, '틀리다': 524, '사기': 525, '파손': 526, '도움': 527, '엔': 528, '자연': 529, '무겁다': 530, '밀리다': 531, '어떻다': 532, '풍': 533, '어항': 534, '날리다': 535, '자체': 536, '막': 537, '흡수': 538, '구기다': 539, '후기': 540, '에게': 541, '필요없다': 542, '청소': 543, '화분': 544, '헐겁다': 545, '및': 546, '부품': 547, '강추': 548, '책상': 549, '이유': 550, '온': 551, '돌아가다': 552, '필기': 553, '내용물': 554, '양호': 555, '다리': 556, '접합': 557, '잘못': 558, '교환': 559, '음질': 560, '이렇다': 561, '위해': 562, '자마자': 563, '어울리다': 564, '좁다': 565, '거품': 566, '마스크': 567, '브러쉬': 568, '우수하다': 569, '이라서': 570, '밀착': 571, '엄마': 572, '분': 573, '조잡하다': 574, '사은': 575, '남다': 576, '부위': 577, '뻑뻑': 578, '쉽다': 579, '세척': 580, '실용': 581, '들어가다': 582, '꽃': 583, '딸아이': 584, '갑': 585, '떼다': 586, '선': 587, '담': 588, '얼마': 589, '인쇄': 590, '사라지다': 591, '목욕': 592, '꽤': 593, '특히': 594, '펜': 595, '보이': 596, '에는': 597, '전화': 598, '안쪽': 599, '맛있다': 600, '말리다': 601, '이어서': 602, '맛': 603, '바람': 604, '뽁뽁이': 605, '병': 606, '착': 607, '실리콘': 608, '단단하다': 609, '보이지': 610, '몇번': 611, '이라고': 612, '제거': 613, '유용하다': 614, '두껍다': 615, '부터': 616, '야하다': 617, '애용': 618, '나요': 619, '팔다': 620, '바느질': 621, '총알': 622, '오늘': 623, '씻다': 624, '만들어지다': 625, '깔다': 626, '입': 627, '흐르다': 628, '약': 629, '서다': 630, 'ㅜㅠ': 631, '찍히다': 632, '모양': 633, '순간': 634, '목': 635, '접해': 636, '키우다': 637, '수초': 638, '알러지': 639, '안나': 640, '기다리다': 641, '무척': 642, '며칠': 643, '매장': 644, '티나': 645, '안심': 646, '생일': 647, '종류': 648, '장': 649, '풀다': 650, '보관': 651, '대충': 652, '어떡하다': 653, '플라스틱': 654, '타다': 655, '오': 656, '조용하다': 657, '귀': 658, '빼다': 659, '무지': 660, '불안하다': 661, '기다': 662, '너': 663, '가지다': 664, '비지': 665, '급': 666, '대응': 667, '일회용': 668, '연': 669, '뭡': 670, '나니': 671, '날림': 672, '예정': 673, '일단': 674, '그림': 675, '굉장하다': 676, '향기': 677, '컬러': 678, '놀이': 679, '기사': 680, '사고': 681, '개인': 682, '밝다': 683, '염색': 684, '잡기': 685, '멋지다': 686, '정확하다': 687, '조': 688, '날짜': 689, '무엇': 690, '미치다': 691, '산지': 692, '뭐': 693, '접함': 694, '중이': 695, '찍다': 696, '빵점': 697, '뜨겁다': 698, '촉감': 699, '놀라다': 700, '울': 701, '신나다': 702, '술해': 703, '용도': 704, '평소': 705, '불빛': 706, '강아지': 707, '닥': 708, '친구': 709, '식물': 710, '박음질': 711, '길다': 712, '폰': 713, '크림': 714, '솜': 715, '첨': 716, '날카롭다': 717, '바닥': 718, '재': 719, '따르다': 720, '뭔': 721, '세안': 722, '년': 723, '건가': 724, '실제': 725, '닿다': 726, '화장': 727, '꽉': 728, '벗겨지다': 729, '들뜨다': 730, '겁나다': 731, '부착': 732, '잎': 733, 'ㅋㅋ': 734, '유모차': 735, '절삭': 736, '알': 737, '받침': 738, '일반': 739, '늘다': 740, '가방': 741, '훼손': 742, '심플': 743, '마트': 744, '똑같다': 745, '가치': 746, '이틀': 747, '알차다': 748, '죽다': 749, '할인': 750, '어': 751, '가루': 752, '즐겁다': 753, '개월': 754, '딱딱하다': 755, '호환': 756, '불가하다': 757, '값': 758, '매트': 759, '어린이집': 760, '수준': 761, '지금': 762, '고생': 763, '사면': 764, '동작': 765, '딸': 766, '타': 767, '기도': 768, '하자': 769, '표지': 770, '후회되다': 771, '배송비': 772, '흔들다': 773, '씩': 774, '득템': 775, '촌스럽다': 776, '께서': 777, '도톰하다': 778, '이기': 779, '별루': 780, '마다': 781, '끼우다': 782, '없어지다': 783, '양말': 784, '만족도': 785, '잔': 786, '중심': 787, '더럽다': 788, '비닐': 789, '공간': 790, '상당하다': 791, '주름': 792, '질도': 793, '집': 794, '가능하다': 795, '수고': 796, '심': 797, '한쪽': 798, '잡티': 799, '공부': 800, '당황': 801, '응대': 802, '사주다': 803, '도장': 804, '워': 805, '끼다': 806, '너무나': 807, '글씨': 808, '리뷰': 809, '딱하다': 810, '필수품': 811, '빨대': 812, '분리': 813, '은은하다': 814, '번거롭다': 815, '두께': 816, '혼자': 817, '덜하다': 818, '으로도': 819, '여드름': 820, '늘어나다': 821, '튀다': 822, '신축': 823, '라인': 824, '선택': 825, '톤업': 826, '두번째': 827, '훌륭하다': 828, '완성': 829, '시작': 830, '이르다': 831, '잡다': 832, '무게': 833, '안감': 834, '불': 835, '켜다': 836, '버튼': 837, '아무': 838, '짝': 839, '톤': 840, '한글': 841, '그저': 842, '설치다': 843, '거치다': 844, '올리다': 845, '오프라인': 846, '작': 847, '꾸준하다': 848, '그다지': 849, '차': 850, '삐뚤다': 851, '유': 852, '검수': 853, '카드': 854, '조심하다': 855, '수분': 856, '간지럽다': 857, '들어서다': 858, '물감': 859, '이지': 860, '고민': 861, '악': 862, '로션': 863, '볼': 864, '이미지': 865, '동일하다': 866, '대단하다': 867, '전원': 868, '부족하다': 869, '가장': 870, '자석': 871, '냉장고': 872, '묽다': 873, '시중': 874, '지는': 875, '따갑다': 876, '젤': 877, '번지': 878, '낫다': 879, '해외': 880, '보지': 881, '긁다': 882, '움': 883, '가족': 884, '덮개': 885, '빨강': 886, '조작': 887, '집사람': 888, '초보자': 889, '연습': 890, '자르다': 891, '노': 892, '초': 893, '열': 894, '서도': 895, '가요': 896, '정사': 897, '이즈': 898, '구피': 899, '펴다': 900, '할로윈': 901, '갈다': 902, '여름': 903, '아무리': 904, '죠': 905, '팔': 906, '들리다': 907, '편안하다': 908, '움직': 909, '게임': 910, '집게': 911, '적임': 912, '살짝': 913, '볼륨': 914, '세탁': 915, '개별': 916, '추가': 917, '기존': 918, '닫히다': 919, '용감': 920, '으로는': 921, '물품': 922, '돌리다': 923, '빨다': 924, '이딴': 925, '이해': 926, '디테': 927, '발송': 928, '짱짱하다': 929, '쿠션': 930, '대체로': 931, '자라다': 932, '별롭니': 933, '용기': 934, '단': 935, '덥다': 936, '이야': 937, '원래': 938, '화장품': 939, '닦이다': 940, '고급': 941, '지고': 942, '필름': 943, '원단': 944, '실망하다': 945, '즈': 946, '저렴': 947, '진심': 948, '싼값': 949, '신다': 950, '내다': 951, '려': 952, '잘맞다': 953, '필수': 954, '아이템': 955, '수월하다': 956, '미리': 957, '여': 958, '나사': 959, '해도': 960, '조여': 961, '페인트': 962, '여행': 963, '보풀': 964, '생기': 965, '인지': 966, '꼭': 967, '외출': 968, '스트레스': 969, '물티슈': 970, '말고': 971, '안보': 972, '여요': 973, '고객': 974, '흠집': 975, '차이': 976, '라고': 977, '슬프다': 978, '통': 979, '비교': 980, '불량품': 981, '요긴': 982, '코팅': 983, '펌프': 984, '누수': 985, '지퍼': 986, '진작': 987, '지인': 988, '답답하다': 989, '올라오다': 990, '이전': 991, '다행': 992, '첫': 993, '더욱': 994, '끊어지다': 995, '강하다': 996, '아주아주': 997, '마우스': 998, '미끄럽다': 999, '소재': 1000, '팩': 1001, '재고': 1002, '발라': 1003, '좋아지다': 1004, '손잡이': 1005, '만들기': 1006, '만해': 1007, '흔들리다': 1008, '안해': 1009, '끊기다': 1010, '흡착': 1011, '강화유리': 1012, '카메라': 1013, '배추': 1014, '봄': 1015, '맞추다': 1016, '신랑': 1017, '수령': 1018, '이하': 1019, '치수': 1020, '뒤': 1021, '강력': 1022, '학생': 1023, '깎다': 1024, '매끄럽다': 1025, '붓': 1026, '도나': 1027, '피다': 1028, '불순': 1029, '섞이다': 1030, '앙증맞다': 1031, '나름': 1032, '개도': 1033, '무료': 1034, '역대': 1035, '히': 1036, '따로': 1037, '용법': 1038, '인가': 1039, '핑크': 1040, '박다': 1041, '밖에': 1042, '고무': 1043, '어둡다': 1044, '인생': 1045, '평점': 1046, '툭': 1047, '지지': 1048, '블링블링': 1049, '만큼은': 1050, '님': 1051, '문의': 1052, '잡음': 1053, '과대': 1054, '쓰리다': 1055, '하트': 1056, '점성': 1057, '정보': 1058, '매': 1059, '소비자': 1060, '묵직하다': 1061, '움직이다': 1062, '달도': 1063, '하라': 1064, '고기': 1065, '로고': 1066, '음성': 1067, '영어': 1068, '합리': 1069, '모터': 1070, '인가요': 1071, '내주다': 1072, '수도': 1073, '종일': 1074, '에서는': 1075, '구해': 1076, '번짐': 1077, '활발하다': 1078, '놈': 1079, '탈': 1080, '코': 1081, '쪽': 1082, '민감': 1083, '너무하다': 1084, '활': 1085, '액정': 1086, '그동안': 1087, '키': 1088, '보드': 1089, '풀리다': 1090, '라이트': 1091, '물고기': 1092, '둥둥': 1093, '그닥임': 1094, '덕': 1095, '여기저기': 1096, '이제': 1097, '활용': 1098, '산뜻하다': 1099, '짱짱': 1100, '이라니': 1101, '인테리어': 1102, '신선하다': 1103, '동시': 1104, '날아가다': 1105, '성은': 1106, '지경': 1107, '심다': 1108, '오랫동안': 1109, '금': 1110, '슬림': 1111, '그리기': 1112, '건성': 1113, '줍다': 1114, '예': 1115, '에어': 1116, '필터': 1117, '요청': 1118, '슥': 1119, '삭': 1120, '압축': 1121, '요즘': 1122, '조종': 1123, '충분하다': 1124, '접지': 1125, '뛰어나다': 1126, '취소': 1127, '날다': 1128, '토': 1129, '높이': 1130, '걸다': 1131, '놀래다': 1132, '다해': 1133, '투명하다': 1134, '눈썹': 1135, '숙달': 1136, '세상': 1137, '노래': 1138, '겁니다': 1139, '왜인': 1140, '찝찝하다': 1141, '입술': 1142, '쥐다': 1143, '누가': 1144, '밟다': 1145, '멜로디': 1146, '쌀쌀하다': 1147, '타입': 1148, '핏': 1149, '리뉴얼': 1150, '글': 1151, '치고는': 1152, '째': 1153, '배달': 1154, '버전': 1155, '화나다': 1156, '온도': 1157, '적절하다': 1158, '치마': 1159, '현상': 1160, '똑바로': 1161, '그릴': 1162, '정교하다': 1163, '줄기': 1164, '사람': 1165, '화장실': 1166, '쩍쩍': 1167, '달라붙다': 1168, '심각하다': 1169, '꾸미다': 1170, '단순하다': 1171, '얼룩지다': 1172, '아이고': 1173, '습도': 1174, '측정': 1175, '샴푸': 1176, '지성': 1177, '배': 1178, '자라': 1179, '부속품': 1180, '짝퉁': 1181, '아담하다': 1182, '개선': 1183, '얻다': 1184, '잉크': 1185, '불만족': 1186, '째다': 1187, '여러가지': 1188, 'ㅎㅎㅎ': 1189, '다치다': 1190, '이런': 1191, '유리': 1192, '작업': 1193, '파우더': 1194, '부탁드리다': 1195, '변하다': 1196, '자동차': 1197, '애가': 1198, '주머니': 1199, '형편': 1200, '밤': 1201, '신생아': 1202, '모로': 1203, '가리다': 1204, '큐빅': 1205, '이리': 1206, '빨래': 1207, '잔뜩': 1208, '원목': 1209, '화사하다': 1210, '은근': 1211, '기저귀': 1212, '하니': 1213, '비눗방울': 1214, '액': 1215, '뒷': 1216, '온라인': 1217, '쓰이다': 1218, '불다': 1219, '욕': 1220, '딴딴하다': 1221, '여전하다': 1222, '성분': 1223, '답': 1224, '짜증': 1225, '기모': 1226, '마리': 1227, '생가': 1228, '정력': 1229, '남아': 1230, '맨': 1231, '너무나도': 1232, '터': 1233, '기름': 1234, '줄이다': 1235, '진짜진짜': 1236, '단추': 1237, '세트': 1238, '엣지': 1239, '기본': 1240, '패드': 1241, '녹슬다': 1242, '동': 1243, '식용': 1244, '취미': 1245, '생활': 1246, '한개': 1247, '워터': 1248, '프루프': 1249, '연하다': 1250, '리본': 1251, '채': 1252, '취향': 1253, '거부': 1254, '겉': 1255, '실밥': 1256, '골': 1257, '곡': 1258, '가죽': 1259, '디테일': 1260, '손가락': 1261, '손바닥': 1262, '관심': 1263, '시험': 1264, '립스틱': 1265, '에서도': 1266, '살아나다': 1267, '김자': 1268, '반': 1269, '깍이다': 1270, '신속하다': 1271, '저희': 1272, '수평': 1273, '천원': 1274, '지면': 1275, '점점': 1276, '보단': 1277, '안내': 1278, '창문': 1279, '외관': 1280, '백': 1281, '탁': 1282, '유튜브': 1283, '희다': 1284, '발아': 1285, '차라리': 1286, '최상': 1287, '동안': 1288, '잡히다': 1289, '품다': 1290, '누락': 1291, '짐': 1292, '았': 1293, '유통기간': 1294, '주신': 1295, '고무줄': 1296, '의심스럽다': 1297, '골고루': 1298, '씨디': 1299, '노니': 1300, '분갈이': 1301, '뿌리다': 1302, '걸이': 1303, '방법': 1304, '통장': 1305, '관할': 1306, '아래': 1307, '수납': 1308, '충격': 1309, '입자': 1310, '전반': 1311, '통화': 1312, '감동': 1313, '역할': 1314, '살걸': 1315, '작아지다': 1316, '찬': 1317, '거실': 1318, '빵빵': 1319, '드릴': 1320, '퀄': 1321, '로서': 1322, '불쾌하다': 1323, '블랙': 1324, '타고': 1325, '일이': 1326, '자리': 1327, '금액': 1328, '운동': 1329, '준비': 1330, '모든': 1331, '업체': 1332, '와우': 1333, '숟가락': 1334, '근데': 1335, '스트랩': 1336, '꽂다': 1337, '해봤다': 1338, '파워': 1339, '아침': 1340, '절약': 1341, '진하다': 1342, '초보': 1343, '절대로': 1344, '거치': 1345, '정당하다': 1346, '모래': 1347, '쓸모': 1348, '확대': 1349, '대다': 1350, '일부': 1351, '파시': 1352, '껍질': 1353, '모': 1354, '눈': 1355, '기장': 1356, '어른': 1357, '쿠폰': 1358, '오염': 1359, '급하다': 1360, '어쩔': 1361, '모공': 1362, '봉투': 1363, '트러블': 1364, '바구니': 1365, '규격': 1366, '대요': 1367, '가게': 1368, '바퀴': 1369, '메롱': 1370, '뿌리': 1371, '뭉치': 1372, '즐기다': 1373, '예상': 1374, '우유': 1375, '테이프': 1376, '실물': 1377, '방석': 1378, '넘어지다': 1379, '슈즈': 1380, '무너지다': 1381, '색력': 1382, '분홍색': 1383, '썩다': 1384, '쫀쫀하': 1385, '먹히다': 1386, '사무실': 1387, '한가지': 1388, '싹': 1389, '중고품': 1390, '훨': 1391, '본드': 1392, '밥': 1393, '정말로': 1394, '미끄러지다': 1395, '손목': 1396, '좁쌀': 1397, '비염': 1398, '스럽지': 1399, '용하다': 1400, '줄어들다': 1401, '남': 1402, '풍선': 1403, '혹시': 1404, '기니피그': 1405, '귀지': 1406, '칼': 1407, '어머니': 1408, '굴러가다': 1409, '영상': 1410, '망하다': 1411, '음악': 1412, '곰팡이': 1413, '겠다': 1414, '배터리': 1415, '줄줄': 1416, '두루': 1417, '만원': 1418, '중단': 1419, '교재': 1420, '퍼지다': 1421, '불만': 1422, '방송': 1423, '윗': 1424, '써주다': 1425, '자가': 1426, '얼룩': 1427, '화이트': 1428, '달다': 1429, '졸업식': 1430, '티비': 1431, '장남': 1432, '갈라지다': 1433, '끝내주다': 1434, '달래': 1435, '덮다': 1436, '민감하다': 1437, '최저': 1438, '공주': 1439, '뽑다': 1440, '주일': 1441, '개판': 1442, '실패하다': 1443, '쿨링': 1444, '의외로': 1445, '상': 1446, '드': 1447, '머리띠': 1448, '쿨하다': 1449, '선전': 1450, '피지': 1451, '쏙쏙': 1452, '흐': 1453, '드럽다': 1454, '빗다': 1455, '보라색': 1456, '둘': 1457, '한참': 1458, '폴리에스터': 1459, '섞다': 1460, '보푸라기': 1461, '수신': 1462, '보태': 1463, '답터': 1464, '핸폰': 1465, '충전기': 1466, '끼': 1467, '리모콘': 1468, '복잡하다': 1469, '신고': 1470, '보라': 1471, '낚였다': 1472, '링': 1473, '발휘': 1474, '색칠': 1475, '열심히': 1476, '어설프다': 1477, '샤워': 1478, '바디': 1479, '워시': 1480, '인거': 1481, '색모': 1482, '래': 1483, '친철': 1484, '테': 1485, '환하다': 1486, '펄': 1487, '흐리다': 1488, '쓴다': 1489, '접촉': 1490, '답변': 1491, '균형': 1492, '바이올린': 1493, '광고인': 1494, '속성': 1495, '앉다': 1496, '이름': 1497, '낼': 1498, '느슨하다': 1499, '변색': 1500, '스며들다': 1501, '시큰둥': 1502, '관찰': 1503, '데리': 1504, '침': 1505, '두텁다': 1506, '컬링': 1507, '꾹': 1508, '입력': 1509, '끝판': 1510, '스크레치': 1511, '속상하다': 1512, '유기농': 1513, '쓸모없다': 1514, '그대': 1515, '파스텔': 1516, '우기다': 1517, '장미꽃': 1518, '세기': 1519, '위험하다': 1520, '싸이다': 1521, '광도': 1522, '밑위': 1523, '정지': 1524, '행사': 1525, '비올': 1526, '브랜드': 1527, '수영장': 1528, '가로세로': 1529, '적응하다': 1530, '미니': 1531, '성해': 1532, '와이프': 1533, '고해': 1534, '상황': 1535, '동해': 1536, '접이식': 1537, '튼실하다': 1538, '제로': 1539, '분기': 1540, '목적': 1541, '모니터': 1542, '모리': 1543, '움직임': 1544, '제한': 1545, '댓글': 1546, '사후관리': 1547, '유니크': 1548, '특이하다': 1549, '찌다': 1550, '쪽쪽이': 1551, '베이지': 1552, '예전': 1553, '기르다': 1554, '광': 1555, '꾸다': 1556, '기대다': 1557, '잠': 1558, '못자다': 1559, '매끈하다': 1560, '말림': 1561, '썰리다': 1562, '묶음': 1563, '등분': 1564, '보내오다': 1565, '들이다': 1566, '애매하다': 1567, '비듬': 1568, '치가': 1569, '캐릭터': 1570, '볼펜': 1571, '주시': 1572, '평보': 1573, '망설이다': 1574, '샤프': 1575, '컷': 1576, '중독': 1577, 'ㅋㅋㅋㅋㅋㅋ': 1578, '그럭저럭': 1579, '초기': 1580, '잘헹궈져': 1581, '정성껏': 1582, '라는': 1583, '다소': 1584, '천장': 1585, '부딪히다': 1586, '상담': 1587, '이요': 1588, '럼': 1589, '꼼꼼': 1590, '드디어': 1591, '수없이': 1592, '으로서': 1593, '하고프다': 1594, '샤프심': 1595, '상하좌우': 1596, '각도': 1597, '매력': 1598, '일석이조': 1599, '행주': 1600, '고무장갑': 1601, '등': 1602, '색소': 1603, 'ㅠㅠㅠㅠ': 1604, '성의': 1605, '이라는': 1606, '에러': 1607, '브러시': 1608, '모도': 1609, '토너': 1610, '휴': 1611, '괜': 1612, '충': 1613, '전시': 1614, '흠': 1615, '운전': 1616, '듣기': 1617, '포자': 1618, '응고': 1619, '올려놓다': 1620, '번호': 1621, '제본': 1622, '냥': 1623, '베개': 1624, '신뢰': 1625, '반짝반짝': 1626, '새우다': 1627, '달콤': 1628, '생생하다': 1629, '체험': 1630, '화끈': 1631, '아픔': 1632, '나라': 1633, '덜': 1634, '고맙다': 1635, '뿐더러': 1636, '시진': 1637, '로는': 1638, '쉬': 1639, '전기': 1640, '쪼이다': 1641, '칠이': 1642, '본인': 1643, '튜닝': 1644, '봉': 1645, '뜻': 1646, '깊다': 1647, '할러윈': 1648, '아이라인': 1649, '하기는': 1650, '사용설명서': 1651, 'ㅉㅉ': 1652, '컬': 1653, '둔하다': 1654, '상하': 1655, '부탁': 1656, '물줄기': 1657, '신': 1658, '밝아지다': 1659, '기계': 1660, '돌다': 1661, '경우': 1662, '녹다': 1663, '챙기다': 1664, '가정': 1665, '역도': 1666, '합체': 1667, '내려오다': 1668, '상토': 1669, '부피': 1670, '무늬': 1671, '애로': 1672, '맘에듭니': 1673, '버플': 1674, '번은': 1675, '통풍': 1676, '쓰러지다': 1677, '호환품': 1678, '전보': 1679, '젓다': 1680, '무심하다': 1681, '한텐': 1682, '귀가': 1683, '불편': 1684, '쾌적하다': 1685, '미니어쳐': 1686, '변도': 1687, '완두콩': 1688, '쇠고리': 1689, '착오': 1690, '구려': 1691, '자외선': 1692, '차단': 1693, '지수': 1694, '낮다': 1695, '하고는': 1696, '탁탁': 1697, '벌리다': 1698, '효용': 1699, '완젼': 1700, '사르다': 1701, '스폰지': 1702, '가슴': 1703, '량': 1704, '부족': 1705, '이번': 1706, '챙셔주시': 1707, '물통': 1708, '경제': 1709, '삐걱': 1710, '나이스': 1711, '변신': 1712, '끝소리': 1713, '미흡하다': 1714, '바둑판': 1715, '이라도': 1716, '식': 1717, '어쩌란거': 1718, '집다': 1719, '버렀어': 1720, '검정': 1721, '주': 1722, '가습기': 1723, '달력': 1724, '매년': 1725, '클렌징': 1726, '면도': 1727, '뼈대': 1728, '휘': 1729, '굿굿굿': 1730, '이니': 1731, '강풍': 1732, '눌린': 1733, '좋을껀데': 1734, '향기도': 1735, '텁텁하': 1736, '심헤': 1737, '국민': 1738, '치': 1739, '발기': 1740, '물질': 1741, '감안': 1742, '생산': 1743, '천주': 1744, '보강': 1745, '라니': 1746, '유에프오': 1747, '수업': 1748, '반사': 1749, '착불': 1750, '십': 1751, '프로': 1752, '에다가': 1753, '빈약하다': 1754, '마지못하다': 1755, '회전': 1756, '왕관': 1757, '방치': 1758, '안남다': 1759, '인견': 1760, '연휴': 1761, '리오네': 1762, '블로그': 1763, '부스러기': 1764, '호': 1765, '환도': 1766, '명도': 1767, '개정': 1768, '잘해주다': 1769, '다름없다': 1770, '들쑥날쑥하다': 1771, '으론': 1772, '총': 1773, '아이패드': 1774, '노노': 1775, '안함': 1776, '불가': 1777, '어이없다': 1778, '사보다': 1779, '둥이': 1780, '꺼끌꺼끌하다': 1781, '외손자': 1782, '쌍둥이': 1783, '소독기': 1784, '건전지': 1785, '다만': 1786, '값어치': 1787, '진': 1788, '작살': 1789, '이란': 1790, '방안': 1791, '알갱이': 1792, '호스': 1793, '붓다': 1794, '산산조각': 1795, '손등': 1796, '딴': 1797, '판이': 1798, '거지': 1799, '참나': 1800, '맙니': 1801, '다려지다': 1802, '대체': 1803, '사양': 1804, '폭도': 1805, '까다롭다': 1806, '놀리다': 1807, '아버님': 1808, '홈쇼핑': 1809, '보시': 1810, '해달라다': 1811, '수유': 1812, '죽지': 1813, '중포': 1814, '유딩들': 1815, '비굿': 1816, '다크': 1817, '써클': 1818, '가림': 1819, '제격': 1820, '함께': 1821, '나중': 1822, '진공': 1823, '모빌': 1824, '어뎁': 1825, '널리': 1826, '화가': 1827, '씨앗': 1828, '것임': 1829, '선지': 1830, '햄스터': 1831, '준': 1832, '녹이다': 1833, '군데군데': 1834, '서점': 1835, '사제품': 1836, '내려가다': 1837, '자세하다': 1838, '우울하다': 1839, '얘땜': 1840, '단골': 1841, '당연하다': 1842, '거고': 1843, '인상': 1844, '불능': 1845, '딸램': 1846, '졸업': 1847, '발진': 1848, '요한': 1849, '덮이다': 1850, '재미': 1851, '대서': 1852, '론데': 1853, '유리구두': 1854, '까진': 1855, '사이': 1856, '확인': 1857, '윙': 1858, '갈색': 1859, '하나요': 1860, '나머지': 1861, '방향': 1862, '어르신': 1863, '조잡': 1864, '미미하다': 1865, '부턴': 1866, '팬티': 1867, '신세계': 1868, '화이팅': 1869, '잔고': 1870, '장이': 1871, '헌': 1872, '서랍': 1873, '박히다': 1874, '씌우다': 1875, '다나': 1876, '당일': 1877, '진해': 1878, '매직': 1879, '스크래치': 1880, '가장자리': 1881, '습하다': 1882, '반개': 1883, '올': 1884, '엘리': 1885, '오르다': 1886, '음치': 1887, '밉다': 1888, '어린이날': 1889, '옆': 1890, '미끌거리다': 1891, '한마디': 1892, '헐다': 1893, '슬슬': 1894, '문지르다': 1895, '에어컨': 1896, '음량': 1897, '최': 1898, '대치': 1899, '볼트': 1900, '곧': 1901, '비행기': 1902, '엉': 1903, '시들시들하다': 1904, '노랗다': 1905, '거만': 1906, '시베리아': 1907, '긋다': 1908, '구경': 1909, '통째': 1910, '약속': 1911, '이구': 1912, '루즈핏': 1913, '번쩍번쩍': 1914, '딸도': 1915, '환상': 1916, '지혈': 1917, '마개': 1918, '엉덩이': 1919, '발판': 1920, '스탠': 1921, '딩': 1922, '플립': 1923, '뷰': 1924, '각': 1925, '비도': 1926, '강의': 1927, '주기도': 1928, '어수선하다': 1929, '시국': 1930, '흑': 1931, '극적': 1932, '지도': 1933, '뭘': 1934, '대부분': 1935, '곤란하다': 1936, '빼기': 1937, '태엽': 1938, '등등': 1939, '판': 1940, '뽀개져': 1941, '앵무새': 1942, '출력': 1943, '빠방': 1944, '모델': 1945, '쌓이다': 1946, '쪼물': 1947, '바가지': 1948, '기선': 1949, '잔소리': 1950, '큐브': 1951, '싫어하다': 1952, '전부': 1953, '무선': 1954, '햇': 1955, '갈리': 1956, '모양새': 1957, '스펀지': 1958, '쥐': 1959, '올해': 1960, '공책': 1961, '어보': 1962, '닌': 1963, '배앓이': 1964, '굳이': 1965, '찌꺼기': 1966, '모종': 1967, '중딩': 1968, '이정': 1969, '앞전': 1970, '진품': 1971, '재사용': 1972, '당장': 1973, '색연필': 1974, '도구': 1975, '사인': 1976, '센터': 1977, '림': 1978, '여자친구': 1979, '군데': 1980, '옆면': 1981, '상세': 1982, '페이지': 1983, '차이나다': 1984, '할머니': 1985, '수국': 1986, '감싸다': 1987, '바이러스': 1988, '널': 1989, '마무리': 1990, '무언가': 1991, '진주': 1992, '식이': 1993, '좌우': 1994, '대칭': 1995, '알곡': 1996, '보호될런': 1997, '의문': 1998, '후후': 1999, '붙이': 2000, '가위': 2001, '얼룩덜룩하다': 2002, '곱': 2003, '공원': 2004, '꺾다': 2005, '마르다': 2006, '오일': 2007, '이라기': 2008, '잘되지': 2009, '벌레': 2010, '성격': 2011, '가관': 2012, '벽': 2013, '명함': 2014, '손상': 2015, '표': 2016, '단어': 2017, '익히다': 2018, '마제': 2019, '최적화': 2020, '많아지다': 2021, '글쎄': 2022, '반짝반짝하다': 2023, '찍': 2024, '깃털': 2025, '캐논': 2026, '일본': 2027, '천도': 2028, '끌다': 2029, '단종': 2030, '가운데': 2031, '은줄': 2032, '홈': 2033, '수화기': 2034, '오타': 2035, '보온': 2036, '오지': 2037, '구성은': 2038, '보임': 2039, '에쁜': 2040, '행복하다': 2041, '자력': 2042, '산책': 2043, '자유도': 2044, '고개': 2045, '치면': 2046, '수건': 2047, '넣기': 2048, '참고': 2049, '세다': 2050, '멍': 2051, '검정색': 2052, '연주': 2053, '툼': 2054, '분사': 2055, '전동': 2056, '베리': 2057, '킬링타임': 2058, '액션영화': 2059, '헤드': 2060, '시원': 2061, '잠시': 2062, '대고': 2063, '체적': 2064, '사장': 2065, '불친절하다': 2066, '틀어놓다': 2067, '개운하다': 2068, '개발': 2069, '중요하다': 2070, '참석': 2071, '엄청나다': 2072, '개봉': 2073, '중복': 2074, '기구': 2075, '수학': 2076, '적합하다': 2077, '가면': 2078, '교체': 2079, '신공': 2080, '부리다': 2081, '던지다': 2082, '완벽하다': 2083, '맨발': 2084, '부들부들': 2085, '엉터리': 2086, '들쑥날숙': 2087, '제멋대로': 2088, '형태': 2089, '미가': 2090, '술함': 2091, '먹이다': 2092, '찌부러지다': 2093, '짱짱맨': 2094, '씨름': 2095, '당기다': 2096, '안주': 2097, '음안': 2098, '거금': 2099, '바쁘다': 2100, '안성맞춤': 2101, '튕김': 2102, '자녀': 2103, '야': 2104, '바나나': 2105, '완죤': 2106, '일치': 2107, '대처': 2108, '선셋': 2109, '쌍': 2110, '소프트': 2111, '그로': 2112, '인하다': 2113, '틈': 2114, '벌어지다': 2115, '익숙하다': 2116, '마시다': 2117, '비누': 2118, '라면': 2119, '서요': 2120, '당하다': 2121, '율기': 2122, '한눈': 2123, '쫀쫀해': 2124, '반대': 2125, '난': 2126, '홍조': 2127, '심해지다': 2128, '쨍': 2129, '밧데리': 2130, '흩날리다': 2131, '보통': 2132, '모습': 2133, '발못': 2134, '알맞다': 2135, '신용': 2136, '신기': 2137, '스푼': 2138, '목소리': 2139, '스키': 2140, '언니': 2141, '핀': 2142, '자부': 2143, '힐링': 2144, '긍정': 2145, '웜톤': 2146, '장미': 2147, '다가오다': 2148, '칫솔': 2149, '개발자': 2150, '칭찬': 2151, '마스카라': 2152, '벽면': 2153, '태도': 2154, '초점': 2155, '레': 2156, '고속': 2157, '이랬는데': 2158, '전면': 2159, '부': 2160, '상함': 2161, '뱉다': 2162, '유아': 2163, '랜덤': 2164, '훈훈하다': 2165, '모이': 2166, '추첩': 2167, '불안': 2168, '고소하다': 2169, '뉴질랜드': 2170, '청정': 2171, '스커트': 2172, '정확도': 2173, '신기면': 2174, '조금씩': 2175, '얼음': 2176, '꺼내다': 2177, '칼라': 2178, '어마어마하다': 2179, '발열': 2180, '만나다': 2181, '잇다': 2182, '배변': 2183, '스치다': 2184, '복불복': 2185, '사후': 2186, '평평하다': 2187, '양쪽': 2188, '갈수록': 2189, '기웁니': 2190, '퀵': 2191, '캡쳐': 2192, '섬세하다': 2193, '양면': 2194, '점도': 2195, '별개': 2196, '만점': 2197, '피부색': 2198, '공': 2199, '기압': 2200, '장애': 2201, '홀로그램': 2202, '인증': 2203, '빳빳하': 2204, '거슬리다': 2205, '두툼': 2206, '발목': 2207, '줄넘기': 2208, '산소': 2209, '조각': 2210, '프로그램': 2211, '필로': 2212, '표기': 2213, '뿐': 2214, '멀쩡하다': 2215, '습': 2216, '갑임': 2217, '핥다': 2218, '주식': 2219, '핵심': 2220, '화살': 2221, '안부': 2222, '치고': 2223, '흡족하다': 2224, '무리': 2225, '래야': 2226, '제조': 2227, '지난': 2228, '싱품': 2229, '떠보다': 2230, '지루하다': 2231, '이만': 2232, '간당간당': 2233, '용접': 2234, 'ㅎㅎㅎㅎㅎㅎ': 2235, '심지어': 2236, '아쿠아': 2237, '뭍': 2238, '양장': 2239, '귀퉁이': 2240, '남지': 2241, '방수': 2242, '어이': 2243, '켜지다': 2244, '쇼핑몰': 2245, '받치다': 2246, '개임': 2247, '사랑스럽다': 2248, '연결하다': 2249, '평생': 2250, '타자': 2251, '장치': 2252, '배선': 2253, '콩나물': 2254, '립니': 2255, '다섯': 2256, '당한': 2257, '여직원': 2258, '똑': 2259, '균': 2260, '령도': 2261, '조일': 2262, '떼': 2263, '검사': 2264, '실험': 2265, '결과': 2266, '햇빛': 2267, '출시': 2268, '젤리': 2269, '약해지다': 2270, '으로만': 2271, '컵': 2272, '흔적': 2273, '추강': 2274, '추': 2275, '쥐똥': 2276, '불륨': 2277, '막둥이': 2278, '어려움': 2279, '난리': 2280, '대박나다': 2281, '개수': 2282, '용이': 2283, '랍니': 2284, '브라가': 2285, '모유수유': 2286, 'ㅠㅜ': 2287, '캠핑': 2288, '디피용': 2289, '가려지다': 2290, '도형': 2291, '활착': 2292, '신발': 2293, '컴퓨터': 2294, '충돌': 2295, '대화': 2296, '운송': 2297, '덕지덕지': 2298, '어제': 2299, '옴': 2300, '눈물': 2301, '고등학생': 2302, '변기': 2303, '죽': 2304, '뻔': 2305, '전달': 2306, '건데': 2307, '전구': 2308, '필라멘트': 2309, '기어': 2310, '헛돕니': 2311, '전체': 2312, '더러워지다': 2313, '매다': 2314, '테두리': 2315, '비치다': 2316, '요딴': 2317, '무독': 2318, '한겨울': 2319, '안착': 2320, '성화': 2321, '건조': 2322, '증': 2323, '오류': 2324, '왼쪽': 2325, '트리': 2326, '거가': 2327, '견고': 2328, '씹히다': 2329, '팔이': 2330, '포기': 2331, '타이머': 2332, '낱말': 2333, '장화': 2334, '부각': 2335, '검다': 2336, '머마': 2337, '어마': 2338, '작동시키다': 2339, '석': 2340, '재생': 2341, '에세': 2342, '탄력': 2343, '흰색': 2344, '프린팅': 2345, '세심': 2346, '별반': 2347, '지네': 2348, '개요': 2349, '고리': 2350, '넘어가다': 2351, '턱': 2352, '앞쪽': 2353, '책가방': 2354, '맵': 2355, '흘러내리다': 2356, '쑥향': 2357, '도마': 2358, '감겨': 2359, '조일이': 2360, '덤': 2361, '들려주다': 2362, '별루임': 2363, '필통': 2364, '생육': 2365, '쭈쭈': 2366, '눕다': 2367, '그때': 2368, '직': 2369, '지치다': 2370, '음량조절': 2371, '뻣뻣하다': 2372, '보호대': 2373, '았습니': 2374, '건강': 2375, '예민하다': 2376, '쫀쫀': 2377, '지난번': 2378, '수경': 2379, '다라': 2380, '리얼': 2381, '사운드': 2382, '캔': 2383, '찌': 2384, '피아노': 2385, '가득': 2386, '마사지': 2387, '뾰족': 2388, '해주시': 2389, '펌': 2390, '낭비': 2391, '문구점': 2392, '사방': 2393, '팔방': 2394, '일리': 2395, '어르다': 2396, '책장': 2397, '간격': 2398, '누런': 2399, '양품': 2400, '단순': 2401, '연산': 2402, '파고': 2403, '한자': 2404, '편': 2405, '위생': 2406, '방문': 2407, '실외': 2408, '파래': 2409, '마음대로': 2410, '밑': 2411, '잠기다': 2412, '손수건': 2413, '또한': 2414, '담날': 2415, '완료': 2416, '장갑': 2417, '남자': 2418, '어찌': 2419, '천': 2420, '꼴': 2421, '부담스럽다': 2422, '부터는': 2423, '해결': 2424, '콜라보': 2425, '구리다': 2426, '기기': 2427, '블루투스': 2428, '주요': 2429, '챙': 2430, '구김': 2431, '예술인': 2432, '한두': 2433, '조악하다': 2434, '노랑': 2435, '범벅': 2436, '남편': 2437, '쟁여놓': 2438, '벨소리': 2439, '글루': 2440, '천해': 2441, '마르고': 2442, '성품': 2443, '허리': 2444, '보리': 2445, '극치': 2446, '강화': 2447, '고요': 2448, '감촉': 2449, '겨': 2450, '부르다': 2451, '반드시': 2452, '과자': 2453, '중고나라': 2454, '일일': 2455, '멀다': 2456, '음식': 2457, '중국어': 2458, '락킹': 2459, '소형': 2460, '비데': 2461, '남친': 2462, '다운': 2463, '꺼리다': 2464, '표면': 2465, '수족관': 2466, '꼬맹이': 2467, '가을': 2468, '헐렁거리': 2469, '스타일': 2470, '악세사리': 2471, '저온': 2472, '기부': 2473, '파악': 2474, '대루': 2475, '베스트': 2476, '메인보드': 2477, '고사리': 2478, '주기': 2479, '용지': 2480, '만족감': 2481, '뚫리다': 2482, '싸다니다': 2483, '조그만': 2484, '행운목': 2485, '복': 2486, '장식': 2487, '화려하다': 2488, '진동': 2489, '생': 2490, '아무튼': 2491, '카시트': 2492, '연습기': 2493, '그런데': 2494, '율': 2495, '중간': 2496, '몰딩': 2497, '코끼리': 2498, '뻥': 2499, '압력': 2500, '반응': 2501, '루': 2502, '도도': 2503, '칠': 2504, '순': 2505, '잔치': 2506, '지만': 2507, '용다': 2508, '제작': 2509, '보다도': 2510, '욕먹다': 2511, '발톱': 2512, '잘리다': 2513, '빛': 2514, '큼지막하다': 2515, '유효': 2516, '기간': 2517, '설정': 2518, '유축기': 2519, '분해': 2520, '먹이': 2521, '백화점': 2522, '맡다': 2523, '전산': 2524, '떨어뜨리다': 2525, '짦아': 2526, '저금': 2527, '불면': 2528, '삭았': 2529, '쇼': 2530, '볼품': 2531, '앞다리': 2532, '잘빠지다': 2533, '앞머리': 2534, '소유자': 2535, '저녁': 2536, '확': 2537, '흐물흐물': 2538, '놓치다': 2539, '뿜어내다': 2540, '열풍': 2541, '골드': 2542, '밀봉': 2543, '무진장': 2544, '하얗다': 2545, '과장': 2546, '광채': 2547, '솔': 2548, '극': 2549, '강건': 2550, '작렬': 2551, '헬템': 2552, '대가': 2553, '위아래': 2554, '구분': 2555, '홈스쿨링': 2556, '가로': 2557, '가구': 2558, '그리고': 2559, '막내': 2560, '찾아보다': 2561, '안정': 2562, '팩트': 2563, '거울': 2564, '에여': 2565, '부적': 2566, '쎄다': 2567, '수저': 2568, '쫙': 2569, '음식물': 2570, '약효': 2571, '미비하다': 2572, '수면': 2573, '모드': 2574, '무식하다': 2575, '룩': 2576, '로또': 2577, '그날': 2578, '꺼지다': 2579, '호도': 2580, '소장': 2581, '느껴지다': 2582, '겉도': 2583, '칸칸이': 2584, '나뉘다': 2585, '푹신하다': 2586, '사료': 2587, '알도': 2588, '물씬': 2589, '마음껏': 2590, '편집디자인': 2591, '년대': 2592, '만화책': 2593, '가독성': 2594, '입문': 2595, '황당하다': 2596, '강력하다': 2597, '댕댕': 2598, '패키지': 2599, '열악하다': 2600, '변동': 2601, '착색': 2602, '쓸데없이': 2603, '렉': 2604, '동영상': 2605, '외': 2606, '지갑': 2607, '쪼끔': 2608, '밀리': 2609, '높낮이': 2610, '사가': 2611, '병아리': 2612, '혜자': 2613, '정해진': 2614, '바': 2615, '중국산': 2616, '그래픽카드': 2617, '뒤쪽': 2618, '손녀': 2619, '활기차다': 2620, '제발': 2621, '싸이': 2622, '괜찬네': 2623, '텐트': 2624, '두드러기': 2625, '완': 2626, '소량': 2627, '폭탄': 2628, '불량하다': 2629, '윤기': 2630, '상자': 2631, '더도': 2632, '덜다': 2633, '실내': 2634, '야외': 2635, '나무': 2636, '즉': 2637, '아버지': 2638, '템': 2639, '누럼': 2640, '딱좋다': 2641, '무게중심': 2642, '커브': 2643, '아이디어': 2644, '점심시간': 2645, '사다리게임': 2646, '대신': 2647, '분위기': 2648, '갈림': 2649, '저학년': 2650, '계획': 2651, '조그맣다': 2652, '잡': 2653, '동사': 2654, '견디다': 2655, '이끼': 2656, '노란색': 2657, '헐렁하다': 2658, '벤토': 2659, '나이트': 2660, '열다': 2661, '납': 2662, '물러서다': 2663, '산듯': 2664, '듬성하다': 2665, '업무': 2666, '칼날': 2667, '폭': 2668, '무적': 2669, '이천원': 2670, '요전': 2671, '레드': 2672, '직도': 2673, '자판': 2674, '숨': 2675, '시리즈': 2676, '오오': 2677, '어딘가': 2678, '부모님': 2679, '댁': 2680, '포': 2681, '안다': 2682, '재미없다': 2683, '이지만': 2684, '그래도': 2685, '반질반질': 2686, '미끌미끌': 2687, '팬': 2688, '계절': 2689, '흔': 2690, '첫째': 2691, '민트': 2692, '그린': 2693, '샵': 2694, '이보': 2695, '텃밭': 2696, '남기다': 2697, '입구': 2698, '동생': 2699, '넓이': 2700, '워낙': 2701, '유명하다': 2702, '구도': 2703, '해드리다': 2704, '곡면': 2705, '펌핑': 2706, '효고': 2707, '고르다': 2708, '육만원': 2709, '팝업': 2710, '북': 2711, '냐': 2712, '래빗': 2713, '추석': 2714, '안녕하다': 2715, '달이': 2716, '영화': 2717, '우선': 2718, 'ㅡㅜ': 2719, '살아오다': 2720, '홍보': 2721, '맥혀': 2722, '니깐': 2723, '며': 2724, '와이어': 2725, '엄처': 2726, '러블리': 2727, '오후': 2728, '삑삑': 2729, '공기': 2730, '압도': 2731, '장모님': 2732, '가능': 2733, '세탁기': 2734, '물다': 2735, '문구': 2736, '세련': 2737, '말랑말랑하다': 2738, '론': 2739, '가보다': 2740, '휴대폰': 2741, '손해': 2742, '바랬어': 2743, '스티': 2744, '꺼': 2745, '벗기다': 2746, '저서': 2747, '새롭다': 2748, '불발': 2749, '돌림': 2750, '여분': 2751, '체감': 2752, '아가': 2753, '젖병': 2754, '젖꼭지': 2755, '관리': 2756, '익다': 2757, '망고': 2758, '달콤하다': 2759, '암': 2760, '기법': 2761, '역사': 2762, '걷다': 2763, '고루': 2764, '도저히': 2765, '반발력': 2766, '허리띠': 2767, '풀어지다': 2768, '스마트폰': 2769, '퀼리티': 2770, '자안': 2771, '스티로폼': 2772, '도드라지다': 2773, '질감': 2774, '이며': 2775, '커피한잔': 2776, '여유': 2777, '세부': 2778, '겁': 2779, '작년': 2780, '크게': 2781, '담요': 2782, '날씨': 2783, '바닥재': 2784, '봉지': 2785, '인터넷': 2786, '뼈': 2787, '저리': 2788, '사항': 2789, '반영': 2790, '가끔': 2791, '틀어지다': 2792, '레몬': 2793, '포도': 2794, '태우다': 2795, '테스트': 2796, '로만': 2797, '아쉬움': 2798, '가라': 2799, '편입': 2800, '여물': 2801, '냉기': 2802, '정기': 2803, '쿨톤': 2804, '에게는': 2805, '한계': 2806, '솔이': 2807, 'ㅉ': 2808, '우아': 2809, '화상': 2810, '진행': 2811, '꽃다발': 2812, '교육': 2813, '현미경': 2814, '독하다': 2815, '바짝': 2816, '혼합': 2817, '남고': 2818, '무': 2819, '어딘': 2820, '군': 2821, '철사': 2822, '맘대로': 2823, '돌아다니다': 2824, '슬림해': 2825, '장점': 2826, '리필': 2827, '창의성': 2828, '야채': 2829, '출사': 2830, '다듬다': 2831}\n"
          ]
        }
      ]
    },
    {
      "cell_type": "markdown",
      "source": [
        "### 등장 빈도수가 n회 미만인 단어들이 이 데이터에서 얼만큼의 비중을 차지하는지 확인"
      ],
      "metadata": {
        "id": "9w8rBFwIYM4R"
      }
    },
    {
      "cell_type": "code",
      "source": [
        "threshold = 2\n",
        "total_cnt = len(tokenizer.word_index) # 단어의 수\n",
        "rare_cnt = 0 # 등장 빈도수가 threshold보다 작은 단어의 개수를 카운트\n",
        "total_freq = 0 # 훈련 데이터의 전체 단어 빈도수 총 합\n",
        "rare_freq = 0 # 등장 빈도수가 threshold보다 작은 단어의 등장 빈도수의 총 합\n",
        "\n",
        "# 단어와 빈도수의 쌍(pair)을 key와 value로 받는다.\n",
        "for key, value in tokenizer.word_counts.items():\n",
        "    total_freq = total_freq + value\n",
        "\n",
        "    # 단어의 등장 빈도수가 threshold보다 작으면\n",
        "    if(value < threshold):\n",
        "        rare_cnt = rare_cnt + 1\n",
        "        rare_freq = rare_freq + value\n",
        "\n",
        "print('단어 집합(vocabulary)의 크기 :',total_cnt)\n",
        "print('등장 빈도가 %s번 이하인 희귀 단어의 수: %s'%(threshold - 1, rare_cnt))\n",
        "print(\"단어 집합에서 희귀 단어의 비율:\", (rare_cnt / total_cnt)*100)\n",
        "print(\"전체 등장 빈도에서 희귀 단어 등장 빈도 비율:\", (rare_freq / total_freq)*100)"
      ],
      "metadata": {
        "colab": {
          "base_uri": "https://localhost:8080/"
        },
        "id": "cuZMGSeXYCyo",
        "outputId": "9910e5e9-c1d7-49a2-f390-5a2a5c5ba4bd"
      },
      "execution_count": null,
      "outputs": [
        {
          "output_type": "stream",
          "name": "stdout",
          "text": [
            "단어 집합(vocabulary)의 크기 : 2831\n",
            "등장 빈도가 1번 이하인 희귀 단어의 수: 1385\n",
            "단어 집합에서 희귀 단어의 비율: 48.92264217590957\n",
            "전체 등장 빈도에서 희귀 단어 등장 빈도 비율: 6.709621160740238\n"
          ]
        }
      ]
    },
    {
      "cell_type": "markdown",
      "source": [
        "등장 빈도가 3회 미만인 단어들이 10퍼센트 넘게 차지해서 2회로 바꾸어 보았는데도 약 7퍼센트라서 1회를 해보았더니 그건 없어서 제외하지 않기로 결정"
      ],
      "metadata": {
        "id": "EJL4T7SPYhMH"
      }
    },
    {
      "cell_type": "markdown",
      "source": [
        "### 단어 집합의 크기를 케라스 토크나이저의 인자로 넘겨주고 텍스트 시퀀스를 정수 시퀀스로 변환"
      ],
      "metadata": {
        "id": "btyWYhvdYxuv"
      }
    },
    {
      "cell_type": "code",
      "source": [
        "tokenizer = Tokenizer(len(tokenizer.word_index) + 1)\n",
        "tokenizer.fit_on_texts(X_train)"
      ],
      "metadata": {
        "id": "n182WN1baH79"
      },
      "execution_count": null,
      "outputs": []
    },
    {
      "cell_type": "code",
      "source": [
        "X_train = tokenizer.texts_to_sequences(X_train)\n",
        "X_test = tokenizer.texts_to_sequences(X_test)"
      ],
      "metadata": {
        "id": "7OqXPLWiYg49"
      },
      "execution_count": null,
      "outputs": []
    },
    {
      "cell_type": "code",
      "source": [
        "print(X_train[:3])\n",
        "print(X_test[:3])"
      ],
      "metadata": {
        "colab": {
          "base_uri": "https://localhost:8080/"
        },
        "id": "l7wNJVgRYWim",
        "outputId": "d8e84287-d1e0-43e8-f94f-37e809e476d0"
      },
      "execution_count": null,
      "outputs": [
        {
          "output_type": "stream",
          "name": "stdout",
          "text": [
            "[[807, 2, 9, 225, 273, 75, 11, 25, 117, 6], [15, 49, 6, 808, 225], [226, 113, 118, 177, 374, 178, 61]]\n",
            "[[427, 227, 34, 112], [2, 9, 22, 7, 397, 79], [50, 4]]\n"
          ]
        }
      ]
    },
    {
      "cell_type": "markdown",
      "source": [
        "### y_train, y_test 저장"
      ],
      "metadata": {
        "id": "p4Tic7SFbi_Z"
      }
    },
    {
      "cell_type": "code",
      "source": [
        "y_train = np.array(df_train['label'])\n",
        "y_test = np.array(df_test['label'])"
      ],
      "metadata": {
        "id": "WRd8AZYYZeqU"
      },
      "execution_count": null,
      "outputs": []
    },
    {
      "cell_type": "markdown",
      "source": [
        "### 빈 샘플 제거"
      ],
      "metadata": {
        "id": "dQrOHIsnb0YR"
      }
    },
    {
      "cell_type": "code",
      "source": [
        "len(X_train), len(y_train)"
      ],
      "metadata": {
        "colab": {
          "base_uri": "https://localhost:8080/"
        },
        "id": "83D9j_KYeyrC",
        "outputId": "7989962f-9e57-4a58-c099-247e824844d3"
      },
      "execution_count": null,
      "outputs": [
        {
          "output_type": "execute_result",
          "data": {
            "text/plain": [
              "(3649, 3649)"
            ]
          },
          "metadata": {},
          "execution_count": 35
        }
      ]
    },
    {
      "cell_type": "code",
      "source": [
        "drop_train = [index for index, sentence in enumerate(X_train) if len(sentence) < 1]"
      ],
      "metadata": {
        "id": "YB0V7lqojUQr"
      },
      "execution_count": null,
      "outputs": []
    },
    {
      "cell_type": "code",
      "source": [
        "xt = np.delete(X_train, drop_train, axis=0)\n",
        "yt = np.delete(y_train, drop_train, axis=0)\n",
        "len(xt), len(yt)"
      ],
      "metadata": {
        "colab": {
          "base_uri": "https://localhost:8080/"
        },
        "id": "PeCnuZwTjIS7",
        "outputId": "c87c6159-a72e-4cc8-8a0b-3351e32fe1a4"
      },
      "execution_count": null,
      "outputs": [
        {
          "output_type": "stream",
          "name": "stderr",
          "text": [
            "/usr/local/lib/python3.10/dist-packages/numpy/lib/function_base.py:5030: VisibleDeprecationWarning: Creating an ndarray from ragged nested sequences (which is a list-or-tuple of lists-or-tuples-or ndarrays with different lengths or shapes) is deprecated. If you meant to do this, you must specify 'dtype=object' when creating the ndarray.\n",
            "  arr = asarray(arr)\n"
          ]
        },
        {
          "output_type": "execute_result",
          "data": {
            "text/plain": [
              "(3648, 3648)"
            ]
          },
          "metadata": {},
          "execution_count": 37
        }
      ]
    },
    {
      "cell_type": "markdown",
      "source": [
        "빈 샘플 제거할 필요 없음"
      ],
      "metadata": {
        "id": "LGx7TmD0jfo0"
      }
    },
    {
      "cell_type": "markdown",
      "source": [
        "## 패딩"
      ],
      "metadata": {
        "id": "Ec5uncXycZJ9"
      }
    },
    {
      "cell_type": "code",
      "source": [
        "print('리뷰의 최대 길이 :',max(len(review) for review in X_train))\n",
        "print('리뷰의 평균 길이 :',sum(map(len, X_train))/len(X_train))\n",
        "plt.hist([len(review) for review in X_train], bins=50)\n",
        "plt.xlabel('length of samples')\n",
        "plt.ylabel('number of samples')\n",
        "plt.show()"
      ],
      "metadata": {
        "colab": {
          "base_uri": "https://localhost:8080/",
          "height": 486
        },
        "id": "ZV3UpUeocAif",
        "outputId": "3f75aef7-2b05-44cd-dd32-f1731ae17bd5"
      },
      "execution_count": null,
      "outputs": [
        {
          "output_type": "stream",
          "name": "stdout",
          "text": [
            "리뷰의 최대 길이 : 16\n",
            "리뷰의 평균 길이 : 5.656892299260071\n"
          ]
        },
        {
          "output_type": "display_data",
          "data": {
            "text/plain": [
              "<Figure size 640x480 with 1 Axes>"
            ],
            "image/png": "[encoded data removed]"
          },
          "metadata": {}
        }
      ]
    },
    {
      "cell_type": "code",
      "source": [
        "def below_threshold_len(max_len, nested_list):\n",
        "  count = 0\n",
        "  for sentence in nested_list:\n",
        "    if(len(sentence) <= max_len):\n",
        "        count = count + 1\n",
        "  print('전체 샘플 중 길이가 %s 이하인 샘플의 비율: %s'%(max_len, (count / len(nested_list))*100))"
      ],
      "metadata": {
        "id": "-68RMaSWcdbm"
      },
      "execution_count": null,
      "outputs": []
    },
    {
      "cell_type": "code",
      "source": [
        "max_len = 12\n",
        "below_threshold_len(max_len, X_train)"
      ],
      "metadata": {
        "colab": {
          "base_uri": "https://localhost:8080/"
        },
        "id": "XL8Bcy5Ycjlc",
        "outputId": "66f7ae48-ed43-41e9-bfd8-95067a357190"
      },
      "execution_count": null,
      "outputs": [
        {
          "output_type": "stream",
          "name": "stdout",
          "text": [
            "전체 샘플 중 길이가 12 이하인 샘플의 비율: 98.93121403124144\n"
          ]
        }
      ]
    },
    {
      "cell_type": "code",
      "source": [
        "X_train = pad_sequences(X_train, maxlen=max_len)\n",
        "X_test = pad_sequences(X_test, maxlen=max_len)"
      ],
      "metadata": {
        "id": "dhaRasu7ctS7"
      },
      "execution_count": null,
      "outputs": []
    },
    {
      "cell_type": "markdown",
      "source": [
        "# CNN을 이용한 리뷰 분류"
      ],
      "metadata": {
        "id": "5gg0V8CedYsd"
      }
    },
    {
      "cell_type": "code",
      "source": [
        "from tensorflow.keras.models import Sequential\n",
        "from tensorflow.keras.layers import Embedding, Dropout, Conv1D, GlobalMaxPooling1D, Dense\n",
        "from tensorflow.keras.callbacks import EarlyStopping, ModelCheckpoint\n",
        "from tensorflow.keras.models import load_model"
      ],
      "metadata": {
        "id": "XPMQfMkLc3r_"
      },
      "execution_count": null,
      "outputs": []
    },
    {
      "cell_type": "code",
      "source": [
        "print('X_train의 크기(shape) :',X_train.shape)\n",
        "print('X_test의 크기(shape) :',X_test.shape)"
      ],
      "metadata": {
        "colab": {
          "base_uri": "https://localhost:8080/"
        },
        "id": "JMTyhBDGdrZ1",
        "outputId": "d52acc74-c0b4-4e7c-a5ce-7c3bdd84a5d8"
      },
      "execution_count": null,
      "outputs": [
        {
          "output_type": "stream",
          "name": "stdout",
          "text": [
            "X_train의 크기(shape) : (3649, 12)\n",
            "X_test의 크기(shape) : (397, 12)\n"
          ]
        }
      ]
    },
    {
      "cell_type": "code",
      "source": [
        "print(y_train[:5])"
      ],
      "metadata": {
        "colab": {
          "base_uri": "https://localhost:8080/"
        },
        "id": "B1TLy2jldxeY",
        "outputId": "9f23c608-fcd7-4178-bd7b-05f09c59ea37"
      },
      "execution_count": null,
      "outputs": [
        {
          "output_type": "stream",
          "name": "stdout",
          "text": [
            "[0 0 0 1 1]\n"
          ]
        }
      ]
    },
    {
      "cell_type": "code",
      "source": [
        "vocab_size = 3647"
      ],
      "metadata": {
        "id": "fvhQKrmZd888"
      },
      "execution_count": null,
      "outputs": []
    },
    {
      "cell_type": "code",
      "source": [
        "embedding_dim = 128 # 임베딩 벡터의 차원\n",
        "dropout_ratio = 0.2 # 드롭아웃 비율\n",
        "num_filters = 128 # 커널의 수\n",
        "kernel_size = 2 # 커널의 크기\n",
        "hidden_units = 128 # 뉴런의 수\n",
        "\n",
        "model = Sequential()\n",
        "model.add(Embedding(vocab_size, embedding_dim))\n",
        "model.add(Dropout(dropout_ratio))\n",
        "model.add(Conv1D(num_filters, kernel_size, padding='valid', activation='relu'))\n",
        "model.add(GlobalMaxPooling1D())\n",
        "model.add(Dense(hidden_units, activation='relu'))\n",
        "model.add(Dropout(dropout_ratio))\n",
        "model.add(Dense(1, activation='sigmoid'))\n",
        "\n",
        "es = EarlyStopping(monitor='val_loss', mode='min', verbose=1, patience=3)\n",
        "mc = ModelCheckpoint('best_model.h5', monitor='val_acc', mode='max', verbose=1, save_best_only=True)\n",
        "\n",
        "model.compile(optimizer='adam', loss='binary_crossentropy', metrics=['acc'])\n",
        "history = model.fit(X_train, y_train, epochs=20, validation_data=(X_test, y_test), callbacks=[es, mc])"
      ],
      "metadata": {
        "colab": {
          "base_uri": "https://localhost:8080/"
        },
        "id": "-vunCVc1dd-S",
        "outputId": "b591132e-8c4c-4a80-b813-df580b59922f"
      },
      "execution_count": null,
      "outputs": [
        {
          "output_type": "stream",
          "name": "stdout",
          "text": [
            "Epoch 1/20\n",
            "115/115 [==============================] - ETA: 0s - loss: 0.4195 - acc: 0.8142\n",
            "Epoch 1: val_acc improved from -inf to 0.71285, saving model to best_model.h5\n",
            "115/115 [==============================] - 9s 69ms/step - loss: 0.4195 - acc: 0.8142 - val_loss: 0.6587 - val_acc: 0.7128\n",
            "Epoch 2/20\n",
            "115/115 [==============================] - ETA: 0s - loss: 0.1101 - acc: 0.9625\n",
            "Epoch 2: val_acc improved from 0.71285 to 0.71788, saving model to best_model.h5\n",
            "115/115 [==============================] - 2s 17ms/step - loss: 0.1101 - acc: 0.9625 - val_loss: 0.7824 - val_acc: 0.7179\n",
            "Epoch 3/20\n",
            "115/115 [==============================] - ETA: 0s - loss: 0.0425 - acc: 0.9888\n",
            "Epoch 3: val_acc did not improve from 0.71788\n",
            "115/115 [==============================] - 2s 16ms/step - loss: 0.0425 - acc: 0.9888 - val_loss: 0.9982 - val_acc: 0.7103\n",
            "Epoch 4/20\n",
            "111/115 [===========================>..] - ETA: 0s - loss: 0.0136 - acc: 0.9980\n",
            "Epoch 4: val_acc did not improve from 0.71788\n",
            "115/115 [==============================] - 1s 5ms/step - loss: 0.0151 - acc: 0.9975 - val_loss: 1.2057 - val_acc: 0.7154\n",
            "Epoch 4: early stopping\n"
          ]
        }
      ]
    },
    {
      "cell_type": "code",
      "source": [
        "loaded_model = load_model('best_model.h5')\n",
        "print(\"\\n 테스트 정확도: %.4f\" % (loaded_model.evaluate(X_test, y_test)[1]))"
      ],
      "metadata": {
        "colab": {
          "base_uri": "https://localhost:8080/"
        },
        "id": "qB6PNrr2d_iO",
        "outputId": "3e487a6f-46d1-4985-f466-0c3485d2dd12"
      },
      "execution_count": null,
      "outputs": [
        {
          "output_type": "stream",
          "name": "stdout",
          "text": [
            "13/13 [==============================] - 0s 2ms/step - loss: 0.7824 - acc: 0.7179\n",
            "\n",
            " 테스트 정확도: 0.7179\n"
          ]
        }
      ]
    }
  ]
}